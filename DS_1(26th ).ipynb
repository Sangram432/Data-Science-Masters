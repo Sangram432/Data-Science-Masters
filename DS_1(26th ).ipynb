{
 "cells": [
  {
   "cell_type": "code",
   "execution_count": 1,
   "id": "111c2c33-b13b-4b11-8af5-0b0018bdf5b6",
   "metadata": {},
   "outputs": [],
   "source": [
    "a=10"
   ]
  },
  {
   "cell_type": "code",
   "execution_count": 2,
   "id": "8cf5a8c6-3db1-45dd-ad7b-2b5702871ded",
   "metadata": {},
   "outputs": [
    {
     "data": {
      "text/plain": [
       "20"
      ]
     },
     "execution_count": 2,
     "metadata": {},
     "output_type": "execute_result"
    }
   ],
   "source": [
    "a+a"
   ]
  },
  {
   "cell_type": "code",
   "execution_count": 3,
   "id": "0fc18455-5364-4597-bc03-848349c1f87b",
   "metadata": {},
   "outputs": [
    {
     "data": {
      "text/plain": [
       "100"
      ]
     },
     "execution_count": 3,
     "metadata": {},
     "output_type": "execute_result"
    }
   ],
   "source": [
    "a*a"
   ]
  },
  {
   "cell_type": "code",
   "execution_count": 6,
   "id": "acdf2533-60b8-4900-b9af-14b986384897",
   "metadata": {},
   "outputs": [],
   "source": [
    "#is used for single line comment .\n"
   ]
  },
  {
   "cell_type": "code",
   "execution_count": 7,
   "id": "ce0a2d02-f374-44f5-b72a-a4f234d09ade",
   "metadata": {},
   "outputs": [],
   "source": [
    "## is used for double line comment\n"
   ]
  },
  {
   "cell_type": "code",
   "execution_count": 8,
   "id": "bd0d554b-0434-4a6b-9ab8-3d292e4e181e",
   "metadata": {},
   "outputs": [
    {
     "data": {
      "text/plain": [
       "20"
      ]
     },
     "execution_count": 8,
     "metadata": {},
     "output_type": "execute_result"
    }
   ],
   "source": [
    "'''This used for multiline comments\n",
    "this can be also\n",
    "this is an coomet \n",
    "this is a point'''\n",
    "a =20\n",
    "a"
   ]
  },
  {
   "cell_type": "markdown",
   "id": "29d4df1f-9c07-4d65-b62f-8cc1896e9cda",
   "metadata": {},
   "source": [
    "Hello Morto"
   ]
  },
  {
   "cell_type": "markdown",
   "id": "9a38031a-af01-46c2-b262-a73208dc938b",
   "metadata": {},
   "source": [
    "How you doing "
   ]
  },
  {
   "cell_type": "markdown",
   "id": "b982d3bb-4aec-47d5-921f-fca6951ebcbf",
   "metadata": {},
   "source": [
    "NUMBERS:-"
   ]
  },
  {
   "cell_type": "code",
   "execution_count": 11,
   "id": "2b675628-ec0b-455b-8225-103f9df4b0cf",
   "metadata": {},
   "outputs": [
    {
     "data": {
      "text/plain": [
       "4"
      ]
     },
     "execution_count": 11,
     "metadata": {},
     "output_type": "execute_result"
    }
   ],
   "source": [
    "1+3"
   ]
  },
  {
   "cell_type": "code",
   "execution_count": 13,
   "id": "d44a5e44-d494-4b87-9253-ce1e6636dc6c",
   "metadata": {},
   "outputs": [
    {
     "name": "stdout",
     "output_type": "stream",
     "text": [
      "4\n"
     ]
    }
   ],
   "source": [
    "print(1+3)"
   ]
  },
  {
   "cell_type": "code",
   "execution_count": 14,
   "id": "9aacfc18-7e5c-4eae-8287-1dbfe96ab9c0",
   "metadata": {},
   "outputs": [
    {
     "name": "stdout",
     "output_type": "stream",
     "text": [
      "Hello World\n"
     ]
    }
   ],
   "source": [
    "print(\"Hello World\")"
   ]
  },
  {
   "cell_type": "code",
   "execution_count": 15,
   "id": "bf730fc4-5bda-40e0-9fc3-91ae8b56df34",
   "metadata": {},
   "outputs": [
    {
     "name": "stdout",
     "output_type": "stream",
     "text": [
      "Hello World, My Nmae Is Khan \n"
     ]
    }
   ],
   "source": [
    "print(\"Hello World, My Nmae Is Khan \")"
   ]
  },
  {
   "cell_type": "code",
   "execution_count": 17,
   "id": "f5fdc1ba-5464-42f5-9223-0cecadce4a45",
   "metadata": {},
   "outputs": [
    {
     "name": "stdout",
     "output_type": "stream",
     "text": [
      "Hello World, My Nmae Is Khan \n",
      " i work in a IT Company\n"
     ]
    }
   ],
   "source": [
    "print(\"Hello World, My Nmae Is Khan \\n i work in a IT Company\")"
   ]
  },
  {
   "cell_type": "code",
   "execution_count": 21,
   "id": "be8c681a-f91e-46f0-b5b7-89229601e6d6",
   "metadata": {},
   "outputs": [
    {
     "name": "stdout",
     "output_type": "stream",
     "text": [
      "Hello World, My Nmae Is Khan \n",
      "I work in a IT Company \n",
      "My Base Location is Pune \n"
     ]
    }
   ],
   "source": [
    "print(\"Hello World, My Nmae Is Khan \\nI work in a IT Company \\nMy Base Location is Pune \")"
   ]
  },
  {
   "cell_type": "code",
   "execution_count": null,
   "id": "5dd18bd5-2566-457f-8911-88ee62100d9d",
   "metadata": {},
   "outputs": [],
   "source": []
  },
  {
   "cell_type": "code",
   "execution_count": null,
   "id": "10656552-aeb9-44d9-a76e-2720dae4c1e5",
   "metadata": {},
   "outputs": [],
   "source": []
  },
  {
   "cell_type": "markdown",
   "id": "681a6e52-cb47-4506-9aed-a4794a3d8f65",
   "metadata": {},
   "source": [
    "Variable Assignment :-"
   ]
  },
  {
   "cell_type": "code",
   "execution_count": 22,
   "id": "745c601d-94b3-44b1-b3fa-0c6412c07332",
   "metadata": {},
   "outputs": [],
   "source": [
    "Name = \"Sangram\"\n",
    "Company = \"Infosys\""
   ]
  },
  {
   "cell_type": "code",
   "execution_count": 23,
   "id": "20a1a94f-eb6e-4b57-9e74-3af42a168985",
   "metadata": {},
   "outputs": [
    {
     "data": {
      "text/plain": [
       "'Sangram'"
      ]
     },
     "execution_count": 23,
     "metadata": {},
     "output_type": "execute_result"
    }
   ],
   "source": [
    "Name"
   ]
  },
  {
   "cell_type": "code",
   "execution_count": 24,
   "id": "cec8f446-72b1-4183-8b14-3886b3a167d8",
   "metadata": {},
   "outputs": [
    {
     "data": {
      "text/plain": [
       "'Infosys'"
      ]
     },
     "execution_count": 24,
     "metadata": {},
     "output_type": "execute_result"
    }
   ],
   "source": [
    "Company"
   ]
  },
  {
   "cell_type": "code",
   "execution_count": 28,
   "id": "a8d795d3-ff4a-48cf-979d-d7c028dd7d66",
   "metadata": {},
   "outputs": [
    {
     "data": {
      "text/plain": [
       "str"
      ]
     },
     "execution_count": 28,
     "metadata": {},
     "output_type": "execute_result"
    }
   ],
   "source": [
    "type(Name)"
   ]
  },
  {
   "cell_type": "code",
   "execution_count": 29,
   "id": "d231c00a-d738-4ed8-8550-7dd0c70322a0",
   "metadata": {},
   "outputs": [
    {
     "data": {
      "text/plain": [
       "str"
      ]
     },
     "execution_count": 29,
     "metadata": {},
     "output_type": "execute_result"
    }
   ],
   "source": [
    "type(Company)"
   ]
  },
  {
   "cell_type": "code",
   "execution_count": 30,
   "id": "e101e1d0-f89e-408a-aafc-9f5690f2547d",
   "metadata": {},
   "outputs": [
    {
     "data": {
      "text/plain": [
       "str"
      ]
     },
     "execution_count": 30,
     "metadata": {},
     "output_type": "execute_result"
    }
   ],
   "source": [
    "type(\" \")"
   ]
  },
  {
   "cell_type": "code",
   "execution_count": 31,
   "id": "68e7c936-622c-41f7-976c-d7b7f1d20fa8",
   "metadata": {},
   "outputs": [
    {
     "data": {
      "text/plain": [
       "float"
      ]
     },
     "execution_count": 31,
     "metadata": {},
     "output_type": "execute_result"
    }
   ],
   "source": [
    "type(2.5)"
   ]
  },
  {
   "cell_type": "code",
   "execution_count": 32,
   "id": "fa3abccb-a73e-4a8f-821a-bfb3c0e77703",
   "metadata": {},
   "outputs": [],
   "source": [
    "prc = 2.8"
   ]
  },
  {
   "cell_type": "code",
   "execution_count": 33,
   "id": "82430951-491e-45ed-9fbd-904864b0a7c0",
   "metadata": {},
   "outputs": [
    {
     "data": {
      "text/plain": [
       "float"
      ]
     },
     "execution_count": 33,
     "metadata": {},
     "output_type": "execute_result"
    }
   ],
   "source": [
    "type(prc)"
   ]
  },
  {
   "cell_type": "code",
   "execution_count": 36,
   "id": "8c58324b-830c-4c3d-ba7e-448e00c9edc4",
   "metadata": {},
   "outputs": [
    {
     "data": {
      "text/plain": [
       "complex"
      ]
     },
     "execution_count": 36,
     "metadata": {},
     "output_type": "execute_result"
    }
   ],
   "source": [
    "type(3+6j)"
   ]
  },
  {
   "cell_type": "code",
   "execution_count": 37,
   "id": "7fbadaaa-a06c-489f-866b-5b8b1dc0e37c",
   "metadata": {},
   "outputs": [
    {
     "data": {
      "text/plain": [
       "(5+3j)"
      ]
     },
     "execution_count": 37,
     "metadata": {},
     "output_type": "execute_result"
    }
   ],
   "source": [
    "5+3j"
   ]
  },
  {
   "cell_type": "code",
   "execution_count": 39,
   "id": "8d30cd1b-5797-4c24-97a4-2370df757e43",
   "metadata": {},
   "outputs": [
    {
     "ename": "SyntaxError",
     "evalue": "invalid decimal literal (3308706173.py, line 3)",
     "output_type": "error",
     "traceback": [
      "\u001b[0;36m  Cell \u001b[0;32mIn[39], line 3\u001b[0;36m\u001b[0m\n\u001b[0;31m    1a\u001b[0m\n\u001b[0m    ^\u001b[0m\n\u001b[0;31mSyntaxError\u001b[0m\u001b[0;31m:\u001b[0m invalid decimal literal\n"
     ]
    }
   ],
   "source": [
    "#Bad way \n",
    "#Don't start a variable with numbers.\n",
    "1a\n",
    "3sangram"
   ]
  },
  {
   "cell_type": "code",
   "execution_count": 42,
   "id": "b7eec962-edc1-4c9f-be50-f47da18acb32",
   "metadata": {},
   "outputs": [
    {
     "name": "stdout",
     "output_type": "stream",
     "text": [
      "Sangram\n",
      "sangram keshari\n"
     ]
    }
   ],
   "source": [
    "#Variables are Case Sensitive (a & A)\n",
    "\n",
    "Name= \"Sangram\"\n",
    "name = \"sangram keshari\"\n",
    "print(Name)\n",
    "print(name)"
   ]
  },
  {
   "cell_type": "code",
   "execution_count": 43,
   "id": "126b35bc-0987-4bf5-9864-22905a025464",
   "metadata": {},
   "outputs": [
    {
     "data": {
      "text/plain": [
       "'\\nint,float,len,complex,bol,str,return,yield\\n\\n'"
      ]
     },
     "execution_count": 43,
     "metadata": {},
     "output_type": "execute_result"
    }
   ],
   "source": [
    "#Reserved Keywords , we can't use .\n",
    "\n",
    "'''\n",
    "int,float,len,complex,bol,str,return,yield\n",
    "\n",
    "'''"
   ]
  },
  {
   "cell_type": "code",
   "execution_count": 44,
   "id": "0770ff6e-b0c3-4a43-b6cb-25075bb8d7ab",
   "metadata": {},
   "outputs": [],
   "source": [
    "#bolean\n",
    "#true and false"
   ]
  },
  {
   "cell_type": "code",
   "execution_count": 45,
   "id": "d713d3be-9bfa-40c9-b0f8-1cbdc891725d",
   "metadata": {},
   "outputs": [
    {
     "data": {
      "text/plain": [
       "True"
      ]
     },
     "execution_count": 45,
     "metadata": {},
     "output_type": "execute_result"
    }
   ],
   "source": [
    "True"
   ]
  },
  {
   "cell_type": "code",
   "execution_count": 46,
   "id": "e84b2bcf-ebe7-44f7-a2a8-3222d09f2c02",
   "metadata": {},
   "outputs": [
    {
     "data": {
      "text/plain": [
       "False"
      ]
     },
     "execution_count": 46,
     "metadata": {},
     "output_type": "execute_result"
    }
   ],
   "source": [
    "not True"
   ]
  },
  {
   "cell_type": "code",
   "execution_count": 47,
   "id": "982b74a5-6ad4-4bff-9962-e1a984a4c3e9",
   "metadata": {},
   "outputs": [
    {
     "data": {
      "text/plain": [
       "False"
      ]
     },
     "execution_count": 47,
     "metadata": {},
     "output_type": "execute_result"
    }
   ],
   "source": [
    "True and False"
   ]
  },
  {
   "cell_type": "code",
   "execution_count": 48,
   "id": "c0474f8b-2e81-4ad6-95b0-bb036030eaf4",
   "metadata": {},
   "outputs": [
    {
     "data": {
      "text/plain": [
       "True"
      ]
     },
     "execution_count": 48,
     "metadata": {},
     "output_type": "execute_result"
    }
   ],
   "source": [
    "True and True"
   ]
  },
  {
   "cell_type": "code",
   "execution_count": 49,
   "id": "8d34a5b1-1899-471b-a49e-cdbed6b78fa0",
   "metadata": {},
   "outputs": [
    {
     "data": {
      "text/plain": [
       "True"
      ]
     },
     "execution_count": 49,
     "metadata": {},
     "output_type": "execute_result"
    }
   ],
   "source": [
    "True or False"
   ]
  },
  {
   "cell_type": "code",
   "execution_count": 51,
   "id": "c8168565-00bd-426b-b9fd-29cceaaaf6af",
   "metadata": {},
   "outputs": [
    {
     "data": {
      "text/plain": [
       "bool"
      ]
     },
     "execution_count": 51,
     "metadata": {},
     "output_type": "execute_result"
    }
   ],
   "source": [
    "type(not False)"
   ]
  },
  {
   "cell_type": "code",
   "execution_count": 52,
   "id": "9cb99fb6-8208-4f69-b411-acfb4f9a1401",
   "metadata": {},
   "outputs": [],
   "source": [
    "#typecasting"
   ]
  },
  {
   "cell_type": "code",
   "execution_count": 53,
   "id": "6ad069fb-eebb-4a1d-bc59-33fca9026963",
   "metadata": {},
   "outputs": [
    {
     "data": {
      "text/plain": [
       "False"
      ]
     },
     "execution_count": 53,
     "metadata": {},
     "output_type": "execute_result"
    }
   ],
   "source": [
    "bool(0)"
   ]
  },
  {
   "cell_type": "code",
   "execution_count": 54,
   "id": "82b8610e-f859-4c7f-8c6b-7bf73076f12e",
   "metadata": {},
   "outputs": [
    {
     "data": {
      "text/plain": [
       "True"
      ]
     },
     "execution_count": 54,
     "metadata": {},
     "output_type": "execute_result"
    }
   ],
   "source": [
    "bool(1)"
   ]
  },
  {
   "cell_type": "code",
   "execution_count": 55,
   "id": "cdd73b74-e6b8-4790-9245-21ff3ee0d686",
   "metadata": {},
   "outputs": [
    {
     "data": {
      "text/plain": [
       "True"
      ]
     },
     "execution_count": 55,
     "metadata": {},
     "output_type": "execute_result"
    }
   ],
   "source": [
    "bool(1 & 1)"
   ]
  },
  {
   "cell_type": "code",
   "execution_count": 56,
   "id": "bcd90da5-1156-491c-90ea-a4770166dcf4",
   "metadata": {},
   "outputs": [
    {
     "data": {
      "text/plain": [
       "False"
      ]
     },
     "execution_count": 56,
     "metadata": {},
     "output_type": "execute_result"
    }
   ],
   "source": [
    "bool(1 & 0)"
   ]
  },
  {
   "cell_type": "code",
   "execution_count": 57,
   "id": "53c142a5-2ee3-49fd-b74a-d365b79c03ba",
   "metadata": {},
   "outputs": [
    {
     "data": {
      "text/plain": [
       "'23'"
      ]
     },
     "execution_count": 57,
     "metadata": {},
     "output_type": "execute_result"
    }
   ],
   "source": [
    "str(23)"
   ]
  },
  {
   "cell_type": "code",
   "execution_count": 58,
   "id": "cf51010c-ac4b-49cf-a0e9-befe87b6ab91",
   "metadata": {},
   "outputs": [
    {
     "data": {
      "text/plain": [
       "str"
      ]
     },
     "execution_count": 58,
     "metadata": {},
     "output_type": "execute_result"
    }
   ],
   "source": [
    "type(str(23))"
   ]
  },
  {
   "cell_type": "code",
   "execution_count": 60,
   "id": "717b5075-8d25-47b5-8a89-0e58251457e8",
   "metadata": {},
   "outputs": [],
   "source": [
    "x = int('23')"
   ]
  },
  {
   "cell_type": "code",
   "execution_count": 61,
   "id": "ec27ce8e-59c9-4564-b94a-343d543291ed",
   "metadata": {},
   "outputs": [
    {
     "data": {
      "text/plain": [
       "23"
      ]
     },
     "execution_count": 61,
     "metadata": {},
     "output_type": "execute_result"
    }
   ],
   "source": [
    "x"
   ]
  },
  {
   "cell_type": "code",
   "execution_count": 62,
   "id": "602f7646-acee-4c7f-a045-961e85d23def",
   "metadata": {},
   "outputs": [
    {
     "data": {
      "text/plain": [
       "int"
      ]
     },
     "execution_count": 62,
     "metadata": {},
     "output_type": "execute_result"
    }
   ],
   "source": [
    "type(x)"
   ]
  },
  {
   "cell_type": "code",
   "execution_count": 63,
   "id": "b86752d3-e459-42ba-830e-cd5735e06d90",
   "metadata": {},
   "outputs": [
    {
     "ename": "ValueError",
     "evalue": "invalid literal for int() with base 10: 'abcd'",
     "output_type": "error",
     "traceback": [
      "\u001b[0;31m---------------------------------------------------------------------------\u001b[0m",
      "\u001b[0;31mValueError\u001b[0m                                Traceback (most recent call last)",
      "Cell \u001b[0;32mIn[63], line 1\u001b[0m\n\u001b[0;32m----> 1\u001b[0m \u001b[38;5;28;43mint\u001b[39;49m\u001b[43m(\u001b[49m\u001b[38;5;124;43m'\u001b[39;49m\u001b[38;5;124;43mabcd\u001b[39;49m\u001b[38;5;124;43m'\u001b[39;49m\u001b[43m)\u001b[49m\n",
      "\u001b[0;31mValueError\u001b[0m: invalid literal for int() with base 10: 'abcd'"
     ]
    }
   ],
   "source": [
    "int('abcd')"
   ]
  },
  {
   "cell_type": "code",
   "execution_count": null,
   "id": "aceea34d-da75-4383-93f2-cd750d0baeab",
   "metadata": {},
   "outputs": [],
   "source": []
  },
  {
   "cell_type": "markdown",
   "id": "c8977808-d207-4e5d-9e39-69494765e4e3",
   "metadata": {},
   "source": [
    "Dynamic Typing:-"
   ]
  },
  {
   "cell_type": "code",
   "execution_count": 64,
   "id": "62ba6039-b6c0-4aea-84c6-66857ac8c9b3",
   "metadata": {},
   "outputs": [],
   "source": [
    "a = 3\n",
    "str1 = \" Sangram\"\n",
    "a = \"var\""
   ]
  },
  {
   "cell_type": "code",
   "execution_count": 65,
   "id": "7cefb72c-6c3b-4109-aa57-da540d9db1c1",
   "metadata": {},
   "outputs": [
    {
     "data": {
      "text/plain": [
       "'var'"
      ]
     },
     "execution_count": 65,
     "metadata": {},
     "output_type": "execute_result"
    }
   ],
   "source": [
    "a"
   ]
  },
  {
   "cell_type": "code",
   "execution_count": 66,
   "id": "e410a2ee-1e35-4bf0-b10c-443c0eca356d",
   "metadata": {},
   "outputs": [
    {
     "data": {
      "text/plain": [
       "2"
      ]
     },
     "execution_count": 66,
     "metadata": {},
     "output_type": "execute_result"
    }
   ],
   "source": [
    "int(2.6754)"
   ]
  },
  {
   "cell_type": "markdown",
   "id": "4d08be82-f01a-403c-b63a-a20ec844a831",
   "metadata": {},
   "source": [
    "concadination:-"
   ]
  },
  {
   "cell_type": "code",
   "execution_count": 68,
   "id": "77c9cff0-df5a-4489-8e77-ec3778c32bc8",
   "metadata": {},
   "outputs": [
    {
     "data": {
      "text/plain": [
       "2"
      ]
     },
     "execution_count": 68,
     "metadata": {},
     "output_type": "execute_result"
    }
   ],
   "source": [
    "1+1"
   ]
  },
  {
   "cell_type": "code",
   "execution_count": 69,
   "id": "db3452aa-824d-40ca-8a0f-e6e454154f94",
   "metadata": {},
   "outputs": [
    {
     "data": {
      "text/plain": [
       "'11'"
      ]
     },
     "execution_count": 69,
     "metadata": {},
     "output_type": "execute_result"
    }
   ],
   "source": [
    "\"1\" + \"1\""
   ]
  },
  {
   "cell_type": "code",
   "execution_count": 70,
   "id": "aa2ca07c-55ba-465e-a658-29289452c6dd",
   "metadata": {},
   "outputs": [
    {
     "data": {
      "text/plain": [
       "3"
      ]
     },
     "execution_count": 70,
     "metadata": {},
     "output_type": "execute_result"
    }
   ],
   "source": [
    "int(\"1\") + int(\"2\")"
   ]
  },
  {
   "cell_type": "code",
   "execution_count": 71,
   "id": "050675cc-4822-4548-bec4-08174c8bb59d",
   "metadata": {},
   "outputs": [
    {
     "ename": "TypeError",
     "evalue": "unsupported operand type(s) for +: 'int' and 'str'",
     "output_type": "error",
     "traceback": [
      "\u001b[0;31m---------------------------------------------------------------------------\u001b[0m",
      "\u001b[0;31mTypeError\u001b[0m                                 Traceback (most recent call last)",
      "Cell \u001b[0;32mIn[71], line 1\u001b[0m\n\u001b[0;32m----> 1\u001b[0m \u001b[38;5;28;43mint\u001b[39;49m\u001b[43m(\u001b[49m\u001b[38;5;124;43m\"\u001b[39;49m\u001b[38;5;124;43m1\u001b[39;49m\u001b[38;5;124;43m\"\u001b[39;49m\u001b[43m)\u001b[49m\u001b[43m \u001b[49m\u001b[38;5;241;43m+\u001b[39;49m\u001b[43m \u001b[49m\u001b[38;5;124;43m\"\u001b[39;49m\u001b[38;5;124;43m1\u001b[39;49m\u001b[38;5;124;43m\"\u001b[39;49m\n",
      "\u001b[0;31mTypeError\u001b[0m: unsupported operand type(s) for +: 'int' and 'str'"
     ]
    }
   ],
   "source": [
    "int(\"1\") + \"1\""
   ]
  },
  {
   "cell_type": "code",
   "execution_count": 76,
   "id": "6f3d14c0-1209-46b5-96c2-f32c72d15856",
   "metadata": {},
   "outputs": [
    {
     "data": {
      "text/plain": [
       "'1c1c1c1c1c1c1c1c1c1c'"
      ]
     },
     "execution_count": 76,
     "metadata": {},
     "output_type": "execute_result"
    }
   ],
   "source": [
    "\"1c\"*10"
   ]
  },
  {
   "cell_type": "code",
   "execution_count": null,
   "id": "a6f2269c-a19a-4b05-9468-e0659476122f",
   "metadata": {},
   "outputs": [],
   "source": []
  },
  {
   "cell_type": "code",
   "execution_count": null,
   "id": "5783ece3-2044-4784-8822-4ace15f7f226",
   "metadata": {},
   "outputs": [],
   "source": []
  },
  {
   "cell_type": "code",
   "execution_count": null,
   "id": "79530c30-d6cc-4a85-8967-b583d0d41519",
   "metadata": {},
   "outputs": [],
   "source": []
  },
  {
   "cell_type": "code",
   "execution_count": null,
   "id": "d86a25be-920a-47f4-83e8-834f759d881f",
   "metadata": {},
   "outputs": [],
   "source": []
  },
  {
   "cell_type": "code",
   "execution_count": null,
   "id": "a4acc794-1ce1-4a23-bb51-78fa3304f997",
   "metadata": {},
   "outputs": [],
   "source": []
  },
  {
   "cell_type": "code",
   "execution_count": null,
   "id": "5f405038-593e-44a3-b80a-57e38c155506",
   "metadata": {},
   "outputs": [],
   "source": []
  },
  {
   "cell_type": "code",
   "execution_count": null,
   "id": "73801c7e-eaec-4c35-9698-b1210d6e668a",
   "metadata": {},
   "outputs": [],
   "source": []
  },
  {
   "cell_type": "code",
   "execution_count": null,
   "id": "8bc11a51-944b-4cdf-bf3b-8a09acb3e049",
   "metadata": {},
   "outputs": [],
   "source": []
  },
  {
   "cell_type": "code",
   "execution_count": null,
   "id": "5b07659d-2d35-4647-b51c-b2240bd19b95",
   "metadata": {},
   "outputs": [],
   "source": []
  },
  {
   "cell_type": "code",
   "execution_count": null,
   "id": "7e9fd786-923a-4f8b-b314-6d449e5e7f6b",
   "metadata": {},
   "outputs": [],
   "source": []
  },
  {
   "cell_type": "code",
   "execution_count": null,
   "id": "c90b2958-a87f-41bc-b861-9a792b8504be",
   "metadata": {},
   "outputs": [],
   "source": []
  },
  {
   "cell_type": "raw",
   "id": "bc46f2ec-5141-46f0-935b-d1ac4c8669ca",
   "metadata": {},
   "source": []
  }
 ],
 "metadata": {
  "kernelspec": {
   "display_name": "Python 3 (ipykernel)",
   "language": "python",
   "name": "python3"
  },
  "language_info": {
   "codemirror_mode": {
    "name": "ipython",
    "version": 3
   },
   "file_extension": ".py",
   "mimetype": "text/x-python",
   "name": "python",
   "nbconvert_exporter": "python",
   "pygments_lexer": "ipython3",
   "version": "3.10.8"
  }
 },
 "nbformat": 4,
 "nbformat_minor": 5
}
