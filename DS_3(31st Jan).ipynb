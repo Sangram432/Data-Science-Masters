{
 "cells": [
  {
   "cell_type": "code",
   "execution_count": 1,
   "id": "32ea369f-2556-4204-9788-2962343e7a28",
   "metadata": {},
   "outputs": [
    {
     "name": "stdout",
     "output_type": "stream",
     "text": [
      "My age is: 25\n"
     ]
    }
   ],
   "source": [
    "age = 25 \n",
    "\n",
    "print(\"My age is:\",age)"
   ]
  },
  {
   "cell_type": "code",
   "execution_count": 2,
   "id": "82a73e1b-40d4-4dc6-be36-d3f2547bd718",
   "metadata": {},
   "outputs": [],
   "source": [
    "##format "
   ]
  },
  {
   "cell_type": "code",
   "execution_count": 7,
   "id": "82e73770-cf39-4c2f-a7dd-087b066a0095",
   "metadata": {},
   "outputs": [
    {
     "name": "stdout",
     "output_type": "stream",
     "text": [
      "my name is Sangram and my age is 25\n"
     ]
    }
   ],
   "source": [
    "name = \"Sangram\"\n",
    "age = 25\n",
    "\n",
    "print(\"my name is {} and my age is {}\".format(name,age))"
   ]
  },
  {
   "cell_type": "code",
   "execution_count": 10,
   "id": "246642fc-295e-49bb-a99b-4b7ebc0db93c",
   "metadata": {},
   "outputs": [
    {
     "name": "stdout",
     "output_type": "stream",
     "text": [
      "my friend name is Sangram and his age is also 25 \n"
     ]
    }
   ],
   "source": [
    "print(\"my friend name is {} and his age is also {} \".format(name,age))\n"
   ]
  },
  {
   "cell_type": "code",
   "execution_count": 11,
   "id": "d300d277-4aa0-4fa8-8a3c-c295b97cd9bc",
   "metadata": {},
   "outputs": [
    {
     "name": "stdout",
     "output_type": "stream",
     "text": [
      "my friend name is Sangram and his age is also 25 \n"
     ]
    }
   ],
   "source": [
    "print(\"my friend name is {firstname} and his age is also {firstage} \".format(firstname=name,firstage=age))\n"
   ]
  },
  {
   "cell_type": "code",
   "execution_count": 13,
   "id": "d6bb3176-1a8f-4d58-9c57-26ea01dfa968",
   "metadata": {},
   "outputs": [],
   "source": [
    "degree = \"BSC_Math\""
   ]
  },
  {
   "cell_type": "code",
   "execution_count": 16,
   "id": "25a3b635-a7bd-4c71-819a-7df7332126ef",
   "metadata": {},
   "outputs": [
    {
     "name": "stdout",
     "output_type": "stream",
     "text": [
      "My name is Sangram and i am gradualted with BSC_Math on the age of 25\n"
     ]
    }
   ],
   "source": [
    "print(\"My name is {} and i am gradualted with {} on the age of {}\".format(name,degree,age))"
   ]
  },
  {
   "cell_type": "code",
   "execution_count": 18,
   "id": "58e8808c-32d4-451c-bc92-263253984ce2",
   "metadata": {},
   "outputs": [
    {
     "name": "stdout",
     "output_type": "stream",
     "text": [
      "My name is Sangram and i am gradualted with BSC_Math on the age of 25\n"
     ]
    }
   ],
   "source": [
    "print(f\"My name is {name} and i am gradualted with {degree} on the age of {age}\")"
   ]
  },
  {
   "cell_type": "code",
   "execution_count": 21,
   "id": "cf61b260-0d39-4a8b-a0a1-ffe5ca19a38b",
   "metadata": {},
   "outputs": [
    {
     "name": "stdout",
     "output_type": "stream",
     "text": [
      "My name is Sangram and i am gradualted with  BSC_Math on the age of  25\n"
     ]
    }
   ],
   "source": [
    "print(\"My name is\" , name, \"and i am gradualted with \",degree, \"on the age of \",age)"
   ]
  },
  {
   "cell_type": "markdown",
   "id": "fedc5b4a-bb8e-4f51-aa57-09db99610332",
   "metadata": {},
   "source": [
    "Control Flow :-"
   ]
  },
  {
   "cell_type": "raw",
   "id": "92bb7bbe-37be-40da-9880-5dad1de1b58d",
   "metadata": {},
   "source": [
    "\n",
    "Decision Making statements\n",
    "It is kind of making decision during occurred situation of program execution and action can be taken according to specified conditions.\n",
    "Structure of decision making evaluate several expressions that provide True or False as a result.\n",
    "It is up to you to decide which type of action want to take and execute the statements based upon True and False.\n",
    "These are several topics of decision making which going to be discussed below:\n",
    "\n",
    "if\n",
    "if else\n",
    "if elif else\n",
    "Nested if\n",
    "Single Statement Suites"
   ]
  },
  {
   "cell_type": "code",
   "execution_count": 22,
   "id": "84fcf414-01ce-4676-9f3b-6fd702ca433f",
   "metadata": {},
   "outputs": [
    {
     "name": "stdout",
     "output_type": "stream",
     "text": [
      "My age is 18 and i am able to vote now \n"
     ]
    }
   ],
   "source": [
    "#if statement\n",
    "\n",
    "age = 18\n",
    "\n",
    "if age >=18:\n",
    "    print(\"My age is {} and i am able to vote now \".format(age))"
   ]
  },
  {
   "cell_type": "code",
   "execution_count": 24,
   "id": "19aa3535-2393-4568-8716-f864b7908f2f",
   "metadata": {},
   "outputs": [
    {
     "name": "stdin",
     "output_type": "stream",
     "text": [
      "Enter a name Sangram\n"
     ]
    }
   ],
   "source": [
    "name = input(\"Enter a name\")"
   ]
  },
  {
   "cell_type": "code",
   "execution_count": 25,
   "id": "822cc9e7-87e6-4678-8f9c-e44ddb12c220",
   "metadata": {},
   "outputs": [
    {
     "data": {
      "text/plain": [
       "'Sangram'"
      ]
     },
     "execution_count": 25,
     "metadata": {},
     "output_type": "execute_result"
    }
   ],
   "source": [
    "name"
   ]
  },
  {
   "cell_type": "code",
   "execution_count": 26,
   "id": "f20c643e-55c1-469d-bda4-9dcfdf0c927d",
   "metadata": {},
   "outputs": [
    {
     "name": "stdin",
     "output_type": "stream",
     "text": [
      "Enter my age  25\n"
     ]
    }
   ],
   "source": [
    "age = int(input(\"Enter my age \"))"
   ]
  },
  {
   "cell_type": "code",
   "execution_count": 27,
   "id": "e92d6526-a24d-4e62-8c6e-9ad2963e272a",
   "metadata": {},
   "outputs": [
    {
     "data": {
      "text/plain": [
       "25"
      ]
     },
     "execution_count": 27,
     "metadata": {},
     "output_type": "execute_result"
    }
   ],
   "source": [
    "age"
   ]
  },
  {
   "cell_type": "code",
   "execution_count": 28,
   "id": "9410729c-fbcd-4dc6-93e5-699c1f8a2dee",
   "metadata": {},
   "outputs": [
    {
     "name": "stdin",
     "output_type": "stream",
     "text": [
      "Enter a name Keshari\n"
     ]
    }
   ],
   "source": [
    "name = input(\"Enter a name\")"
   ]
  },
  {
   "cell_type": "code",
   "execution_count": 29,
   "id": "33d18e96-9d75-4d20-a9fe-9bcbc323bdfc",
   "metadata": {},
   "outputs": [
    {
     "name": "stdin",
     "output_type": "stream",
     "text": [
      "Enter my age  24\n"
     ]
    }
   ],
   "source": [
    "age = int(input(\"Enter my age \"))"
   ]
  },
  {
   "cell_type": "code",
   "execution_count": 30,
   "id": "fbb79eb9-5f8c-470e-901e-64263550d714",
   "metadata": {},
   "outputs": [
    {
     "data": {
      "text/plain": [
       "'Keshari'"
      ]
     },
     "execution_count": 30,
     "metadata": {},
     "output_type": "execute_result"
    }
   ],
   "source": [
    "name"
   ]
  },
  {
   "cell_type": "code",
   "execution_count": 31,
   "id": "1f753de8-003c-44c9-81cd-043fcdfaa41b",
   "metadata": {},
   "outputs": [
    {
     "data": {
      "text/plain": [
       "24"
      ]
     },
     "execution_count": 31,
     "metadata": {},
     "output_type": "execute_result"
    }
   ],
   "source": [
    "age"
   ]
  },
  {
   "cell_type": "code",
   "execution_count": 39,
   "id": "c65d88db-cacf-4895-8d2c-24ffc27ccc47",
   "metadata": {},
   "outputs": [
    {
     "name": "stdin",
     "output_type": "stream",
     "text": [
      "enter a age  20\n"
     ]
    },
    {
     "name": "stdout",
     "output_type": "stream",
     "text": [
      "Your age is 20 and you are a young blood\n"
     ]
    }
   ],
   "source": [
    "age = int(input(\"enter a age \"))\n",
    "\n",
    "if age >=18  and  age <=45 :\n",
    "    print(\"Your age is {} and you are a young blood\".format(age))\n",
    "    \n",
    "else :\n",
    "    print(\"You are not a young blood\")"
   ]
  },
  {
   "cell_type": "code",
   "execution_count": 36,
   "id": "045a5a66-2c03-4671-bcd0-cbf1d02b60ad",
   "metadata": {},
   "outputs": [
    {
     "name": "stdin",
     "output_type": "stream",
     "text": [
      "enter a age  16\n"
     ]
    },
    {
     "name": "stdout",
     "output_type": "stream",
     "text": [
      "You are not a young blood\n"
     ]
    }
   ],
   "source": [
    "age = int(input(\"enter a age \"))\n",
    "\n",
    "if age >=18  and  age <=45 :\n",
    "    print(\"Your age is {} and you are a young blood\".format(age))\n",
    "    \n",
    "else :\n",
    "    print(\"You are not a young blood\")"
   ]
  },
  {
   "cell_type": "code",
   "execution_count": 37,
   "id": "dcc018f1-6c57-4c9b-a5ed-2f9a49f3d34b",
   "metadata": {},
   "outputs": [],
   "source": [
    "## mall - input the product price\n",
    "## product >1000 rs 20% off\n",
    "## print the product price after removing the discount\n",
    "## product <=1000 rs 30% off\n",
    "## print the product price after removing the discount"
   ]
  },
  {
   "cell_type": "code",
   "execution_count": 42,
   "id": "0a017e21-edf1-4576-9619-3a2dd55a981b",
   "metadata": {},
   "outputs": [
    {
     "name": "stdin",
     "output_type": "stream",
     "text": [
      "Enter the price of the product 1200\n"
     ]
    },
    {
     "name": "stdout",
     "output_type": "stream",
     "text": [
      "Final price of the product is 960.0 \n"
     ]
    }
   ],
   "source": [
    "price = int(input(\"Enter the price of the product\"))\n",
    "\n",
    "fin_price = ()\n",
    "\n",
    "if price >1000 :\n",
    "    fin_price = price *0.8\n",
    "    print(\"Final price of the product is {} \".format(fin_price))\n",
    "elif price <=1000 :\n",
    "    fin_price = price * 0.7\n",
    "    print(\"Final price of the product is {} \".format(fin_price))\n",
    "else:\n",
    "    print(\"final price of the product is {}\".format(price))\n",
    "    "
   ]
  },
  {
   "cell_type": "code",
   "execution_count": 43,
   "id": "9cb83227-0e4a-406a-bc21-70e909d47102",
   "metadata": {},
   "outputs": [],
   "source": [
    "## mall - input the product price\n",
    "## product >3000 rs 20% off\n",
    "## price is ==4000 you get a trip to Goa\n",
    "## print the product price after removing the discount\n",
    "## product >=2000 rs and <=3000 30% off\n",
    "## print the product price after removing the discount\n",
    "## price ==2999  u will get adiitional gift\n",
    "## product 100 rs and <=2000 40% off\n",
    "## print the product price after removing the discount"
   ]
  },
  {
   "cell_type": "code",
   "execution_count": 51,
   "id": "e4675306-dfa4-4565-988d-c85bf6a33ea7",
   "metadata": {},
   "outputs": [
    {
     "name": "stdin",
     "output_type": "stream",
     "text": [
      "Enter the price of the product 99\n"
     ]
    },
    {
     "name": "stdout",
     "output_type": "stream",
     "text": [
      "Lets drink tea\n",
      "I will also be there\n"
     ]
    }
   ],
   "source": [
    "price = int(input(\"Enter the price of the product\"))\n",
    "\n",
    "fin_price = ()\n",
    "\n",
    "if price >3000 :\n",
    "    fin_price = price *0.8\n",
    "    print(\"Final price of the product is {} \".format(fin_price))\n",
    "    if price ==4000 :\n",
    "        print(\"And you got a trip to GOA\")\n",
    "elif price>=2000 and price<=3000:\n",
    "    if price ==2999:\n",
    "        print(\"you got a additional Gift\")\n",
    "    print(f\"final price of the product is {price*0.7}\")\n",
    "elif price >=100 and price <=2000:\n",
    "    print(\"final proce of the produst is {}\".format(price*0.6))\n",
    "else:\n",
    "    print(\"Lets drink tea\")\n",
    "    print(\"I will also be there\")"
   ]
  },
  {
   "cell_type": "code",
   "execution_count": null,
   "id": "6b356da7-824f-4048-9d99-34b3bb12dbc0",
   "metadata": {},
   "outputs": [],
   "source": []
  },
  {
   "cell_type": "markdown",
   "id": "fffc9b22-b30c-4183-b75d-e75d1955d41f",
   "metadata": {},
   "source": [
    "Loops statements\n",
    "\n",
    "1. While loop\n",
    "\n",
    "2. For Loop\n",
    "\n",
    "3. Nested loops\n",
    "\n",
    "4. Loop controls(break,continue,pass)\n"
   ]
  },
  {
   "cell_type": "code",
   "execution_count": 57,
   "id": "ece26b78-2c54-4c3f-9896-ef9897c01a1c",
   "metadata": {},
   "outputs": [
    {
     "name": "stdout",
     "output_type": "stream",
     "text": [
      "46\n",
      "47\n",
      "48\n",
      "49\n",
      "50\n",
      "51\n",
      "52\n",
      "53\n",
      "54\n",
      "55\n",
      "56\n",
      "57\n",
      "58\n",
      "59\n",
      "60\n",
      "you are ready to retirement\n"
     ]
    }
   ],
   "source": [
    "age = 45\n",
    "\n",
    "while age !=60:\n",
    "    age = age +1 \n",
    "    print(age)\n",
    "else:\n",
    "    print(\"you are ready to retirement\")"
   ]
  },
  {
   "cell_type": "code",
   "execution_count": 56,
   "id": "8b826d81-54d8-40f5-8a75-87f869b66edc",
   "metadata": {},
   "outputs": [
    {
     "name": "stdout",
     "output_type": "stream",
     "text": [
      "9000\n",
      "8000\n",
      "7000\n",
      "6000\n",
      "5000\n",
      "4000\n",
      "3000\n",
      "2000\n",
      "1000\n",
      "0\n",
      "Please put more money on the machine\n"
     ]
    }
   ],
   "source": [
    "#Atm Machine has a money of 10000\n",
    "\n",
    "money = 10000\n",
    "\n",
    "while money !=0 :\n",
    "    money = money -1000\n",
    "    print(money)\n",
    "    \n",
    "else:\n",
    "    print(\"Please put more money on the machine\")"
   ]
  },
  {
   "cell_type": "code",
   "execution_count": 59,
   "id": "a30eea4e-d31a-4155-9af6-95fc24598ba6",
   "metadata": {},
   "outputs": [],
   "source": [
    "l1 = [\"Sangram\",18,25,\"XYZ\",'apple','Banana']\n",
    "\n"
   ]
  },
  {
   "cell_type": "code",
   "execution_count": 60,
   "id": "87f18a6f-d85e-40b9-86a0-f5d5aee68588",
   "metadata": {},
   "outputs": [
    {
     "data": {
      "text/plain": [
       "list"
      ]
     },
     "execution_count": 60,
     "metadata": {},
     "output_type": "execute_result"
    }
   ],
   "source": [
    "type(l1)"
   ]
  },
  {
   "cell_type": "code",
   "execution_count": 62,
   "id": "e1902143-69fd-496a-83d5-f37376ab73cf",
   "metadata": {},
   "outputs": [
    {
     "data": {
      "text/plain": [
       "'Sangram'"
      ]
     },
     "execution_count": 62,
     "metadata": {},
     "output_type": "execute_result"
    }
   ],
   "source": [
    "l1[0]"
   ]
  },
  {
   "cell_type": "code",
   "execution_count": 63,
   "id": "4968bc2c-efa6-412a-8b1b-76bc0d7c17c9",
   "metadata": {},
   "outputs": [
    {
     "data": {
      "text/plain": [
       "25"
      ]
     },
     "execution_count": 63,
     "metadata": {},
     "output_type": "execute_result"
    }
   ],
   "source": [
    "l1[2]"
   ]
  },
  {
   "cell_type": "code",
   "execution_count": 66,
   "id": "95f1c58e-0402-4d0a-bc73-713ad4e8b4f6",
   "metadata": {},
   "outputs": [
    {
     "name": "stdout",
     "output_type": "stream",
     "text": [
      "Sangram\n",
      "18\n",
      "25\n",
      "XYZ\n",
      "apple\n",
      "Banana\n"
     ]
    }
   ],
   "source": [
    "for i in l1 :\n",
    "    print (i)"
   ]
  },
  {
   "cell_type": "code",
   "execution_count": 72,
   "id": "41c0afe2-bf28-4245-82e6-aeca1e1fd4da",
   "metadata": {},
   "outputs": [],
   "source": [
    "fruits_list = [\"Mango\",\"Cherry\",\"Apple\",\"Papaya\",\"Banana\"]"
   ]
  },
  {
   "cell_type": "code",
   "execution_count": 79,
   "id": "b3978af4-ad0d-4f46-ae90-159d5db32b33",
   "metadata": {},
   "outputs": [
    {
     "name": "stdout",
     "output_type": "stream",
     "text": [
      "Mango\n",
      "Cherry\n",
      "Apple\n",
      "Papaya\n",
      "its good for health\n",
      "Banana\n"
     ]
    }
   ],
   "source": [
    "for i in fruits_list :\n",
    "    print (i)\n",
    "    if i == \"Papaya\" :\n",
    "        print(\"its good for health\")"
   ]
  },
  {
   "cell_type": "code",
   "execution_count": 80,
   "id": "1232ef91-ee58-4b1a-a5cc-7697f9c8fd65",
   "metadata": {},
   "outputs": [
    {
     "name": "stdout",
     "output_type": "stream",
     "text": [
      "S\n",
      "a\n",
      "n\n",
      "g\n",
      "r\n",
      "a\n",
      "m\n",
      " \n",
      "K\n",
      "e\n",
      "s\n",
      "h\n",
      "a\n",
      "r\n",
      "i\n"
     ]
    }
   ],
   "source": [
    "Name  = \"Sangram Keshari\"\n",
    "for i in Name:\n",
    "    print(i)"
   ]
  },
  {
   "cell_type": "code",
   "execution_count": 83,
   "id": "47018f50-8cfe-43d0-aeb3-db0c1354fe7e",
   "metadata": {},
   "outputs": [
    {
     "data": {
      "text/plain": [
       "'g'"
      ]
     },
     "execution_count": 83,
     "metadata": {},
     "output_type": "execute_result"
    }
   ],
   "source": [
    "Name[3]"
   ]
  },
  {
   "cell_type": "code",
   "execution_count": 87,
   "id": "1f994254-f3a8-474c-9aab-a3eea6066f6f",
   "metadata": {},
   "outputs": [
    {
     "name": "stdout",
     "output_type": "stream",
     "text": [
      "4\n",
      "5\n",
      "6\n",
      "7\n",
      "8\n",
      "9\n"
     ]
    }
   ],
   "source": [
    "for i in range(4,10) :\n",
    "    print (i)"
   ]
  },
  {
   "cell_type": "code",
   "execution_count": 96,
   "id": "4a74cdef-8a9c-498a-90ca-fb9cf2035d9c",
   "metadata": {},
   "outputs": [
    {
     "name": "stdout",
     "output_type": "stream",
     "text": [
      "*\n",
      "**\n",
      "***\n",
      "****\n",
      "*****\n",
      "******\n",
      "*******\n",
      "********\n",
      "*********\n",
      "**********\n"
     ]
    }
   ],
   "source": [
    "for i in range (0,10) :\n",
    "    for j in range (0,i+1):\n",
    "        print(\"*\",end=\"\")\n",
    "    print(\"\\r\")"
   ]
  },
  {
   "cell_type": "code",
   "execution_count": 97,
   "id": "6b47d2b2-1156-4013-9825-b36304cd94f1",
   "metadata": {},
   "outputs": [
    {
     "ename": "SyntaxError",
     "evalue": "invalid syntax (2938429678.py, line 1)",
     "output_type": "error",
     "traceback": [
      "\u001b[0;36m  Cell \u001b[0;32mIn[97], line 1\u001b[0;36m\u001b[0m\n\u001b[0;31m    ***\u001b[0m\n\u001b[0m    ^\u001b[0m\n\u001b[0;31mSyntaxError\u001b[0m\u001b[0;31m:\u001b[0m invalid syntax\n"
     ]
    }
   ],
   "source": []
  },
  {
   "cell_type": "code",
   "execution_count": null,
   "id": "af4c1f0e-7c1c-4c0d-bad4-749f2839f6b9",
   "metadata": {},
   "outputs": [],
   "source": []
  }
 ],
 "metadata": {
  "kernelspec": {
   "display_name": "Python 3 (ipykernel)",
   "language": "python",
   "name": "python3"
  },
  "language_info": {
   "codemirror_mode": {
    "name": "ipython",
    "version": 3
   },
   "file_extension": ".py",
   "mimetype": "text/x-python",
   "name": "python",
   "nbconvert_exporter": "python",
   "pygments_lexer": "ipython3",
   "version": "3.10.8"
  }
 },
 "nbformat": 4,
 "nbformat_minor": 5
}
