{
 "cells": [
  {
   "cell_type": "markdown",
   "id": "9554b3cb-aabe-4de0-8a84-22ace1297f2d",
   "metadata": {},
   "source": [
    "## Tuples "
   ]
  },
  {
   "cell_type": "code",
   "execution_count": 5,
   "id": "e1a25aef-296d-4447-a688-45de9dbc5142",
   "metadata": {},
   "outputs": [
    {
     "data": {
      "text/plain": [
       "tuple"
      ]
     },
     "execution_count": 5,
     "metadata": {},
     "output_type": "execute_result"
    }
   ],
   "source": [
    "t = ()\n",
    "type(t)"
   ]
  },
  {
   "cell_type": "code",
   "execution_count": 6,
   "id": "848c4815-3d29-424d-af73-743918263fdd",
   "metadata": {},
   "outputs": [],
   "source": [
    "t1 = (1,2,3,4,\"Sangram\",3+6j,True)"
   ]
  },
  {
   "cell_type": "code",
   "execution_count": 7,
   "id": "6986ff10-f5c8-45ea-9c55-a228ebe49a04",
   "metadata": {},
   "outputs": [
    {
     "data": {
      "text/plain": [
       "1"
      ]
     },
     "execution_count": 7,
     "metadata": {},
     "output_type": "execute_result"
    }
   ],
   "source": [
    "t1[0]"
   ]
  },
  {
   "cell_type": "code",
   "execution_count": 8,
   "id": "c6491cb9-ec0c-4bf4-ad9d-76d9b6c149ba",
   "metadata": {},
   "outputs": [
    {
     "data": {
      "text/plain": [
       "True"
      ]
     },
     "execution_count": 8,
     "metadata": {},
     "output_type": "execute_result"
    }
   ],
   "source": [
    "t1[-1]"
   ]
  },
  {
   "cell_type": "code",
   "execution_count": 9,
   "id": "c5943bc9-da22-4ada-884e-3601edad339e",
   "metadata": {},
   "outputs": [
    {
     "data": {
      "text/plain": [
       "(True, (3+6j), 'Sangram', 4, 3, 2, 1)"
      ]
     },
     "execution_count": 9,
     "metadata": {},
     "output_type": "execute_result"
    }
   ],
   "source": [
    "t1[::-1]"
   ]
  },
  {
   "cell_type": "code",
   "execution_count": 10,
   "id": "3813c4de-deaf-43cc-b3ba-4fc0d4e5da4d",
   "metadata": {},
   "outputs": [
    {
     "data": {
      "text/plain": [
       "(2, 3, 4, 'Sangram')"
      ]
     },
     "execution_count": 10,
     "metadata": {},
     "output_type": "execute_result"
    }
   ],
   "source": [
    "t1[1:5]"
   ]
  },
  {
   "cell_type": "code",
   "execution_count": 12,
   "id": "cdf8eb2a-3460-45bc-b8d3-3dd77de186af",
   "metadata": {},
   "outputs": [
    {
     "data": {
      "text/plain": [
       "(1, 2, 3, 4, 'Sangram', (3+6j), True)"
      ]
     },
     "execution_count": 12,
     "metadata": {},
     "output_type": "execute_result"
    }
   ],
   "source": [
    "t1"
   ]
  },
  {
   "cell_type": "code",
   "execution_count": 13,
   "id": "aae5c72f-4aca-4887-8432-288fa816c994",
   "metadata": {},
   "outputs": [],
   "source": [
    "t1 = t1[1:5]"
   ]
  },
  {
   "cell_type": "code",
   "execution_count": 14,
   "id": "9b412407-cae8-4d82-a7ea-93346ee03c07",
   "metadata": {},
   "outputs": [
    {
     "data": {
      "text/plain": [
       "(2, 3, 4, 'Sangram')"
      ]
     },
     "execution_count": 14,
     "metadata": {},
     "output_type": "execute_result"
    }
   ],
   "source": [
    "t1"
   ]
  },
  {
   "cell_type": "code",
   "execution_count": 15,
   "id": "6b26b3ec-770b-4f99-8b02-c83bb4a23a88",
   "metadata": {},
   "outputs": [],
   "source": [
    "t1 = (1,2,3,4,\"Sangram\",3+6j,True)"
   ]
  },
  {
   "cell_type": "code",
   "execution_count": 16,
   "id": "dab6a92d-d222-4d00-93d7-043191b608ab",
   "metadata": {},
   "outputs": [
    {
     "data": {
      "text/plain": [
       "(1, 2, 3, 4, 'Sangram', (3+6j), True)"
      ]
     },
     "execution_count": 16,
     "metadata": {},
     "output_type": "execute_result"
    }
   ],
   "source": [
    "t1"
   ]
  },
  {
   "cell_type": "code",
   "execution_count": 17,
   "id": "4b2a110f-caa5-41d2-b4bb-55864444b0f7",
   "metadata": {},
   "outputs": [],
   "source": [
    "t1 = t1[::-1]"
   ]
  },
  {
   "cell_type": "code",
   "execution_count": 18,
   "id": "581eabf7-f5ba-4937-870c-721a06fd844c",
   "metadata": {},
   "outputs": [
    {
     "data": {
      "text/plain": [
       "(True, (3+6j), 'Sangram', 4, 3, 2, 1)"
      ]
     },
     "execution_count": 18,
     "metadata": {},
     "output_type": "execute_result"
    }
   ],
   "source": [
    "t1"
   ]
  },
  {
   "cell_type": "code",
   "execution_count": 20,
   "id": "f002f25f-35b0-4225-82db-82c4829988b7",
   "metadata": {},
   "outputs": [
    {
     "data": {
      "text/plain": [
       "1"
      ]
     },
     "execution_count": 20,
     "metadata": {},
     "output_type": "execute_result"
    }
   ],
   "source": [
    "t1.count(4)"
   ]
  },
  {
   "cell_type": "code",
   "execution_count": 21,
   "id": "a2a4391a-ad18-49f7-b8d0-faeec5ea24ec",
   "metadata": {},
   "outputs": [
    {
     "data": {
      "text/plain": [
       "2"
      ]
     },
     "execution_count": 21,
     "metadata": {},
     "output_type": "execute_result"
    }
   ],
   "source": [
    "t1.count(True)"
   ]
  },
  {
   "cell_type": "code",
   "execution_count": 22,
   "id": "3b19a4e0-ff7e-44db-92f0-f33231246739",
   "metadata": {},
   "outputs": [
    {
     "data": {
      "text/plain": [
       "2"
      ]
     },
     "execution_count": 22,
     "metadata": {},
     "output_type": "execute_result"
    }
   ],
   "source": [
    "t1.count(1)"
   ]
  },
  {
   "cell_type": "code",
   "execution_count": 23,
   "id": "a841b9d6-12f9-4882-86ff-85af34a82d14",
   "metadata": {},
   "outputs": [
    {
     "data": {
      "text/plain": [
       "1"
      ]
     },
     "execution_count": 23,
     "metadata": {},
     "output_type": "execute_result"
    }
   ],
   "source": [
    "t1.count(\"Sangram\")"
   ]
  },
  {
   "cell_type": "code",
   "execution_count": 25,
   "id": "9ee43ece-dd39-456c-bd84-f74be724a227",
   "metadata": {},
   "outputs": [
    {
     "data": {
      "text/plain": [
       "(True, (3+6j), 'Sangram', 4, 3, 2, 1)"
      ]
     },
     "execution_count": 25,
     "metadata": {},
     "output_type": "execute_result"
    }
   ],
   "source": [
    "t1"
   ]
  },
  {
   "cell_type": "code",
   "execution_count": 26,
   "id": "ff82dc26-e19c-4fb5-8bd8-0c1a33556bc5",
   "metadata": {},
   "outputs": [
    {
     "data": {
      "text/plain": [
       "3"
      ]
     },
     "execution_count": 26,
     "metadata": {},
     "output_type": "execute_result"
    }
   ],
   "source": [
    "t1.index(4)"
   ]
  },
  {
   "cell_type": "code",
   "execution_count": 27,
   "id": "d55a20fa-af91-4165-8794-173c7eba6378",
   "metadata": {},
   "outputs": [
    {
     "data": {
      "text/plain": [
       "0"
      ]
     },
     "execution_count": 27,
     "metadata": {},
     "output_type": "execute_result"
    }
   ],
   "source": [
    "t1.index(True)"
   ]
  },
  {
   "cell_type": "markdown",
   "id": "15467248-c7a4-43a6-9416-dd3ff0efd220",
   "metadata": {},
   "source": [
    "\"\"\"Tuple are basically follows Immutability concepts where it is not going to allow to change any element at a perticular index\"\"\""
   ]
  },
  {
   "cell_type": "code",
   "execution_count": 28,
   "id": "10efd60b-7c3f-4542-a441-62c144823240",
   "metadata": {},
   "outputs": [
    {
     "ename": "TypeError",
     "evalue": "'tuple' object does not support item assignment",
     "output_type": "error",
     "traceback": [
      "\u001b[0;31m---------------------------------------------------------------------------\u001b[0m",
      "\u001b[0;31mTypeError\u001b[0m                                 Traceback (most recent call last)",
      "Cell \u001b[0;32mIn[28], line 1\u001b[0m\n\u001b[0;32m----> 1\u001b[0m \u001b[43mt1\u001b[49m\u001b[43m[\u001b[49m\u001b[38;5;241;43m2\u001b[39;49m\u001b[43m]\u001b[49m \u001b[38;5;241m=\u001b[39m \u001b[38;5;124m\"\u001b[39m\u001b[38;5;124mKeshari\u001b[39m\u001b[38;5;124m\"\u001b[39m\n",
      "\u001b[0;31mTypeError\u001b[0m: 'tuple' object does not support item assignment"
     ]
    }
   ],
   "source": [
    "t1[2] = \"Keshari\""
   ]
  },
  {
   "cell_type": "code",
   "execution_count": 31,
   "id": "502d5c35-a000-473e-850a-af41f4bb9cdb",
   "metadata": {},
   "outputs": [
    {
     "name": "stdout",
     "output_type": "stream",
     "text": [
      "True <class 'bool'>\n",
      "(3+6j) <class 'complex'>\n",
      "Sangram <class 'str'>\n",
      "4 <class 'int'>\n",
      "3 <class 'int'>\n",
      "2 <class 'int'>\n",
      "1 <class 'int'>\n"
     ]
    }
   ],
   "source": [
    "for i in t1 :\n",
    "    print (i ,type(i))"
   ]
  },
  {
   "cell_type": "code",
   "execution_count": 32,
   "id": "bba56e3b-8ede-45f7-bc0a-e3a3931a7600",
   "metadata": {},
   "outputs": [],
   "source": [
    "t2 = (3,4,5,6)"
   ]
  },
  {
   "cell_type": "code",
   "execution_count": 33,
   "id": "1b23395f-2e83-4ab9-bd79-ece75269c471",
   "metadata": {},
   "outputs": [
    {
     "data": {
      "text/plain": [
       "(3, 4, 5, 6, 3, 4, 5, 6, 3, 4, 5, 6)"
      ]
     },
     "execution_count": 33,
     "metadata": {},
     "output_type": "execute_result"
    }
   ],
   "source": [
    "t2*3"
   ]
  },
  {
   "cell_type": "code",
   "execution_count": 36,
   "id": "44769b8f-f109-49c4-9f1d-0c3d5261581a",
   "metadata": {},
   "outputs": [
    {
     "name": "stdout",
     "output_type": "stream",
     "text": [
      "9\n",
      "16\n",
      "25\n",
      "36\n"
     ]
    }
   ],
   "source": [
    "for i in t2 :\n",
    "    print(i**2)"
   ]
  },
  {
   "cell_type": "code",
   "execution_count": 37,
   "id": "509e5957-6111-4979-b650-15e972699ada",
   "metadata": {},
   "outputs": [
    {
     "data": {
      "text/plain": [
       "3"
      ]
     },
     "execution_count": 37,
     "metadata": {},
     "output_type": "execute_result"
    }
   ],
   "source": [
    "min(t2)"
   ]
  },
  {
   "cell_type": "code",
   "execution_count": 38,
   "id": "3752c606-cd2a-4129-ac69-59634e78822c",
   "metadata": {},
   "outputs": [
    {
     "data": {
      "text/plain": [
       "6"
      ]
     },
     "execution_count": 38,
     "metadata": {},
     "output_type": "execute_result"
    }
   ],
   "source": [
    "max(t2)"
   ]
  },
  {
   "cell_type": "code",
   "execution_count": 40,
   "id": "3584de29-a64d-4ef7-bcc0-f2f1e923efa2",
   "metadata": {},
   "outputs": [
    {
     "data": {
      "text/plain": [
       "18"
      ]
     },
     "execution_count": 40,
     "metadata": {},
     "output_type": "execute_result"
    }
   ],
   "source": [
    "sum(t2)"
   ]
  },
  {
   "cell_type": "code",
   "execution_count": 52,
   "id": "65267037-2ae7-40b9-8f74-1ec8411acae3",
   "metadata": {},
   "outputs": [
    {
     "data": {
      "text/plain": [
       "4"
      ]
     },
     "execution_count": 52,
     "metadata": {},
     "output_type": "execute_result"
    }
   ],
   "source": [
    "len(t2)"
   ]
  },
  {
   "cell_type": "code",
   "execution_count": 41,
   "id": "dfa709ed-ae66-4005-88fc-098a3917eeac",
   "metadata": {},
   "outputs": [],
   "source": [
    "t3 = (t1,t2)"
   ]
  },
  {
   "cell_type": "code",
   "execution_count": 42,
   "id": "b6de93cb-2a71-4242-9e3c-6be5b8c43831",
   "metadata": {},
   "outputs": [
    {
     "data": {
      "text/plain": [
       "((True, (3+6j), 'Sangram', 4, 3, 2, 1), (3, 4, 5, 6))"
      ]
     },
     "execution_count": 42,
     "metadata": {},
     "output_type": "execute_result"
    }
   ],
   "source": [
    "t3"
   ]
  },
  {
   "cell_type": "code",
   "execution_count": 43,
   "id": "ff5e539d-ff7a-40e4-b0b4-2343b8f558d4",
   "metadata": {},
   "outputs": [],
   "source": [
    "t4 = [5,6,7,8,9]"
   ]
  },
  {
   "cell_type": "code",
   "execution_count": 44,
   "id": "3a2b3166-dc27-4b57-842c-e78cf3bbc461",
   "metadata": {},
   "outputs": [],
   "source": [
    "t5 = (t3,t4)"
   ]
  },
  {
   "cell_type": "code",
   "execution_count": 45,
   "id": "1e55fdb0-d8f5-49bc-bff6-5e6c502c3cca",
   "metadata": {},
   "outputs": [
    {
     "data": {
      "text/plain": [
       "(((True, (3+6j), 'Sangram', 4, 3, 2, 1), (3, 4, 5, 6)), [5, 6, 7, 8, 9])"
      ]
     },
     "execution_count": 45,
     "metadata": {},
     "output_type": "execute_result"
    }
   ],
   "source": [
    "t5"
   ]
  },
  {
   "cell_type": "code",
   "execution_count": 46,
   "id": "e68b6e5f-a31b-40b3-a25c-81482e63de14",
   "metadata": {},
   "outputs": [
    {
     "data": {
      "text/plain": [
       "tuple"
      ]
     },
     "execution_count": 46,
     "metadata": {},
     "output_type": "execute_result"
    }
   ],
   "source": [
    "type(t5)"
   ]
  },
  {
   "cell_type": "code",
   "execution_count": 47,
   "id": "e20bbb71-2184-4460-a1ca-401766e0aad5",
   "metadata": {},
   "outputs": [],
   "source": [
    "del t5"
   ]
  },
  {
   "cell_type": "code",
   "execution_count": 48,
   "id": "bcc879ef-dbb5-4eca-8535-716ef37f95d2",
   "metadata": {},
   "outputs": [
    {
     "ename": "NameError",
     "evalue": "name 't5' is not defined",
     "output_type": "error",
     "traceback": [
      "\u001b[0;31m---------------------------------------------------------------------------\u001b[0m",
      "\u001b[0;31mNameError\u001b[0m                                 Traceback (most recent call last)",
      "Cell \u001b[0;32mIn[48], line 1\u001b[0m\n\u001b[0;32m----> 1\u001b[0m \u001b[43mt5\u001b[49m\n",
      "\u001b[0;31mNameError\u001b[0m: name 't5' is not defined"
     ]
    }
   ],
   "source": [
    "t5"
   ]
  },
  {
   "cell_type": "code",
   "execution_count": 50,
   "id": "c38e433f-ad27-4a98-a5a5-8112097a6a1b",
   "metadata": {},
   "outputs": [
    {
     "data": {
      "text/plain": [
       "False"
      ]
     },
     "execution_count": 50,
     "metadata": {},
     "output_type": "execute_result"
    }
   ],
   "source": [
    "\"Sangram\" in t3"
   ]
  },
  {
   "cell_type": "code",
   "execution_count": 51,
   "id": "2fb8afac-3b40-4d5a-8412-d82d3008c18e",
   "metadata": {},
   "outputs": [
    {
     "data": {
      "text/plain": [
       "((True, (3+6j), 'Sangram', 4, 3, 2, 1), (3, 4, 5, 6))"
      ]
     },
     "execution_count": 51,
     "metadata": {},
     "output_type": "execute_result"
    }
   ],
   "source": [
    "t3"
   ]
  },
  {
   "cell_type": "code",
   "execution_count": 53,
   "id": "4b49eca0-9889-46d0-b5ba-68d762f9ac63",
   "metadata": {},
   "outputs": [
    {
     "data": {
      "text/plain": [
       "(3, 4, 5, 6)"
      ]
     },
     "execution_count": 53,
     "metadata": {},
     "output_type": "execute_result"
    }
   ],
   "source": [
    "t2"
   ]
  },
  {
   "cell_type": "code",
   "execution_count": 54,
   "id": "2788e65b-fa59-4d1c-83be-549862fedb5d",
   "metadata": {},
   "outputs": [
    {
     "data": {
      "text/plain": [
       "True"
      ]
     },
     "execution_count": 54,
     "metadata": {},
     "output_type": "execute_result"
    }
   ],
   "source": [
    "\"Sangram\" in t1"
   ]
  },
  {
   "cell_type": "code",
   "execution_count": 55,
   "id": "69e63d88-121f-4103-95b3-816ece1fb824",
   "metadata": {},
   "outputs": [
    {
     "data": {
      "text/plain": [
       "False"
      ]
     },
     "execution_count": 55,
     "metadata": {},
     "output_type": "execute_result"
    }
   ],
   "source": [
    "2 in t2"
   ]
  },
  {
   "cell_type": "code",
   "execution_count": 56,
   "id": "cf68903c-0ea2-435b-91b3-ead9dc2b319e",
   "metadata": {},
   "outputs": [
    {
     "data": {
      "text/plain": [
       "True"
      ]
     },
     "execution_count": 56,
     "metadata": {},
     "output_type": "execute_result"
    }
   ],
   "source": [
    "4 in t2"
   ]
  },
  {
   "cell_type": "code",
   "execution_count": null,
   "id": "9ec4a856-c575-4077-a4e8-ea2176448c43",
   "metadata": {},
   "outputs": [],
   "source": []
  }
 ],
 "metadata": {
  "kernelspec": {
   "display_name": "Python 3 (ipykernel)",
   "language": "python",
   "name": "python3"
  },
  "language_info": {
   "codemirror_mode": {
    "name": "ipython",
    "version": 3
   },
   "file_extension": ".py",
   "mimetype": "text/x-python",
   "name": "python",
   "nbconvert_exporter": "python",
   "pygments_lexer": "ipython3",
   "version": "3.10.8"
  }
 },
 "nbformat": 4,
 "nbformat_minor": 5
}
