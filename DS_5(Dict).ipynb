{
 "cells": [
  {
   "cell_type": "code",
   "execution_count": 85,
   "id": "73620b2e-9276-4a38-ad3c-ac7c63724fb3",
   "metadata": {},
   "outputs": [],
   "source": [
    "d = {}"
   ]
  },
  {
   "cell_type": "code",
   "execution_count": 86,
   "id": "073514d2-0176-46e7-a307-73a0449927d4",
   "metadata": {},
   "outputs": [
    {
     "data": {
      "text/plain": [
       "dict"
      ]
     },
     "execution_count": 86,
     "metadata": {},
     "output_type": "execute_result"
    }
   ],
   "source": [
    "type(d)"
   ]
  },
  {
   "cell_type": "code",
   "execution_count": 87,
   "id": "2a306e56-57af-4859-9195-37062e11e4bd",
   "metadata": {},
   "outputs": [],
   "source": [
    "d1 = {\"name\" : \"Sangram\",\"age\" : 32 ,\"add\" : \"Talcher\" , \"surname\" : \"sahoo\"}"
   ]
  },
  {
   "cell_type": "code",
   "execution_count": 88,
   "id": "e53d6af3-63aa-48d3-bbcc-74f53b53f8c4",
   "metadata": {},
   "outputs": [
    {
     "data": {
      "text/plain": [
       "{'name': 'Sangram', 'age': 32, 'add': 'Talcher', 'surname': 'sahoo'}"
      ]
     },
     "execution_count": 88,
     "metadata": {},
     "output_type": "execute_result"
    }
   ],
   "source": [
    "d1"
   ]
  },
  {
   "cell_type": "code",
   "execution_count": 89,
   "id": "23c0be37-620f-4f53-b581-df8730eef429",
   "metadata": {},
   "outputs": [],
   "source": [
    "d2 = {\"name\" : \"shaan\" ,\"name\":\"sangram\"}"
   ]
  },
  {
   "cell_type": "code",
   "execution_count": 90,
   "id": "8bb3b1b1-a0a2-4198-8010-eaf91294775d",
   "metadata": {},
   "outputs": [
    {
     "data": {
      "text/plain": [
       "{'name': 'sangram'}"
      ]
     },
     "execution_count": 90,
     "metadata": {},
     "output_type": "execute_result"
    }
   ],
   "source": [
    "d2"
   ]
  },
  {
   "cell_type": "code",
   "execution_count": 9,
   "id": "1a0b9ffd-9eb7-4ede-ac98-4777ab0eedc5",
   "metadata": {},
   "outputs": [],
   "source": [
    "d3 = {12345 : \"abc\"}"
   ]
  },
  {
   "cell_type": "code",
   "execution_count": 10,
   "id": "8fbd6db3-b7db-4426-8c89-df75298d9ea7",
   "metadata": {},
   "outputs": [
    {
     "data": {
      "text/plain": [
       "{12345: 'abc'}"
      ]
     },
     "execution_count": 10,
     "metadata": {},
     "output_type": "execute_result"
    }
   ],
   "source": [
    "d3"
   ]
  },
  {
   "cell_type": "code",
   "execution_count": 11,
   "id": "13c1590a-d2e5-40f8-bf1a-afdf36799dd8",
   "metadata": {},
   "outputs": [],
   "source": [
    "d4 = {\"abc\": 12345}"
   ]
  },
  {
   "cell_type": "code",
   "execution_count": 12,
   "id": "1f994c94-74de-44b1-aa3f-087d00bc845f",
   "metadata": {},
   "outputs": [
    {
     "data": {
      "text/plain": [
       "{'abc': 12345}"
      ]
     },
     "execution_count": 12,
     "metadata": {},
     "output_type": "execute_result"
    }
   ],
   "source": [
    "d4"
   ]
  },
  {
   "cell_type": "code",
   "execution_count": 13,
   "id": "cd22e59b-bd62-48b2-9c67-70e5783f0c81",
   "metadata": {},
   "outputs": [],
   "source": [
    "d5 = {123.45 : \"abc\"}"
   ]
  },
  {
   "cell_type": "code",
   "execution_count": 14,
   "id": "787e217c-6ef5-4816-8a6e-6ff0872310c3",
   "metadata": {},
   "outputs": [
    {
     "data": {
      "text/plain": [
       "{123.45: 'abc'}"
      ]
     },
     "execution_count": 14,
     "metadata": {},
     "output_type": "execute_result"
    }
   ],
   "source": [
    "d5"
   ]
  },
  {
   "cell_type": "code",
   "execution_count": 15,
   "id": "4e0983e7-053e-40ad-ac79-0ecbf6d8f2d1",
   "metadata": {},
   "outputs": [],
   "source": [
    "d6 = {True : \"abc\"}"
   ]
  },
  {
   "cell_type": "code",
   "execution_count": 16,
   "id": "8ac0421e-4297-40e4-8c16-f536e71c49b2",
   "metadata": {},
   "outputs": [
    {
     "data": {
      "text/plain": [
       "{True: 'abc'}"
      ]
     },
     "execution_count": 16,
     "metadata": {},
     "output_type": "execute_result"
    }
   ],
   "source": [
    "d6"
   ]
  },
  {
   "cell_type": "code",
   "execution_count": 17,
   "id": "267a1179-c213-478c-887a-0d678b3376c9",
   "metadata": {},
   "outputs": [
    {
     "ename": "SyntaxError",
     "evalue": "invalid syntax (630726308.py, line 1)",
     "output_type": "error",
     "traceback": [
      "\u001b[0;36m  Cell \u001b[0;32mIn[17], line 1\u001b[0;36m\u001b[0m\n\u001b[0;31m    d7 = {@ : \"abc\"}\u001b[0m\n\u001b[0m          ^\u001b[0m\n\u001b[0;31mSyntaxError\u001b[0m\u001b[0;31m:\u001b[0m invalid syntax\n"
     ]
    }
   ],
   "source": [
    "d7 = {@ : \"abc\"}"
   ]
  },
  {
   "cell_type": "code",
   "execution_count": 18,
   "id": "f3deafee-a928-4928-b3ba-2b1a9582b87b",
   "metadata": {},
   "outputs": [
    {
     "ename": "SyntaxError",
     "evalue": "incomplete input (3779456525.py, line 1)",
     "output_type": "error",
     "traceback": [
      "\u001b[0;36m  Cell \u001b[0;32mIn[18], line 1\u001b[0;36m\u001b[0m\n\u001b[0;31m    d7 = {\"abc\" : # }\u001b[0m\n\u001b[0m                     ^\u001b[0m\n\u001b[0;31mSyntaxError\u001b[0m\u001b[0;31m:\u001b[0m incomplete input\n"
     ]
    }
   ],
   "source": [
    "d7 = {\"abc\" : # }"
   ]
  },
  {
   "cell_type": "code",
   "execution_count": 19,
   "id": "c407722f-0f3d-40d2-afab-2f4df2c9ec2b",
   "metadata": {},
   "outputs": [
    {
     "ename": "TypeError",
     "evalue": "unhashable type: 'list'",
     "output_type": "error",
     "traceback": [
      "\u001b[0;31m---------------------------------------------------------------------------\u001b[0m",
      "\u001b[0;31mTypeError\u001b[0m                                 Traceback (most recent call last)",
      "Cell \u001b[0;32mIn[19], line 1\u001b[0m\n\u001b[0;32m----> 1\u001b[0m d8 \u001b[38;5;241m=\u001b[39m {[\u001b[38;5;241m1\u001b[39m,\u001b[38;5;241m2\u001b[39m,\u001b[38;5;241m3\u001b[39m,\u001b[38;5;241m4\u001b[39m] : \u001b[38;5;124m\"\u001b[39m\u001b[38;5;124mabc\u001b[39m\u001b[38;5;124m\"\u001b[39m}\n",
      "\u001b[0;31mTypeError\u001b[0m: unhashable type: 'list'"
     ]
    }
   ],
   "source": [
    "d8 = {[1,2,3,4] : \"abc\"}"
   ]
  },
  {
   "cell_type": "code",
   "execution_count": 20,
   "id": "8ab54b33-57da-48d4-8cf8-95f4d597cade",
   "metadata": {},
   "outputs": [],
   "source": [
    "d9 = {(1,2,3,4) : \"abc\"}"
   ]
  },
  {
   "cell_type": "code",
   "execution_count": 21,
   "id": "2807e0b2-fa06-4fb5-b0bc-580342878e3a",
   "metadata": {},
   "outputs": [
    {
     "ename": "TypeError",
     "evalue": "unhashable type: 'set'",
     "output_type": "error",
     "traceback": [
      "\u001b[0;31m---------------------------------------------------------------------------\u001b[0m",
      "\u001b[0;31mTypeError\u001b[0m                                 Traceback (most recent call last)",
      "Cell \u001b[0;32mIn[21], line 1\u001b[0m\n\u001b[0;32m----> 1\u001b[0m d10 \u001b[38;5;241m=\u001b[39m {{\u001b[38;5;241m1\u001b[39m,\u001b[38;5;241m2\u001b[39m,\u001b[38;5;241m3\u001b[39m,\u001b[38;5;241m4\u001b[39m}:\u001b[38;5;124m\"\u001b[39m\u001b[38;5;124mabc\u001b[39m\u001b[38;5;124m\"\u001b[39m}\n",
      "\u001b[0;31mTypeError\u001b[0m: unhashable type: 'set'"
     ]
    }
   ],
   "source": [
    "d10 = {{1,2,3,4}:\"abc\"}"
   ]
  },
  {
   "cell_type": "code",
   "execution_count": 22,
   "id": "bc672c49-4781-4144-88ee-79bd972637e4",
   "metadata": {},
   "outputs": [],
   "source": [
    "d11 = {\"course_name\" : [\"DS\",\"AWS\",\"Devops\",\"Java\"]}"
   ]
  },
  {
   "cell_type": "code",
   "execution_count": 23,
   "id": "58109284-c9ad-4d76-ba54-274de9ae99df",
   "metadata": {},
   "outputs": [
    {
     "data": {
      "text/plain": [
       "{'course_name': ['DS', 'AWS', 'Devops', 'Java']}"
      ]
     },
     "execution_count": 23,
     "metadata": {},
     "output_type": "execute_result"
    }
   ],
   "source": [
    "d11"
   ]
  },
  {
   "cell_type": "code",
   "execution_count": 24,
   "id": "f1cc09a1-b1fb-4cce-939d-2b81448a236b",
   "metadata": {},
   "outputs": [],
   "source": [
    "d12 = {\"age\" : (1,2,3,4)}"
   ]
  },
  {
   "cell_type": "code",
   "execution_count": 25,
   "id": "4ab3aac2-d140-4aa4-93dd-45f5d798c742",
   "metadata": {},
   "outputs": [
    {
     "data": {
      "text/plain": [
       "{'age': (1, 2, 3, 4)}"
      ]
     },
     "execution_count": 25,
     "metadata": {},
     "output_type": "execute_result"
    }
   ],
   "source": [
    "d12"
   ]
  },
  {
   "cell_type": "code",
   "execution_count": 26,
   "id": "705f78f9-3b9f-4622-a1e3-6b7d9c4d9cad",
   "metadata": {},
   "outputs": [],
   "source": [
    "d13 = {\"age\" : {1,2,3,4}}"
   ]
  },
  {
   "cell_type": "code",
   "execution_count": 27,
   "id": "22ace769-630c-4ef0-a2ec-a74a937e2c56",
   "metadata": {},
   "outputs": [
    {
     "data": {
      "text/plain": [
       "{'age': {1, 2, 3, 4}}"
      ]
     },
     "execution_count": 27,
     "metadata": {},
     "output_type": "execute_result"
    }
   ],
   "source": [
    "d13"
   ]
  },
  {
   "cell_type": "code",
   "execution_count": 28,
   "id": "173e62b2-ec7b-4414-bf48-3ee92bd33300",
   "metadata": {},
   "outputs": [],
   "source": [
    "d14 = {\"course\" : {\"AWS\":23 ,\"Devops\" : 28 ,\"java\" : \"3rd\" }}"
   ]
  },
  {
   "cell_type": "code",
   "execution_count": 29,
   "id": "fd7ff42b-6f3c-4c60-9242-69c196d25e31",
   "metadata": {},
   "outputs": [
    {
     "data": {
      "text/plain": [
       "{'course': {'AWS': 23, 'Devops': 28, 'java': '3rd'}}"
      ]
     },
     "execution_count": 29,
     "metadata": {},
     "output_type": "execute_result"
    }
   ],
   "source": [
    "d14"
   ]
  },
  {
   "cell_type": "code",
   "execution_count": 30,
   "id": "ab72cc0a-f6a8-4fa5-bbef-91f182ee186f",
   "metadata": {},
   "outputs": [],
   "source": [
    "d15 = {\"course\":[\"aws\",\"DS\",\"pyt\",\"ML\"] , \"Date \": (14,18,8,25) , \"students\" :{60,40,39,48} ,}"
   ]
  },
  {
   "cell_type": "code",
   "execution_count": 31,
   "id": "833e0246-795f-457b-8934-fa4212346e8f",
   "metadata": {},
   "outputs": [
    {
     "data": {
      "text/plain": [
       "{'course': ['aws', 'DS', 'pyt', 'ML'],\n",
       " 'Date ': (14, 18, 8, 25),\n",
       " 'students': {39, 40, 48, 60}}"
      ]
     },
     "execution_count": 31,
     "metadata": {},
     "output_type": "execute_result"
    }
   ],
   "source": [
    "d15"
   ]
  },
  {
   "cell_type": "code",
   "execution_count": 32,
   "id": "1f44e40d-c746-4f3e-abc7-c650fcbf3935",
   "metadata": {},
   "outputs": [
    {
     "data": {
      "text/plain": [
       "['aws', 'DS', 'pyt', 'ML']"
      ]
     },
     "execution_count": 32,
     "metadata": {},
     "output_type": "execute_result"
    }
   ],
   "source": [
    "d15[\"course\"]"
   ]
  },
  {
   "cell_type": "code",
   "execution_count": 34,
   "id": "8df5e9c9-69a8-4bf1-87e5-889fc040c8fb",
   "metadata": {},
   "outputs": [
    {
     "data": {
      "text/plain": [
       "(14, 18, 8, 25)"
      ]
     },
     "execution_count": 34,
     "metadata": {},
     "output_type": "execute_result"
    }
   ],
   "source": [
    "d15[\"Date \"]"
   ]
  },
  {
   "cell_type": "code",
   "execution_count": 35,
   "id": "1bd3383e-09da-481f-86c7-b6170e136fec",
   "metadata": {},
   "outputs": [
    {
     "data": {
      "text/plain": [
       "dict_keys(['course', 'Date ', 'students'])"
      ]
     },
     "execution_count": 35,
     "metadata": {},
     "output_type": "execute_result"
    }
   ],
   "source": [
    "d15.keys()"
   ]
  },
  {
   "cell_type": "code",
   "execution_count": 36,
   "id": "cb8e50e4-77f9-4186-bb47-29e5ef3a1593",
   "metadata": {},
   "outputs": [
    {
     "data": {
      "text/plain": [
       "dict_values([['aws', 'DS', 'pyt', 'ML'], (14, 18, 8, 25), {40, 48, 60, 39}])"
      ]
     },
     "execution_count": 36,
     "metadata": {},
     "output_type": "execute_result"
    }
   ],
   "source": [
    "d15.values()"
   ]
  },
  {
   "cell_type": "code",
   "execution_count": 37,
   "id": "fbfbd19a-ae60-4f2e-b757-03ac5ca78232",
   "metadata": {},
   "outputs": [
    {
     "data": {
      "text/plain": [
       "tuple"
      ]
     },
     "execution_count": 37,
     "metadata": {},
     "output_type": "execute_result"
    }
   ],
   "source": [
    "type(d15[\"Date \"])"
   ]
  },
  {
   "cell_type": "code",
   "execution_count": 38,
   "id": "a0c315d6-5ef6-4eee-b23d-7686ebb0df42",
   "metadata": {},
   "outputs": [
    {
     "data": {
      "text/plain": [
       "set"
      ]
     },
     "execution_count": 38,
     "metadata": {},
     "output_type": "execute_result"
    }
   ],
   "source": [
    "type(d15[\"students\"])"
   ]
  },
  {
   "cell_type": "code",
   "execution_count": 39,
   "id": "3366c195-f2ed-4cc1-94ad-0e5083a3be61",
   "metadata": {},
   "outputs": [
    {
     "data": {
      "text/plain": [
       "list"
      ]
     },
     "execution_count": 39,
     "metadata": {},
     "output_type": "execute_result"
    }
   ],
   "source": [
    "type(d15[\"course\"])"
   ]
  },
  {
   "cell_type": "code",
   "execution_count": 42,
   "id": "215559c9-fdac-4588-9c94-e7c95f0fe2a7",
   "metadata": {},
   "outputs": [
    {
     "data": {
      "text/plain": [
       "'PYT'"
      ]
     },
     "execution_count": 42,
     "metadata": {},
     "output_type": "execute_result"
    }
   ],
   "source": [
    "d15[\"course\"][2].upper()"
   ]
  },
  {
   "cell_type": "code",
   "execution_count": 45,
   "id": "cff8aa1f-a8db-42cf-817e-6a53286329cb",
   "metadata": {},
   "outputs": [],
   "source": [
    "d15[\"course\"][2] = \"PYTHON\""
   ]
  },
  {
   "cell_type": "code",
   "execution_count": 48,
   "id": "d0b10a23-364b-4a93-a8f8-053df38176b1",
   "metadata": {},
   "outputs": [
    {
     "data": {
      "text/plain": [
       "{'course': ['aws', 'DS', 'PYTHON', 'ML'],\n",
       " 'Date ': (14, 18, 8, 25),\n",
       " 'students': {39, 40, 48, 60}}"
      ]
     },
     "execution_count": 48,
     "metadata": {},
     "output_type": "execute_result"
    }
   ],
   "source": [
    "d15"
   ]
  },
  {
   "cell_type": "code",
   "execution_count": 52,
   "id": "2e8cffa8-a745-4a2c-b453-d8998dbc52a8",
   "metadata": {},
   "outputs": [
    {
     "data": {
      "text/plain": [
       "'ds'"
      ]
     },
     "execution_count": 52,
     "metadata": {},
     "output_type": "execute_result"
    }
   ],
   "source": [
    "d15[\"course\"][1].lower()"
   ]
  },
  {
   "cell_type": "code",
   "execution_count": 53,
   "id": "31b1a267-e77a-4ec0-868d-865f9e4dc134",
   "metadata": {},
   "outputs": [
    {
     "data": {
      "text/plain": [
       "{'course': ['aws', 'DS', 'PYTHON', 'ML'],\n",
       " 'Date ': (14, 18, 8, 25),\n",
       " 'students': {39, 40, 48, 60}}"
      ]
     },
     "execution_count": 53,
     "metadata": {},
     "output_type": "execute_result"
    }
   ],
   "source": [
    "d15"
   ]
  },
  {
   "cell_type": "code",
   "execution_count": 54,
   "id": "aa045b07-e6f4-4f42-9c73-e9a8f7828b21",
   "metadata": {},
   "outputs": [],
   "source": [
    "d15[\"fees\"]= \"30k\""
   ]
  },
  {
   "cell_type": "code",
   "execution_count": 55,
   "id": "af738f1f-e2aa-4ed4-a8c9-e745c31f39cc",
   "metadata": {},
   "outputs": [
    {
     "data": {
      "text/plain": [
       "{'course': ['aws', 'DS', 'PYTHON', 'ML'],\n",
       " 'Date ': (14, 18, 8, 25),\n",
       " 'students': {39, 40, 48, 60},\n",
       " 'fees': '30k'}"
      ]
     },
     "execution_count": 55,
     "metadata": {},
     "output_type": "execute_result"
    }
   ],
   "source": [
    "d15"
   ]
  },
  {
   "cell_type": "code",
   "execution_count": 56,
   "id": "ee0e2ddc-ff9a-4776-9c2c-43453261e960",
   "metadata": {},
   "outputs": [],
   "source": [
    "d15[\"actual fees\"] = {\"CS\":30,\"Math\":25,\"Phy\":15}"
   ]
  },
  {
   "cell_type": "code",
   "execution_count": 57,
   "id": "45867cba-d96d-4d62-b508-183fbc89c960",
   "metadata": {},
   "outputs": [
    {
     "data": {
      "text/plain": [
       "{'course': ['aws', 'DS', 'PYTHON', 'ML'],\n",
       " 'Date ': (14, 18, 8, 25),\n",
       " 'students': {39, 40, 48, 60},\n",
       " 'fees': '30k',\n",
       " 'actual fees': {'CS': 30, 'Math': 25, 'Phy': 15}}"
      ]
     },
     "execution_count": 57,
     "metadata": {},
     "output_type": "execute_result"
    }
   ],
   "source": [
    "d15"
   ]
  },
  {
   "cell_type": "code",
   "execution_count": 60,
   "id": "486c9f9a-b505-48ad-a59c-14e3cf1c73b2",
   "metadata": {},
   "outputs": [
    {
     "data": {
      "text/plain": [
       "dict"
      ]
     },
     "execution_count": 60,
     "metadata": {},
     "output_type": "execute_result"
    }
   ],
   "source": [
    "type(d15[\"actual fees\"])"
   ]
  },
  {
   "cell_type": "code",
   "execution_count": 61,
   "id": "6e0d20be-6a54-4998-8bee-d19943372eeb",
   "metadata": {},
   "outputs": [
    {
     "data": {
      "text/plain": [
       "30"
      ]
     },
     "execution_count": 61,
     "metadata": {},
     "output_type": "execute_result"
    }
   ],
   "source": [
    "d15[\"actual fees\"][\"CS\"]"
   ]
  },
  {
   "cell_type": "code",
   "execution_count": 62,
   "id": "38e9bdbe-7965-4908-a2f0-80d8ea71cb66",
   "metadata": {},
   "outputs": [
    {
     "data": {
      "text/plain": [
       "5"
      ]
     },
     "execution_count": 62,
     "metadata": {},
     "output_type": "execute_result"
    }
   ],
   "source": [
    "len(d15)"
   ]
  },
  {
   "cell_type": "code",
   "execution_count": 63,
   "id": "c96c1278-7914-4b34-9f20-7b72eb09cb01",
   "metadata": {},
   "outputs": [
    {
     "data": {
      "text/plain": [
       "dict_keys(['course', 'Date ', 'students', 'fees', 'actual fees'])"
      ]
     },
     "execution_count": 63,
     "metadata": {},
     "output_type": "execute_result"
    }
   ],
   "source": [
    "d15.keys()"
   ]
  },
  {
   "cell_type": "code",
   "execution_count": 64,
   "id": "a2842dc9-046e-49ff-8a5f-fe1cffb287ea",
   "metadata": {},
   "outputs": [
    {
     "data": {
      "text/plain": [
       "dict_values([['aws', 'DS', 'PYTHON', 'ML'], (14, 18, 8, 25), {40, 48, 60, 39}, '30k', {'CS': 30, 'Math': 25, 'Phy': 15}])"
      ]
     },
     "execution_count": 64,
     "metadata": {},
     "output_type": "execute_result"
    }
   ],
   "source": [
    "d15.values()"
   ]
  },
  {
   "cell_type": "code",
   "execution_count": 65,
   "id": "c23f6cd2-0f74-43d7-89b4-826ea3a012c5",
   "metadata": {},
   "outputs": [
    {
     "data": {
      "text/plain": [
       "[['aws', 'DS', 'PYTHON', 'ML'],\n",
       " (14, 18, 8, 25),\n",
       " {39, 40, 48, 60},\n",
       " '30k',\n",
       " {'CS': 30, 'Math': 25, 'Phy': 15}]"
      ]
     },
     "execution_count": 65,
     "metadata": {},
     "output_type": "execute_result"
    }
   ],
   "source": [
    "list(d15.values())"
   ]
  },
  {
   "cell_type": "code",
   "execution_count": 66,
   "id": "6f61c3df-84d6-4309-a017-86180c9b98f0",
   "metadata": {},
   "outputs": [],
   "source": [
    "l1 = list(d15.values())"
   ]
  },
  {
   "cell_type": "code",
   "execution_count": 67,
   "id": "209a028f-bac9-4e46-8d34-99c72a1e3c81",
   "metadata": {},
   "outputs": [
    {
     "data": {
      "text/plain": [
       "[['aws', 'DS', 'PYTHON', 'ML'],\n",
       " (14, 18, 8, 25),\n",
       " {39, 40, 48, 60},\n",
       " '30k',\n",
       " {'CS': 30, 'Math': 25, 'Phy': 15}]"
      ]
     },
     "execution_count": 67,
     "metadata": {},
     "output_type": "execute_result"
    }
   ],
   "source": [
    "l1"
   ]
  },
  {
   "cell_type": "code",
   "execution_count": 68,
   "id": "745f6dce-0060-49ad-bfff-4e36cb1bf2e1",
   "metadata": {},
   "outputs": [],
   "source": [
    "l2 = list(d15.keys())"
   ]
  },
  {
   "cell_type": "code",
   "execution_count": 70,
   "id": "585da6ea-5ba2-4c75-b3bb-3bfb7f56d728",
   "metadata": {},
   "outputs": [
    {
     "data": {
      "text/plain": [
       "['course', 'Date ', 'students', 'fees', 'actual fees']"
      ]
     },
     "execution_count": 70,
     "metadata": {},
     "output_type": "execute_result"
    }
   ],
   "source": [
    "l2"
   ]
  },
  {
   "cell_type": "code",
   "execution_count": 71,
   "id": "a1adc564-1acd-4239-ad1a-b100129b116e",
   "metadata": {},
   "outputs": [
    {
     "data": {
      "text/plain": [
       "dict_items([('course', ['aws', 'DS', 'PYTHON', 'ML']), ('Date ', (14, 18, 8, 25)), ('students', {40, 48, 60, 39}), ('fees', '30k'), ('actual fees', {'CS': 30, 'Math': 25, 'Phy': 15})])"
      ]
     },
     "execution_count": 71,
     "metadata": {},
     "output_type": "execute_result"
    }
   ],
   "source": [
    "d15.items()"
   ]
  },
  {
   "cell_type": "code",
   "execution_count": 73,
   "id": "8aed9f09-74e7-4aa4-b6b0-b612626faedb",
   "metadata": {},
   "outputs": [],
   "source": [
    "d16 = d15.copy()"
   ]
  },
  {
   "cell_type": "code",
   "execution_count": 74,
   "id": "75a28233-f2dd-45a4-9ff9-8b02886504fd",
   "metadata": {},
   "outputs": [],
   "source": [
    "d16 = d15.copy()"
   ]
  },
  {
   "cell_type": "code",
   "execution_count": 75,
   "id": "b03f7626-c0ad-4c7c-970a-85f0945ec079",
   "metadata": {},
   "outputs": [
    {
     "data": {
      "text/plain": [
       "{'course': ['aws', 'DS', 'PYTHON', 'ML'],\n",
       " 'Date ': (14, 18, 8, 25),\n",
       " 'students': {39, 40, 48, 60},\n",
       " 'fees': '30k',\n",
       " 'actual fees': {'CS': 30, 'Math': 25, 'Phy': 15}}"
      ]
     },
     "execution_count": 75,
     "metadata": {},
     "output_type": "execute_result"
    }
   ],
   "source": [
    "d16"
   ]
  },
  {
   "cell_type": "code",
   "execution_count": 76,
   "id": "c67601f4-120a-46c8-b885-42f8991426ed",
   "metadata": {},
   "outputs": [],
   "source": [
    "del(d16[\"fees\"])"
   ]
  },
  {
   "cell_type": "code",
   "execution_count": 77,
   "id": "f460ffee-704f-44d1-9802-935d1159ffef",
   "metadata": {},
   "outputs": [
    {
     "data": {
      "text/plain": [
       "{'course': ['aws', 'DS', 'PYTHON', 'ML'],\n",
       " 'Date ': (14, 18, 8, 25),\n",
       " 'students': {39, 40, 48, 60},\n",
       " 'actual fees': {'CS': 30, 'Math': 25, 'Phy': 15}}"
      ]
     },
     "execution_count": 77,
     "metadata": {},
     "output_type": "execute_result"
    }
   ],
   "source": [
    "d16"
   ]
  },
  {
   "cell_type": "code",
   "execution_count": 78,
   "id": "11622156-19ad-4aef-bf65-09dff3425456",
   "metadata": {},
   "outputs": [
    {
     "ename": "TypeError",
     "evalue": "pop expected at least 1 argument, got 0",
     "output_type": "error",
     "traceback": [
      "\u001b[0;31m---------------------------------------------------------------------------\u001b[0m",
      "\u001b[0;31mTypeError\u001b[0m                                 Traceback (most recent call last)",
      "Cell \u001b[0;32mIn[78], line 1\u001b[0m\n\u001b[0;32m----> 1\u001b[0m \u001b[43md16\u001b[49m\u001b[38;5;241;43m.\u001b[39;49m\u001b[43mpop\u001b[49m\u001b[43m(\u001b[49m\u001b[43m)\u001b[49m\n",
      "\u001b[0;31mTypeError\u001b[0m: pop expected at least 1 argument, got 0"
     ]
    }
   ],
   "source": [
    "d16.pop()"
   ]
  },
  {
   "cell_type": "code",
   "execution_count": 80,
   "id": "2e1c4b15-b071-4a47-aa4f-1c3f9346e84c",
   "metadata": {},
   "outputs": [
    {
     "data": {
      "text/plain": [
       "(14, 18, 8, 25)"
      ]
     },
     "execution_count": 80,
     "metadata": {},
     "output_type": "execute_result"
    }
   ],
   "source": [
    "d16.pop(\"Date \")"
   ]
  },
  {
   "cell_type": "code",
   "execution_count": 81,
   "id": "5d479007-e39f-45d5-8fa8-697a43b9c0bd",
   "metadata": {},
   "outputs": [
    {
     "data": {
      "text/plain": [
       "{'course': ['aws', 'DS', 'PYTHON', 'ML'],\n",
       " 'students': {39, 40, 48, 60},\n",
       " 'actual fees': {'CS': 30, 'Math': 25, 'Phy': 15}}"
      ]
     },
     "execution_count": 81,
     "metadata": {},
     "output_type": "execute_result"
    }
   ],
   "source": [
    "d16"
   ]
  },
  {
   "cell_type": "code",
   "execution_count": 84,
   "id": "8c195c11-5336-490f-b6ea-34953d24830e",
   "metadata": {},
   "outputs": [
    {
     "ename": "SyntaxError",
     "evalue": "invalid syntax (1472636946.py, line 1)",
     "output_type": "error",
     "traceback": [
      "\u001b[0;36m  Cell \u001b[0;32mIn[84], line 1\u001b[0;36m\u001b[0m\n\u001b[0;31m    d16.del(\"students\")\u001b[0m\n\u001b[0m        ^\u001b[0m\n\u001b[0;31mSyntaxError\u001b[0m\u001b[0;31m:\u001b[0m invalid syntax\n"
     ]
    }
   ],
   "source": [
    "d16.del(\"students\")"
   ]
  },
  {
   "cell_type": "code",
   "execution_count": 92,
   "id": "c266f410-48fb-49e2-a6c0-f4f4b0961719",
   "metadata": {},
   "outputs": [
    {
     "data": {
      "text/plain": [
       "{'course': ['aws', 'DS', 'PYTHON', 'ML'],\n",
       " 'students': {39, 40, 48, 60},\n",
       " 'actual fees': {'CS': 30, 'Math': 25, 'Phy': 15}}"
      ]
     },
     "execution_count": 92,
     "metadata": {},
     "output_type": "execute_result"
    }
   ],
   "source": [
    "d16"
   ]
  },
  {
   "cell_type": "code",
   "execution_count": 95,
   "id": "6ace7560-9b86-4bad-baf4-e31928e2af2e",
   "metadata": {},
   "outputs": [],
   "source": [
    "del(d16[\"students\"])"
   ]
  },
  {
   "cell_type": "code",
   "execution_count": 96,
   "id": "d73e074c-4f0e-4767-b653-c79c3e98d270",
   "metadata": {},
   "outputs": [
    {
     "data": {
      "text/plain": [
       "{'course': ['aws', 'DS', 'PYTHON', 'ML'],\n",
       " 'actual fees': {'CS': 30, 'Math': 25, 'Phy': 15}}"
      ]
     },
     "execution_count": 96,
     "metadata": {},
     "output_type": "execute_result"
    }
   ],
   "source": [
    "d16"
   ]
  },
  {
   "cell_type": "code",
   "execution_count": 97,
   "id": "39e99592-6486-4449-9140-19816c144d3b",
   "metadata": {},
   "outputs": [
    {
     "data": {
      "text/plain": [
       "{'course': ['aws', 'DS', 'PYTHON', 'ML'],\n",
       " 'Date ': (14, 18, 8, 25),\n",
       " 'students': {39, 40, 48, 60},\n",
       " 'fees': '30k',\n",
       " 'actual fees': {'CS': 30, 'Math': 25, 'Phy': 15}}"
      ]
     },
     "execution_count": 97,
     "metadata": {},
     "output_type": "execute_result"
    }
   ],
   "source": [
    "d15"
   ]
  },
  {
   "cell_type": "code",
   "execution_count": 98,
   "id": "08aac1eb-b54b-45a2-af0e-2a9b93c491ee",
   "metadata": {},
   "outputs": [
    {
     "ename": "NameError",
     "evalue": "name 'd17' is not defined",
     "output_type": "error",
     "traceback": [
      "\u001b[0;31m---------------------------------------------------------------------------\u001b[0m",
      "\u001b[0;31mNameError\u001b[0m                                 Traceback (most recent call last)",
      "Cell \u001b[0;32mIn[98], line 1\u001b[0m\n\u001b[0;32m----> 1\u001b[0m d15 \u001b[38;5;241m=\u001b[39m \u001b[43md17\u001b[49m\n",
      "\u001b[0;31mNameError\u001b[0m: name 'd17' is not defined"
     ]
    }
   ],
   "source": [
    "d15 = d17"
   ]
  },
  {
   "cell_type": "code",
   "execution_count": 99,
   "id": "d6a29a0a-06c6-462c-88f7-91dcba08787d",
   "metadata": {},
   "outputs": [],
   "source": [
    "d17 = d15"
   ]
  },
  {
   "cell_type": "code",
   "execution_count": 100,
   "id": "758c5b2a-ac19-4021-8464-6267104c33ac",
   "metadata": {},
   "outputs": [
    {
     "data": {
      "text/plain": [
       "{'course': ['aws', 'DS', 'PYTHON', 'ML'],\n",
       " 'Date ': (14, 18, 8, 25),\n",
       " 'students': {39, 40, 48, 60},\n",
       " 'fees': '30k',\n",
       " 'actual fees': {'CS': 30, 'Math': 25, 'Phy': 15}}"
      ]
     },
     "execution_count": 100,
     "metadata": {},
     "output_type": "execute_result"
    }
   ],
   "source": [
    "d17"
   ]
  },
  {
   "cell_type": "code",
   "execution_count": 101,
   "id": "3f1b516b-c807-4990-b9ce-69a6351d6e97",
   "metadata": {},
   "outputs": [
    {
     "data": {
      "text/plain": [
       "'30k'"
      ]
     },
     "execution_count": 101,
     "metadata": {},
     "output_type": "execute_result"
    }
   ],
   "source": [
    "d17.pop(\"fees\")"
   ]
  },
  {
   "cell_type": "code",
   "execution_count": 102,
   "id": "368e1d48-6f00-48ff-8651-3d655204af5a",
   "metadata": {},
   "outputs": [
    {
     "data": {
      "text/plain": [
       "{'course': ['aws', 'DS', 'PYTHON', 'ML'],\n",
       " 'Date ': (14, 18, 8, 25),\n",
       " 'students': {39, 40, 48, 60},\n",
       " 'actual fees': {'CS': 30, 'Math': 25, 'Phy': 15}}"
      ]
     },
     "execution_count": 102,
     "metadata": {},
     "output_type": "execute_result"
    }
   ],
   "source": [
    "d17"
   ]
  },
  {
   "cell_type": "code",
   "execution_count": 103,
   "id": "9b684b03-d7ef-4a65-9db0-1cf5fc252c88",
   "metadata": {},
   "outputs": [
    {
     "data": {
      "text/plain": [
       "{'ctk': (45, 38, 52, 37),\n",
       " 'bbsr': (45, 38, 52, 37),\n",
       " 'angul': (45, 38, 52, 37),\n",
       " 'rkl': (45, 38, 52, 37)}"
      ]
     },
     "execution_count": 103,
     "metadata": {},
     "output_type": "execute_result"
    }
   ],
   "source": [
    "d17.fromkeys((\"ctk\",\"bbsr\",\"angul\",\"rkl\"),(45,38,52,37))"
   ]
  },
  {
   "cell_type": "code",
   "execution_count": 104,
   "id": "311427b6-6559-405c-ab4e-c56f106c4b9d",
   "metadata": {},
   "outputs": [],
   "source": [
    "d18 = {\"key1\":\"value1\",\"key2\":\"value2\"}"
   ]
  },
  {
   "cell_type": "code",
   "execution_count": 105,
   "id": "fa7ee837-28d1-413c-8b65-9f3d2dbecd49",
   "metadata": {},
   "outputs": [],
   "source": [
    "d20 = {\"key3\":\"value3\",\"key4\":\"value4\"}"
   ]
  },
  {
   "cell_type": "code",
   "execution_count": 106,
   "id": "11e069d5-11de-48b6-8a74-abb42b6c690d",
   "metadata": {},
   "outputs": [
    {
     "data": {
      "text/plain": [
       "{'key1': 'value1', 'key2': 'value2'}"
      ]
     },
     "execution_count": 106,
     "metadata": {},
     "output_type": "execute_result"
    }
   ],
   "source": [
    "d18"
   ]
  },
  {
   "cell_type": "code",
   "execution_count": 107,
   "id": "0a5d0c74-9ae5-41dc-bd11-0a8841806625",
   "metadata": {},
   "outputs": [
    {
     "data": {
      "text/plain": [
       "{'key3': 'value3', 'key4': 'value4'}"
      ]
     },
     "execution_count": 107,
     "metadata": {},
     "output_type": "execute_result"
    }
   ],
   "source": [
    "d20"
   ]
  },
  {
   "cell_type": "code",
   "execution_count": 108,
   "id": "e6a321e6-8b3a-4d14-9e36-c30f63cab369",
   "metadata": {},
   "outputs": [],
   "source": [
    "d18.update(d20)"
   ]
  },
  {
   "cell_type": "code",
   "execution_count": 109,
   "id": "d1855483-0bc1-4e44-9bfa-be8ed0c24bf7",
   "metadata": {},
   "outputs": [
    {
     "data": {
      "text/plain": [
       "{'key1': 'value1', 'key2': 'value2', 'key3': 'value3', 'key4': 'value4'}"
      ]
     },
     "execution_count": 109,
     "metadata": {},
     "output_type": "execute_result"
    }
   ],
   "source": [
    "d18"
   ]
  },
  {
   "cell_type": "code",
   "execution_count": 110,
   "id": "cbc5b580-c46b-4dee-9f06-907c8330c199",
   "metadata": {},
   "outputs": [
    {
     "data": {
      "text/plain": [
       "{'key3': 'value3', 'key4': 'value4'}"
      ]
     },
     "execution_count": 110,
     "metadata": {},
     "output_type": "execute_result"
    }
   ],
   "source": [
    "d20"
   ]
  },
  {
   "cell_type": "code",
   "execution_count": 111,
   "id": "00af0088-3262-4772-807d-5f09fef0bc62",
   "metadata": {},
   "outputs": [],
   "source": [
    "d20.update(d18)"
   ]
  },
  {
   "cell_type": "code",
   "execution_count": 112,
   "id": "b9de6044-326d-483e-bf29-8b8513ac075d",
   "metadata": {},
   "outputs": [
    {
     "data": {
      "text/plain": [
       "{'key3': 'value3', 'key4': 'value4', 'key1': 'value1', 'key2': 'value2'}"
      ]
     },
     "execution_count": 112,
     "metadata": {},
     "output_type": "execute_result"
    }
   ],
   "source": [
    "d20"
   ]
  },
  {
   "cell_type": "code",
   "execution_count": 113,
   "id": "a0fed0f8-c72e-47b6-94fb-107673996167",
   "metadata": {},
   "outputs": [
    {
     "data": {
      "text/plain": [
       "'value3'"
      ]
     },
     "execution_count": 113,
     "metadata": {},
     "output_type": "execute_result"
    }
   ],
   "source": [
    "d20.get(\"key3\")"
   ]
  },
  {
   "cell_type": "code",
   "execution_count": 116,
   "id": "cd5fa3a7-e447-4bbe-9a0f-9f667abd8a96",
   "metadata": {},
   "outputs": [
    {
     "data": {
      "text/plain": [
       "{1: 1, 2: 4, 3: 9, 4: 16, 5: 25, 6: 36, 7: 49, 8: 64, 9: 81, 10: 100}"
      ]
     },
     "execution_count": 116,
     "metadata": {},
     "output_type": "execute_result"
    }
   ],
   "source": [
    "{i : i**2  for i in range(1,11)}"
   ]
  },
  {
   "cell_type": "code",
   "execution_count": 119,
   "id": "ed0b1ae4-c1fa-41ee-9ea9-0cf0870bbce2",
   "metadata": {},
   "outputs": [
    {
     "data": {
      "text/plain": [
       "{1: 1, 2: 8, 3: 27, 4: 64, 5: 125, 6: 216, 7: 343, 8: 512}"
      ]
     },
     "execution_count": 119,
     "metadata": {},
     "output_type": "execute_result"
    }
   ],
   "source": [
    "{i : i**3 for i in range(1,9)}"
   ]
  },
  {
   "cell_type": "code",
   "execution_count": 123,
   "id": "6031871f-10b5-405f-bde3-94aa42dc432a",
   "metadata": {},
   "outputs": [
    {
     "data": {
      "text/plain": [
       "{1: 0.0,\n",
       " 2: 0.3010299956639812,\n",
       " 3: 0.47712125471966244,\n",
       " 4: 0.6020599913279624,\n",
       " 5: 0.6989700043360189,\n",
       " 6: 0.7781512503836436,\n",
       " 7: 0.8450980400142568,\n",
       " 8: 0.9030899869919435}"
      ]
     },
     "execution_count": 123,
     "metadata": {},
     "output_type": "execute_result"
    }
   ],
   "source": [
    "import math\n",
    "{i : math.log10(i) for i in range(1,9) }"
   ]
  },
  {
   "cell_type": "code",
   "execution_count": 124,
   "id": "224ded96-e305-47cc-9f1b-9e16ebb3a6fa",
   "metadata": {},
   "outputs": [
    {
     "data": {
      "text/plain": [
       "{'course': ['aws', 'DS', 'PYTHON', 'ML'],\n",
       " 'actual fees': {'CS': 30, 'Math': 25, 'Phy': 15}}"
      ]
     },
     "execution_count": 124,
     "metadata": {},
     "output_type": "execute_result"
    }
   ],
   "source": [
    "d16"
   ]
  },
  {
   "cell_type": "code",
   "execution_count": 125,
   "id": "2e46fdbe-04d3-420b-829b-874fdca341de",
   "metadata": {},
   "outputs": [
    {
     "data": {
      "text/plain": [
       "{'course': ['aws', 'DS', 'PYTHON', 'ML'],\n",
       " 'Date ': (14, 18, 8, 25),\n",
       " 'students': {39, 40, 48, 60},\n",
       " 'actual fees': {'CS': 30, 'Math': 25, 'Phy': 15}}"
      ]
     },
     "execution_count": 125,
     "metadata": {},
     "output_type": "execute_result"
    }
   ],
   "source": [
    "d15"
   ]
  },
  {
   "cell_type": "code",
   "execution_count": 126,
   "id": "a853e4b0-1376-433c-9b3f-584276fe3d3a",
   "metadata": {},
   "outputs": [
    {
     "data": {
      "text/plain": [
       "True"
      ]
     },
     "execution_count": 126,
     "metadata": {},
     "output_type": "execute_result"
    }
   ],
   "source": [
    "\"Date \" in d15"
   ]
  },
  {
   "cell_type": "code",
   "execution_count": 127,
   "id": "a0ddc8ff-f4f2-418e-b0f7-dad3a67798ab",
   "metadata": {},
   "outputs": [
    {
     "data": {
      "text/plain": [
       "False"
      ]
     },
     "execution_count": 127,
     "metadata": {},
     "output_type": "execute_result"
    }
   ],
   "source": [
    "\"age\" in d15"
   ]
  },
  {
   "cell_type": "code",
   "execution_count": 128,
   "id": "f9c0f5b6-07cb-4541-9b28-408f55dbe583",
   "metadata": {},
   "outputs": [],
   "source": [
    "import math\n",
    "d21 = {i : math.log10(i) for i in range(1,9) }"
   ]
  },
  {
   "cell_type": "code",
   "execution_count": 129,
   "id": "4ed2c36f-c6f2-45e9-a5a1-0bfe355d63ae",
   "metadata": {},
   "outputs": [
    {
     "data": {
      "text/plain": [
       "{1: 0.0,\n",
       " 2: 0.3010299956639812,\n",
       " 3: 0.47712125471966244,\n",
       " 4: 0.6020599913279624,\n",
       " 5: 0.6989700043360189,\n",
       " 6: 0.7781512503836436,\n",
       " 7: 0.8450980400142568,\n",
       " 8: 0.9030899869919435}"
      ]
     },
     "execution_count": 129,
     "metadata": {},
     "output_type": "execute_result"
    }
   ],
   "source": [
    "d21"
   ]
  },
  {
   "cell_type": "code",
   "execution_count": 130,
   "id": "3eb72cbb-1c16-460c-8ed9-d0f0f1f0b1dd",
   "metadata": {},
   "outputs": [
    {
     "name": "stdout",
     "output_type": "stream",
     "text": [
      "0.3010299956639812\n",
      "0.6020599913279624\n",
      "0.7781512503836436\n",
      "0.9030899869919435\n"
     ]
    }
   ],
   "source": [
    "for i in d21.keys():\n",
    "    if i %2 == 0 :\n",
    "        print(d21[i])"
   ]
  },
  {
   "cell_type": "code",
   "execution_count": null,
   "id": "e204508d-7e76-4a64-ab7f-990ddd3bcd61",
   "metadata": {},
   "outputs": [],
   "source": []
  }
 ],
 "metadata": {
  "kernelspec": {
   "display_name": "Python 3 (ipykernel)",
   "language": "python",
   "name": "python3"
  },
  "language_info": {
   "codemirror_mode": {
    "name": "ipython",
    "version": 3
   },
   "file_extension": ".py",
   "mimetype": "text/x-python",
   "name": "python",
   "nbconvert_exporter": "python",
   "pygments_lexer": "ipython3",
   "version": "3.10.8"
  }
 },
 "nbformat": 4,
 "nbformat_minor": 5
}
