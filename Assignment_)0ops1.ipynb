{
 "cells": [
  {
   "cell_type": "markdown",
   "id": "2feb1384-343b-4c0e-9627-6d24c5c0aa02",
   "metadata": {},
   "source": [
    "Q1. Explain Class and Object with respect to Object-Oriented Programming. Give a suitable example."
   ]
  },
  {
   "cell_type": "code",
   "execution_count": 1,
   "id": "49acb3bb-6be3-475c-9fbd-e2c1b808372b",
   "metadata": {},
   "outputs": [],
   "source": [
    "# A class is a blueprint for creating objects or a particular data structure , it can call once .\n",
    "# An object is a physical entity ,which can contain data and code, it can be called many times inside a class."
   ]
  },
  {
   "cell_type": "code",
   "execution_count": 2,
   "id": "968e20ec-f1c3-4abe-945e-a4b5d1165984",
   "metadata": {},
   "outputs": [],
   "source": [
    "class pwskills2 :\n",
    "    \n",
    "    def __init__(sang,phn,gmail,std):\n",
    "        sang.ph_no = phn\n",
    "        sang.gmail_id = gmail\n",
    "        sang.std_code = std\n",
    "        \n",
    "    def return_sang_add(sang):\n",
    "        return sang.ph_no,sang.gmail_id,sang.std_code"
   ]
  },
  {
   "cell_type": "code",
   "execution_count": 3,
   "id": "c72311f6-3ade-47fa-b21e-dc2c969f0969",
   "metadata": {},
   "outputs": [],
   "source": [
    "#pwskills2---->Class ,phn,gmail,std ------>object"
   ]
  },
  {
   "cell_type": "markdown",
   "id": "082acbae-837d-411c-a69c-329a2957afba",
   "metadata": {},
   "source": [
    "Q2 .Name the four pillars of OOPs."
   ]
  },
  {
   "cell_type": "code",
   "execution_count": 4,
   "id": "056dc043-76c2-46d6-9f6a-4581d23962fe",
   "metadata": {},
   "outputs": [],
   "source": [
    "#Abstraction , #Encapsulation , #Inheritance ,#Polymorphism"
   ]
  },
  {
   "cell_type": "markdown",
   "id": "92361f20-7f5c-4e0a-b53b-71eae54f9899",
   "metadata": {},
   "source": [
    "Q3. Explain why the __init__() function is used. Give a suitable example."
   ]
  },
  {
   "cell_type": "code",
   "execution_count": 5,
   "id": "6c02330f-e112-4bc9-81ee-2cdd2fbb89c3",
   "metadata": {},
   "outputs": [],
   "source": [
    "# The __init__ method lets the class initialize the object's attributes and serves no other purpose."
   ]
  },
  {
   "cell_type": "markdown",
   "id": "0886a2c7-1f1b-45bb-824d-b05b64705100",
   "metadata": {},
   "source": [
    "Q4. Why self is used in OOPs?"
   ]
  },
  {
   "cell_type": "code",
   "execution_count": 6,
   "id": "af480947-b91a-49f3-b4b5-097629a0d1dc",
   "metadata": {},
   "outputs": [],
   "source": [
    "#The self is used to represent the instance of the class. With this you can access the attributes and methods of the class"
   ]
  },
  {
   "cell_type": "markdown",
   "id": "671b0d8f-48a5-46f6-af2e-e79cad2c8650",
   "metadata": {},
   "source": [
    "Q5. What is inheritance? Give an example for each type of inheritance."
   ]
  },
  {
   "cell_type": "code",
   "execution_count": 7,
   "id": "51c6949b-3b3b-4d96-97bb-5a20cb21508f",
   "metadata": {},
   "outputs": [],
   "source": [
    "#when a class derives from another class , a child class will inheritate all the property of public class."
   ]
  },
  {
   "cell_type": "code",
   "execution_count": 8,
   "id": "13a714cf-c8b0-4bf7-add8-1040497eb21c",
   "metadata": {},
   "outputs": [],
   "source": [
    "class class1:\n",
    "    \n",
    "    def test_class1(self):\n",
    "        print(\"This is for the class1\")\n",
    "        "
   ]
  },
  {
   "cell_type": "code",
   "execution_count": 9,
   "id": "016467c9-b683-4402-8108-541c629c12ab",
   "metadata": {},
   "outputs": [],
   "source": [
    "class class2:\n",
    "    def test_class2(self):\n",
    "        print(\"this is for class2\")"
   ]
  },
  {
   "cell_type": "code",
   "execution_count": 10,
   "id": "7cb59d35-6a74-43cb-b2da-12e56c8ac9b6",
   "metadata": {},
   "outputs": [],
   "source": [
    "class class3(class1,class2):\n",
    "    pass"
   ]
  },
  {
   "cell_type": "code",
   "execution_count": 11,
   "id": "cd190a69-f1bd-4306-955e-eaad6c498f65",
   "metadata": {},
   "outputs": [],
   "source": [
    "obj_class3 = class3()"
   ]
  },
  {
   "cell_type": "code",
   "execution_count": 12,
   "id": "5e48344d-96da-4f85-ac4b-e4a87afef51b",
   "metadata": {},
   "outputs": [
    {
     "name": "stdout",
     "output_type": "stream",
     "text": [
      "This is for the class1\n"
     ]
    }
   ],
   "source": [
    "obj_class3.test_class1()"
   ]
  },
  {
   "cell_type": "code",
   "execution_count": 13,
   "id": "b52dd242-4aa3-4b7b-baef-2ba8f3a9555a",
   "metadata": {},
   "outputs": [
    {
     "data": {
      "text/plain": [
       "<bound method class2.test_class2 of <__main__.class3 object at 0x7fd3683a1780>>"
      ]
     },
     "execution_count": 13,
     "metadata": {},
     "output_type": "execute_result"
    }
   ],
   "source": [
    "obj_class3.test_class2"
   ]
  },
  {
   "cell_type": "code",
   "execution_count": null,
   "id": "dbcb435b-d227-49cd-8ddc-49ccd8557367",
   "metadata": {},
   "outputs": [],
   "source": []
  }
 ],
 "metadata": {
  "kernelspec": {
   "display_name": "Python 3 (ipykernel)",
   "language": "python",
   "name": "python3"
  },
  "language_info": {
   "codemirror_mode": {
    "name": "ipython",
    "version": 3
   },
   "file_extension": ".py",
   "mimetype": "text/x-python",
   "name": "python",
   "nbconvert_exporter": "python",
   "pygments_lexer": "ipython3",
   "version": "3.10.8"
  }
 },
 "nbformat": 4,
 "nbformat_minor": 5
}
