{
 "cells": [
  {
   "cell_type": "markdown",
   "id": "8f2290b9-b379-4f53-8ee9-605d91ff8564",
   "metadata": {},
   "source": [
    "# Assignment "
   ]
  },
  {
   "cell_type": "markdown",
   "id": "4562a57c-a53f-4c38-aef4-507c388bcea2",
   "metadata": {},
   "source": [
    "Q1. What are the characteristics of the tuples? Is tuple immutable?"
   ]
  },
  {
   "cell_type": "code",
   "execution_count": 1,
   "id": "5fa076a5-be8f-4aca-9665-e35c926595f0",
   "metadata": {},
   "outputs": [],
   "source": [
    "# Round bracket() is used to determine a tuple.\n",
    "# we can use integer , strings , bolean , complex number  and list inside a tuple.\n",
    "# we can't chnage the value of a particular index inside a tuple .\n",
    "# we can use the index of a tuple to find the value inside the tuple.\n",
    "# we can use diff functions like reverse , clear , pop , count, sum , min , max of a tuple.\n",
    "# Tuples can contain duplicate item.\n",
    "# Tuple is immutable ."
   ]
  },
  {
   "cell_type": "markdown",
   "id": "e4c68832-3bc9-409f-8ba7-5b16b78f0026",
   "metadata": {},
   "source": [
    "Q2. What are the two tuple methods in python? Give an example of each method. Give a reason why\n",
    "tuples have only two in-built methods as compared to Lists."
   ]
  },
  {
   "cell_type": "code",
   "execution_count": 2,
   "id": "b8301810-11aa-4d9f-9ab5-79b6f66bcffe",
   "metadata": {},
   "outputs": [],
   "source": [
    "# count() and index () are the only tuple methods in python.\n",
    "# T1 = (1,4,9,1,24,\"Data\",76,4,3,9,5,9,\"sangram\")\n",
    "# T1.count(4)\n",
    "# T1.index(\"Data\")\n",
    "# tuples are immutable and list is mutable , thats why tuple has only 2 methods."
   ]
  },
  {
   "cell_type": "markdown",
   "id": "26b73b00-8175-4ed8-9411-65e53552194b",
   "metadata": {},
   "source": [
    "Q3. Which collection datatypes in python do not allow duplicate items? Write a code using a set to remove\n",
    "duplicates from the given list.\n",
    "List = [1, 1, 1, 2, 1, 3, 1, 4, 2, 1, 2, 2, 2, 3, 2, 4, 3, 1, 3, 2, 3, 3, 3, 4, 4, 1, 4, 2, 4, 3, 4, 4]"
   ]
  },
  {
   "cell_type": "code",
   "execution_count": 3,
   "id": "5f0788ef-feaa-4a1f-a82d-ee35031498c4",
   "metadata": {},
   "outputs": [],
   "source": [
    "#Set datatypes do not allow to duplicate items."
   ]
  },
  {
   "cell_type": "code",
   "execution_count": 4,
   "id": "27d39d43-92b6-41f7-af39-8f746e971702",
   "metadata": {},
   "outputs": [],
   "source": [
    "List = [1, 1, 1, 2, 1, 3, 1, 4, 2, 1, 2, 2, 2, 3, 2, 4, 3, 1, 3, 2, 3, 3, 3, 4, 4, 1, 4, 2, 4, 3, 4, 4]"
   ]
  },
  {
   "cell_type": "code",
   "execution_count": 5,
   "id": "aa4d65fd-9d8f-45d1-b158-d832508bc727",
   "metadata": {},
   "outputs": [],
   "source": [
    "S1 = set(List)"
   ]
  },
  {
   "cell_type": "code",
   "execution_count": 14,
   "id": "abf3c84d-0418-488a-bb23-62c329f55f26",
   "metadata": {},
   "outputs": [
    {
     "name": "stdout",
     "output_type": "stream",
     "text": [
      "[1, 2, 3, 4]\n"
     ]
    }
   ],
   "source": [
    "L1 = []\n",
    "\n",
    "for i in S1 :\n",
    "    if i in List:\n",
    "        L1.append(i)\n",
    "print(L1)\n",
    "    "
   ]
  },
  {
   "cell_type": "markdown",
   "id": "5ce0d5f2-6cd4-4256-9468-59a7b7cae76f",
   "metadata": {},
   "source": [
    "Q4. Explain the difference between the union() and update() methods for a set. Give an example of\n",
    "each method."
   ]
  },
  {
   "cell_type": "code",
   "execution_count": 26,
   "id": "27150b50-f2d2-4a9a-9229-bfad0c01b386",
   "metadata": {},
   "outputs": [],
   "source": [
    "#Union creates a new set with the unique element from set1 and set2 .\n",
    "#Update just add the missing element of set2  to set1 ."
   ]
  },
  {
   "cell_type": "code",
   "execution_count": 21,
   "id": "9fae738c-964b-444b-a270-dce52b29fdf0",
   "metadata": {},
   "outputs": [
    {
     "data": {
      "text/plain": [
       "{1, 2, 3, 4}"
      ]
     },
     "execution_count": 21,
     "metadata": {},
     "output_type": "execute_result"
    }
   ],
   "source": [
    "S1 "
   ]
  },
  {
   "cell_type": "code",
   "execution_count": 22,
   "id": "1d7e4cd5-830e-406b-a257-70e1720472fe",
   "metadata": {},
   "outputs": [],
   "source": [
    "S2 = {4,5,6,7,8}"
   ]
  },
  {
   "cell_type": "code",
   "execution_count": 23,
   "id": "c6b14aca-dba2-4cf2-82eb-48f18bd5fc87",
   "metadata": {},
   "outputs": [
    {
     "data": {
      "text/plain": [
       "{1, 2, 3, 4, 5, 6, 7, 8}"
      ]
     },
     "execution_count": 23,
     "metadata": {},
     "output_type": "execute_result"
    }
   ],
   "source": [
    "S1.union(S2)"
   ]
  },
  {
   "cell_type": "code",
   "execution_count": 24,
   "id": "85efafeb-f729-43ab-b1ba-dd8f9945d692",
   "metadata": {},
   "outputs": [],
   "source": [
    "S1.update(S2)"
   ]
  },
  {
   "cell_type": "code",
   "execution_count": 25,
   "id": "774a4934-bbba-41f6-a23d-97cf92b7d152",
   "metadata": {},
   "outputs": [
    {
     "data": {
      "text/plain": [
       "{1, 2, 3, 4, 5, 6, 7, 8}"
      ]
     },
     "execution_count": 25,
     "metadata": {},
     "output_type": "execute_result"
    }
   ],
   "source": [
    "S1"
   ]
  },
  {
   "cell_type": "markdown",
   "id": "9e3838b0-0761-40de-b3ab-34de42d10d77",
   "metadata": {},
   "source": [
    "Q5. What is a dictionary? Give an example. Also, state whether a dictionary is ordered or unordered."
   ]
  },
  {
   "cell_type": "code",
   "execution_count": 28,
   "id": "3efcf4b6-daeb-4ce7-9416-0f4b0c6ab999",
   "metadata": {},
   "outputs": [],
   "source": [
    "# Dictionary is a type of datasets which store values in a form of key :value pairs . And Dictonary is ordered.\n",
    "# D1 = {\"Course\":[\"AWS\",\"DS\",\"Devops\",\"PYT\"] , \"Date\" : (25,28,20,26) , \"Students\":{40,48,35,50}}"
   ]
  },
  {
   "cell_type": "markdown",
   "id": "ea04a385-7a7b-407c-adc7-db12e0efbed6",
   "metadata": {},
   "source": [
    "Q6. Can we create a nested dictionary? If so, please give an example by creating a simple one-level\n",
    "nested dictionary."
   ]
  },
  {
   "cell_type": "code",
   "execution_count": null,
   "id": "c8c3a8f4-a541-4ed1-8920-f15b45b77c5f",
   "metadata": {},
   "outputs": [],
   "source": [
    "# yes , nested dict can be created and possiable.\n",
    "# D2 = {\"Name\":{\"sangram\":25,\"bunty\":20,\"Lucky\":22},\"cls\":(\"PW\",\"Upgrad\",\"Udemy\")}"
   ]
  },
  {
   "cell_type": "markdown",
   "id": "fb4aa093-d866-4ba9-93fe-a0fcac670b0f",
   "metadata": {},
   "source": [
    "Q7. Using setdefault() method, create key named topics in the given dictionary and also add the value of\n",
    "the key as this list ['Python', 'Machine Learning’, 'Deep Learning']\n",
    "dict1 = {'language' : 'Python', 'course': 'Data Science Masters'}"
   ]
  },
  {
   "cell_type": "code",
   "execution_count": 30,
   "id": "f892f08a-8db8-490b-9ec9-8b09570bc021",
   "metadata": {},
   "outputs": [],
   "source": [
    "dict1 = {'language' : 'Python', 'course': 'Data Science Masters'}"
   ]
  },
  {
   "cell_type": "code",
   "execution_count": 32,
   "id": "02277622-fe56-482d-8993-55f4657321a9",
   "metadata": {},
   "outputs": [
    {
     "data": {
      "text/plain": [
       "'Machine Learning'"
      ]
     },
     "execution_count": 32,
     "metadata": {},
     "output_type": "execute_result"
    }
   ],
   "source": [
    "dict1.setdefault(\"SEC1\" , \"Machine Learning\")"
   ]
  },
  {
   "cell_type": "code",
   "execution_count": 36,
   "id": "0ba57652-8e7c-44c3-80df-5511f972f392",
   "metadata": {},
   "outputs": [
    {
     "data": {
      "text/plain": [
       "'Deep learning'"
      ]
     },
     "execution_count": 36,
     "metadata": {},
     "output_type": "execute_result"
    }
   ],
   "source": [
    "dict1.setdefault(\"SEC2\",\"Deep learning\")"
   ]
  },
  {
   "cell_type": "code",
   "execution_count": 37,
   "id": "f1d0b4a7-35b3-4512-9bbf-88d6d8c65da3",
   "metadata": {},
   "outputs": [
    {
     "data": {
      "text/plain": [
       "{'language': 'Python',\n",
       " 'course': 'Data Science Masters',\n",
       " 'SEC1': 'Machine Learning',\n",
       " 'SEC2': 'Deep learning'}"
      ]
     },
     "execution_count": 37,
     "metadata": {},
     "output_type": "execute_result"
    }
   ],
   "source": [
    "dict1"
   ]
  },
  {
   "cell_type": "markdown",
   "id": "293b3683-3a09-4854-bd62-5b8e99f8f306",
   "metadata": {},
   "source": [
    "Q8. What are the three view objects in dictionaries? Use the three in-built methods in python to display\n",
    "these three view objects for the given dictionary.\n",
    "dict1 = {'Sport': 'Cricket' , 'Teams': ['India', 'Australia', 'England', 'South Africa', 'Sri Lanka', 'New Zealand']}"
   ]
  },
  {
   "cell_type": "code",
   "execution_count": 39,
   "id": "7ef2a62c-77f3-4dde-8294-8345cc94a4e9",
   "metadata": {},
   "outputs": [],
   "source": [
    "#Three view objects in dict are - keys, values,items .\n",
    "\n",
    "dict2 = {'Sport': 'Cricket' , 'Teams': ['India', 'Australia', 'England', 'South Africa', 'Sri Lanka', 'New Zealand']}"
   ]
  },
  {
   "cell_type": "code",
   "execution_count": 40,
   "id": "36d78d21-cbfc-4ca4-b66e-f80edc8b3445",
   "metadata": {},
   "outputs": [
    {
     "data": {
      "text/plain": [
       "dict_keys(['Sport', 'Teams'])"
      ]
     },
     "execution_count": 40,
     "metadata": {},
     "output_type": "execute_result"
    }
   ],
   "source": [
    "dict2.keys()"
   ]
  },
  {
   "cell_type": "code",
   "execution_count": 41,
   "id": "d3d53054-4e5a-4805-a1a4-c3211c4d504b",
   "metadata": {},
   "outputs": [
    {
     "data": {
      "text/plain": [
       "dict_values(['Cricket', ['India', 'Australia', 'England', 'South Africa', 'Sri Lanka', 'New Zealand']])"
      ]
     },
     "execution_count": 41,
     "metadata": {},
     "output_type": "execute_result"
    }
   ],
   "source": [
    "dict2.values()"
   ]
  },
  {
   "cell_type": "code",
   "execution_count": null,
   "id": "8f22853a-5dc6-47bd-b211-32599d9022d5",
   "metadata": {},
   "outputs": [],
   "source": [
    "dict2.items()"
   ]
  }
 ],
 "metadata": {
  "kernelspec": {
   "display_name": "Python 3 (ipykernel)",
   "language": "python",
   "name": "python3"
  },
  "language_info": {
   "codemirror_mode": {
    "name": "ipython",
    "version": 3
   },
   "file_extension": ".py",
   "mimetype": "text/x-python",
   "name": "python",
   "nbconvert_exporter": "python",
   "pygments_lexer": "ipython3",
   "version": "3.10.8"
  }
 },
 "nbformat": 4,
 "nbformat_minor": 5
}
