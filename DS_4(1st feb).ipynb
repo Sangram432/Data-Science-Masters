{
 "cells": [
  {
   "cell_type": "code",
   "execution_count": 1,
   "id": "0e2b02e8-277e-45d1-bc2b-6d12b1f5005e",
   "metadata": {},
   "outputs": [],
   "source": [
    "name = \"Data Science Masters\""
   ]
  },
  {
   "cell_type": "code",
   "execution_count": 2,
   "id": "cdfdac52-2dc5-482e-9da6-8e212be23e60",
   "metadata": {},
   "outputs": [
    {
     "data": {
      "text/plain": [
       "'dATA sCIENCE mASTERS'"
      ]
     },
     "execution_count": 2,
     "metadata": {},
     "output_type": "execute_result"
    }
   ],
   "source": [
    "name.swapcase()"
   ]
  },
  {
   "cell_type": "code",
   "execution_count": 3,
   "id": "eaece795-bee6-442e-8bfe-1449f0c14a2b",
   "metadata": {},
   "outputs": [
    {
     "data": {
      "text/plain": [
       "'DATA SCIENCE MASTERS'"
      ]
     },
     "execution_count": 3,
     "metadata": {},
     "output_type": "execute_result"
    }
   ],
   "source": [
    "name.upper()"
   ]
  },
  {
   "cell_type": "code",
   "execution_count": 4,
   "id": "1db56f35-1557-4685-afc0-b30032677952",
   "metadata": {},
   "outputs": [
    {
     "data": {
      "text/plain": [
       "'data science masters'"
      ]
     },
     "execution_count": 4,
     "metadata": {},
     "output_type": "execute_result"
    }
   ],
   "source": [
    "name.lower()"
   ]
  },
  {
   "cell_type": "code",
   "execution_count": 5,
   "id": "fef8c31d-6c54-4248-9bb1-3d298260d85a",
   "metadata": {},
   "outputs": [
    {
     "data": {
      "text/plain": [
       "'Data Science Masters'"
      ]
     },
     "execution_count": 5,
     "metadata": {},
     "output_type": "execute_result"
    }
   ],
   "source": [
    "name.title()"
   ]
  },
  {
   "cell_type": "code",
   "execution_count": 6,
   "id": "ee72b957-0a45-4678-897c-99a5f9cb02dd",
   "metadata": {},
   "outputs": [
    {
     "data": {
      "text/plain": [
       "'Data science masters'"
      ]
     },
     "execution_count": 6,
     "metadata": {},
     "output_type": "execute_result"
    }
   ],
   "source": [
    "name.capitalize()"
   ]
  },
  {
   "cell_type": "markdown",
   "id": "1a30f738-cf7b-4354-9825-da071f476839",
   "metadata": {},
   "source": [
    "Reversing a String:-"
   ]
  },
  {
   "cell_type": "code",
   "execution_count": 7,
   "id": "9d108849-d5da-4447-a7a5-c61e52c439ed",
   "metadata": {},
   "outputs": [
    {
     "data": {
      "text/plain": [
       "'Data Science Masters'"
      ]
     },
     "execution_count": 7,
     "metadata": {},
     "output_type": "execute_result"
    }
   ],
   "source": [
    "name"
   ]
  },
  {
   "cell_type": "code",
   "execution_count": 8,
   "id": "75f46eb4-14cc-42e7-b463-1ff026445d6b",
   "metadata": {},
   "outputs": [
    {
     "data": {
      "text/plain": [
       "'sretsaM ecneicS ataD'"
      ]
     },
     "execution_count": 8,
     "metadata": {},
     "output_type": "execute_result"
    }
   ],
   "source": [
    "name[::-1]"
   ]
  },
  {
   "cell_type": "code",
   "execution_count": 9,
   "id": "68ae0924-ece3-4db5-b689-50c3c3bde6d3",
   "metadata": {},
   "outputs": [
    {
     "data": {
      "text/plain": [
       "<reversed at 0x7fb4f46bee60>"
      ]
     },
     "execution_count": 9,
     "metadata": {},
     "output_type": "execute_result"
    }
   ],
   "source": [
    "reversed(name)"
   ]
  },
  {
   "cell_type": "code",
   "execution_count": 10,
   "id": "31f2c75a-a421-4878-a790-50c959a3caaa",
   "metadata": {},
   "outputs": [
    {
     "data": {
      "text/plain": [
       "'Data Science Masters'"
      ]
     },
     "execution_count": 10,
     "metadata": {},
     "output_type": "execute_result"
    }
   ],
   "source": [
    "name"
   ]
  },
  {
   "cell_type": "code",
   "execution_count": 11,
   "id": "a0e45780-8cda-4c72-91c6-8f1421416f3e",
   "metadata": {},
   "outputs": [
    {
     "data": {
      "text/plain": [
       "'s r e t s a M   e c n e i c S   a t a D'"
      ]
     },
     "execution_count": 11,
     "metadata": {},
     "output_type": "execute_result"
    }
   ],
   "source": [
    "\" \".join(reversed(name))"
   ]
  },
  {
   "cell_type": "code",
   "execution_count": 12,
   "id": "d59d7e02-09f0-4cd8-9a62-477e0b833c6a",
   "metadata": {},
   "outputs": [
    {
     "data": {
      "text/plain": [
       "'D a t a   S c i e n c e   M a s t e r s'"
      ]
     },
     "execution_count": 12,
     "metadata": {},
     "output_type": "execute_result"
    }
   ],
   "source": [
    "\" \".join(name)"
   ]
  },
  {
   "cell_type": "code",
   "execution_count": 13,
   "id": "10cbf771-56f7-46f2-ae98-4e3d16d17f61",
   "metadata": {},
   "outputs": [
    {
     "data": {
      "text/plain": [
       "'a b c d'"
      ]
     },
     "execution_count": 13,
     "metadata": {},
     "output_type": "execute_result"
    }
   ],
   "source": [
    "\" \".join(\"abcd\")"
   ]
  },
  {
   "cell_type": "code",
   "execution_count": 14,
   "id": "b1be7ddf-2a59-4dd0-9c17-a92fb4778fce",
   "metadata": {},
   "outputs": [
    {
     "data": {
      "text/plain": [
       "'d c b a'"
      ]
     },
     "execution_count": 14,
     "metadata": {},
     "output_type": "execute_result"
    }
   ],
   "source": [
    "\" \".join(reversed(\"abcd\"))"
   ]
  },
  {
   "cell_type": "code",
   "execution_count": 15,
   "id": "61e25ef2-3e84-45fd-aefd-8325ae1bcd00",
   "metadata": {},
   "outputs": [
    {
     "data": {
      "text/plain": [
       "'4Pwskills3Pwskills2Pwskills1'"
      ]
     },
     "execution_count": 15,
     "metadata": {},
     "output_type": "execute_result"
    }
   ],
   "source": [
    "\"Pwskills\". join(reversed(\"1234\"))"
   ]
  },
  {
   "cell_type": "markdown",
   "id": "30bb0517-9909-4520-a8dd-e0ad5dc58204",
   "metadata": {},
   "source": [
    "Typecasting:-"
   ]
  },
  {
   "cell_type": "code",
   "execution_count": 16,
   "id": "44e358b9-8349-47fc-a10b-ed8944c24d95",
   "metadata": {},
   "outputs": [
    {
     "data": {
      "text/plain": [
       "<reversed at 0x7fb4f46bdff0>"
      ]
     },
     "execution_count": 16,
     "metadata": {},
     "output_type": "execute_result"
    }
   ],
   "source": [
    "reversed(\"ant\")"
   ]
  },
  {
   "cell_type": "code",
   "execution_count": 17,
   "id": "83fa3236-f6b9-4199-afd8-7896225e4daf",
   "metadata": {},
   "outputs": [
    {
     "data": {
      "text/plain": [
       "['t', 'n', 'a']"
      ]
     },
     "execution_count": 17,
     "metadata": {},
     "output_type": "execute_result"
    }
   ],
   "source": [
    "list(reversed(\"ant\"))"
   ]
  },
  {
   "cell_type": "code",
   "execution_count": 18,
   "id": "fd3597cb-5493-4639-af1d-9c2f75c6286d",
   "metadata": {},
   "outputs": [
    {
     "name": "stdout",
     "output_type": "stream",
     "text": [
      "s\n",
      "r\n",
      "e\n",
      "t\n",
      "s\n",
      "a\n",
      "M\n",
      " \n",
      "e\n",
      "c\n",
      "n\n",
      "e\n",
      "i\n",
      "c\n",
      "S\n",
      " \n",
      "a\n",
      "t\n",
      "a\n",
      "D\n"
     ]
    }
   ],
   "source": [
    "for i in list(reversed(name)) :\n",
    "    print(i )"
   ]
  },
  {
   "cell_type": "code",
   "execution_count": 19,
   "id": "25d256b5-d2f4-4fc9-bd23-daf38a10c562",
   "metadata": {},
   "outputs": [
    {
     "name": "stdout",
     "output_type": "stream",
     "text": [
      "s r e t s a M   e c n e i c S   a t a D "
     ]
    }
   ],
   "source": [
    "for i in list(reversed(name)) :\n",
    "    print(i ,end =\" \")"
   ]
  },
  {
   "cell_type": "markdown",
   "id": "665fbee9-682a-4c02-bb77-396147bc191e",
   "metadata": {},
   "source": [
    "Removing character from strings:-"
   ]
  },
  {
   "cell_type": "code",
   "execution_count": 20,
   "id": "8524c11f-2bcd-4396-bda4-b8f368ed2105",
   "metadata": {},
   "outputs": [],
   "source": [
    "string1 = \"Pwskills \""
   ]
  },
  {
   "cell_type": "code",
   "execution_count": 21,
   "id": "9b950e3b-9629-408e-a60a-43e2082cc430",
   "metadata": {},
   "outputs": [
    {
     "data": {
      "text/plain": [
       "'Pwskills'"
      ]
     },
     "execution_count": 21,
     "metadata": {},
     "output_type": "execute_result"
    }
   ],
   "source": [
    "string1.strip(\" \")"
   ]
  },
  {
   "cell_type": "code",
   "execution_count": 22,
   "id": "cbd5d66a-ce5b-4a11-ad13-7d26ed792063",
   "metadata": {},
   "outputs": [
    {
     "data": {
      "text/plain": [
       "'wskills '"
      ]
     },
     "execution_count": 22,
     "metadata": {},
     "output_type": "execute_result"
    }
   ],
   "source": [
    "string1.strip(\"P\")"
   ]
  },
  {
   "cell_type": "code",
   "execution_count": 23,
   "id": "1d4abfa6-c516-44be-87fb-c8d4e9918112",
   "metadata": {},
   "outputs": [
    {
     "data": {
      "text/plain": [
       "'Pwskills '"
      ]
     },
     "execution_count": 23,
     "metadata": {},
     "output_type": "execute_result"
    }
   ],
   "source": [
    "string1.lstrip(\" \")"
   ]
  },
  {
   "cell_type": "code",
   "execution_count": 24,
   "id": "86f7c1f7-ab74-4622-92c4-11b2440a1e5a",
   "metadata": {},
   "outputs": [
    {
     "data": {
      "text/plain": [
       "'Pwskills'"
      ]
     },
     "execution_count": 24,
     "metadata": {},
     "output_type": "execute_result"
    }
   ],
   "source": [
    "string1.rstrip(\" \")"
   ]
  },
  {
   "cell_type": "code",
   "execution_count": 25,
   "id": "4aac39f1-6e62-43be-8d57-fc113ca3cfae",
   "metadata": {},
   "outputs": [],
   "source": [
    "string2 = \"Greetings to Pwskills\"\n"
   ]
  },
  {
   "cell_type": "code",
   "execution_count": 26,
   "id": "dfcb7975-f4be-4357-b20b-74560517ff07",
   "metadata": {},
   "outputs": [
    {
     "data": {
      "text/plain": [
       "'Greetings from Pwskills'"
      ]
     },
     "execution_count": 26,
     "metadata": {},
     "output_type": "execute_result"
    }
   ],
   "source": [
    "string2.replace(\"to\",\"from\")"
   ]
  },
  {
   "cell_type": "code",
   "execution_count": 27,
   "id": "6960d7ac-2093-4e1e-9d3c-ceca399e0360",
   "metadata": {},
   "outputs": [
    {
     "data": {
      "text/plain": [
       "'Greetings to Pwskills'"
      ]
     },
     "execution_count": 27,
     "metadata": {},
     "output_type": "execute_result"
    }
   ],
   "source": [
    "string2"
   ]
  },
  {
   "cell_type": "code",
   "execution_count": 28,
   "id": "95d2728b-b12a-43df-8aad-3f8e170e7918",
   "metadata": {},
   "outputs": [
    {
     "data": {
      "text/plain": [
       "'Greetings to Piiwskills'"
      ]
     },
     "execution_count": 28,
     "metadata": {},
     "output_type": "execute_result"
    }
   ],
   "source": [
    "string2.replace(\"P\",\"Pii\")"
   ]
  },
  {
   "cell_type": "code",
   "execution_count": 29,
   "id": "d5a017b1-4c7b-4a39-a539-8399df2cff61",
   "metadata": {},
   "outputs": [
    {
     "data": {
      "text/plain": [
       "'Data Science Masters'"
      ]
     },
     "execution_count": 29,
     "metadata": {},
     "output_type": "execute_result"
    }
   ],
   "source": [
    "name"
   ]
  },
  {
   "cell_type": "code",
   "execution_count": 30,
   "id": "02d9ab34-1c61-4f25-b608-caf529a0297a",
   "metadata": {},
   "outputs": [
    {
     "data": {
      "text/plain": [
       "'s'"
      ]
     },
     "execution_count": 30,
     "metadata": {},
     "output_type": "execute_result"
    }
   ],
   "source": [
    "name[-1]"
   ]
  },
  {
   "cell_type": "code",
   "execution_count": 31,
   "id": "a41ece19-6636-4a58-babe-6142b416a363",
   "metadata": {},
   "outputs": [
    {
     "data": {
      "text/plain": [
       "False"
      ]
     },
     "execution_count": 31,
     "metadata": {},
     "output_type": "execute_result"
    }
   ],
   "source": [
    "name.isupper()"
   ]
  },
  {
   "cell_type": "code",
   "execution_count": 32,
   "id": "58c77a1d-87a4-474a-bd6b-0e07f26f2baf",
   "metadata": {},
   "outputs": [
    {
     "data": {
      "text/plain": [
       "False"
      ]
     },
     "execution_count": 32,
     "metadata": {},
     "output_type": "execute_result"
    }
   ],
   "source": [
    "name.islower()"
   ]
  },
  {
   "cell_type": "code",
   "execution_count": 33,
   "id": "7e1d2c8d-e786-4d35-a93d-7729af483c4b",
   "metadata": {},
   "outputs": [
    {
     "data": {
      "text/plain": [
       "'Data Science Masters'"
      ]
     },
     "execution_count": 33,
     "metadata": {},
     "output_type": "execute_result"
    }
   ],
   "source": [
    "name"
   ]
  },
  {
   "cell_type": "code",
   "execution_count": 34,
   "id": "80345da9-946d-4542-92a7-6d772723cb34",
   "metadata": {},
   "outputs": [],
   "source": [
    "str1 = \"Data Science\""
   ]
  },
  {
   "cell_type": "code",
   "execution_count": 35,
   "id": "502ef989-bf8e-45cd-9e22-a4ff3b825d4b",
   "metadata": {},
   "outputs": [
    {
     "data": {
      "text/plain": [
       "True"
      ]
     },
     "execution_count": 35,
     "metadata": {},
     "output_type": "execute_result"
    }
   ],
   "source": [
    "str1.endswith(\"e\")"
   ]
  },
  {
   "cell_type": "code",
   "execution_count": 36,
   "id": "6483375b-c32b-47ef-8074-038b0f2cc266",
   "metadata": {},
   "outputs": [
    {
     "data": {
      "text/plain": [
       "False"
      ]
     },
     "execution_count": 36,
     "metadata": {},
     "output_type": "execute_result"
    }
   ],
   "source": [
    "str1.endswith(\"f\")"
   ]
  },
  {
   "cell_type": "code",
   "execution_count": 37,
   "id": "3ae00e4b-9285-4ff4-87ca-46cbf920427c",
   "metadata": {},
   "outputs": [
    {
     "data": {
      "text/plain": [
       "False"
      ]
     },
     "execution_count": 37,
     "metadata": {},
     "output_type": "execute_result"
    }
   ],
   "source": [
    "str1.isalnum()"
   ]
  },
  {
   "cell_type": "code",
   "execution_count": 38,
   "id": "e412a23b-041f-460b-8067-3649f904d485",
   "metadata": {},
   "outputs": [],
   "source": [
    "str2 = \"ab3456\""
   ]
  },
  {
   "cell_type": "code",
   "execution_count": 39,
   "id": "7d76ddf0-4943-4b95-b750-37ce187ce7e8",
   "metadata": {},
   "outputs": [
    {
     "data": {
      "text/plain": [
       "True"
      ]
     },
     "execution_count": 39,
     "metadata": {},
     "output_type": "execute_result"
    }
   ],
   "source": [
    "str2.isalnum()"
   ]
  },
  {
   "cell_type": "code",
   "execution_count": 40,
   "id": "3d8ac30e-7105-46b9-a70b-0ce19b8ae802",
   "metadata": {},
   "outputs": [
    {
     "data": {
      "text/plain": [
       "12"
      ]
     },
     "execution_count": 40,
     "metadata": {},
     "output_type": "execute_result"
    }
   ],
   "source": [
    "len(str1)"
   ]
  },
  {
   "cell_type": "code",
   "execution_count": 41,
   "id": "7903a05a-fa29-46d9-bf3a-df1a99e9270e",
   "metadata": {},
   "outputs": [
    {
     "data": {
      "text/plain": [
       "6"
      ]
     },
     "execution_count": 41,
     "metadata": {},
     "output_type": "execute_result"
    }
   ],
   "source": [
    "len(str2)"
   ]
  },
  {
   "cell_type": "code",
   "execution_count": 42,
   "id": "bcdbcf80-24fd-4939-b269-88189dc54933",
   "metadata": {},
   "outputs": [
    {
     "data": {
      "text/plain": [
       "20"
      ]
     },
     "execution_count": 42,
     "metadata": {},
     "output_type": "execute_result"
    }
   ],
   "source": [
    "len(name)"
   ]
  },
  {
   "cell_type": "code",
   "execution_count": 43,
   "id": "21e2b13a-e783-4701-aadc-c66a69c979f6",
   "metadata": {},
   "outputs": [
    {
     "data": {
      "text/plain": [
       "range(0, 12)"
      ]
     },
     "execution_count": 43,
     "metadata": {},
     "output_type": "execute_result"
    }
   ],
   "source": [
    "range(len(str1))"
   ]
  },
  {
   "cell_type": "code",
   "execution_count": 44,
   "id": "1cb4670b-7dbd-4b87-89b8-d55f18aa389e",
   "metadata": {},
   "outputs": [
    {
     "name": "stdout",
     "output_type": "stream",
     "text": [
      "0 = D\n",
      "1 = a\n",
      "2 = t\n",
      "3 = a\n",
      "4 =  \n",
      "5 = S\n",
      "6 = c\n",
      "7 = i\n",
      "8 = e\n",
      "9 = n\n",
      "10 = c\n",
      "11 = e\n"
     ]
    }
   ],
   "source": [
    "for i in range(len(str1)) :\n",
    "    print (i ,\"=\",str1[i])"
   ]
  },
  {
   "cell_type": "code",
   "execution_count": 45,
   "id": "d56f4bd4-645b-4177-a1c5-e91e781d9311",
   "metadata": {},
   "outputs": [
    {
     "name": "stdout",
     "output_type": "stream",
     "text": [
      "ecneicS ataD"
     ]
    }
   ],
   "source": [
    "for i in range (len(str1)-1,-1,-1):\n",
    "    print(str1[i],end ='')"
   ]
  },
  {
   "cell_type": "code",
   "execution_count": 46,
   "id": "971a33a9-0a57-49cf-98c9-a6701614e9de",
   "metadata": {},
   "outputs": [],
   "source": [
    "#check if its a vowel or not ."
   ]
  },
  {
   "cell_type": "code",
   "execution_count": 47,
   "id": "97be5583-4807-4c0f-8f0f-bc63ddc16ac8",
   "metadata": {},
   "outputs": [
    {
     "name": "stdout",
     "output_type": "stream",
     "text": [
      "S : the letter is not a vowel\n",
      "a : the letter is a vowel \n",
      "n : the letter is not a vowel\n",
      "g : the letter is not a vowel\n",
      "r : the letter is not a vowel\n",
      "a : the letter is a vowel \n",
      "m : the letter is not a vowel\n",
      "  : the letter is not a vowel\n",
      "K : the letter is not a vowel\n",
      "e : the letter is a vowel \n",
      "s : the letter is not a vowel\n",
      "h : the letter is not a vowel\n",
      "a : the letter is a vowel \n",
      "r : the letter is not a vowel\n",
      "i : the letter is a vowel \n",
      "  : the letter is not a vowel\n",
      "S : the letter is not a vowel\n",
      "A : the letter is a vowel \n",
      "H : the letter is not a vowel\n",
      "O : the letter is a vowel \n",
      "O : the letter is a vowel \n"
     ]
    }
   ],
   "source": [
    "vowel = \"aeiouAEIOU\"\n",
    "\n",
    "name = \"Sangram Keshari SAHOO\"\n",
    "\n",
    "for i in name :\n",
    "    if i in vowel :\n",
    "        print(\"{} : the letter is a vowel \".format(i))\n",
    "        \n",
    "    else:\n",
    "        print(\"{} : the letter is not a vowel\".format(i))"
   ]
  },
  {
   "cell_type": "markdown",
   "id": "ae7ff31f-1a9a-4305-b0a6-70957cb951c0",
   "metadata": {},
   "source": [
    "## LIST "
   ]
  },
  {
   "cell_type": "code",
   "execution_count": 49,
   "id": "654610f4-b3f0-4295-9891-ae0cb6eb1fbc",
   "metadata": {},
   "outputs": [
    {
     "data": {
      "text/plain": [
       "list"
      ]
     },
     "execution_count": 49,
     "metadata": {},
     "output_type": "execute_result"
    }
   ],
   "source": [
    "type([])"
   ]
  },
  {
   "cell_type": "code",
   "execution_count": 50,
   "id": "06da592c-a52a-4962-85ba-04ee5b97fd81",
   "metadata": {},
   "outputs": [],
   "source": [
    "list1 = ['Sangram','sahoo','Pwskills',32]"
   ]
  },
  {
   "cell_type": "code",
   "execution_count": 51,
   "id": "b5da8b16-f464-4946-8e7b-657e4bc679c7",
   "metadata": {},
   "outputs": [
    {
     "data": {
      "text/plain": [
       "['Sangram', 'sahoo', 'Pwskills', 32]"
      ]
     },
     "execution_count": 51,
     "metadata": {},
     "output_type": "execute_result"
    }
   ],
   "source": [
    "list1"
   ]
  },
  {
   "cell_type": "code",
   "execution_count": 52,
   "id": "04ab1855-367a-42c1-820b-94e05ba68b6a",
   "metadata": {},
   "outputs": [
    {
     "data": {
      "text/plain": [
       "'Data Science'"
      ]
     },
     "execution_count": 52,
     "metadata": {},
     "output_type": "execute_result"
    }
   ],
   "source": [
    "str1"
   ]
  },
  {
   "cell_type": "code",
   "execution_count": 53,
   "id": "4ecac382-4ff4-4bf6-89b4-0b0dfce6fb82",
   "metadata": {},
   "outputs": [
    {
     "data": {
      "text/plain": [
       "['D', 'a', 't', 'a', ' ', 'S', 'c', 'i', 'e', 'n', 'c', 'e']"
      ]
     },
     "execution_count": 53,
     "metadata": {},
     "output_type": "execute_result"
    }
   ],
   "source": [
    "list(str1)"
   ]
  },
  {
   "cell_type": "code",
   "execution_count": 55,
   "id": "78068cda-cb40-404e-900e-fa46a8cadd8e",
   "metadata": {},
   "outputs": [
    {
     "data": {
      "text/plain": [
       "['Data', 'Science']"
      ]
     },
     "execution_count": 55,
     "metadata": {},
     "output_type": "execute_result"
    }
   ],
   "source": [
    "list(str1.split(\" \"))"
   ]
  },
  {
   "cell_type": "code",
   "execution_count": 56,
   "id": "99efc25c-5648-4792-8e47-ff825f7eb883",
   "metadata": {},
   "outputs": [
    {
     "data": {
      "text/plain": [
       "'sahoo'"
      ]
     },
     "execution_count": 56,
     "metadata": {},
     "output_type": "execute_result"
    }
   ],
   "source": [
    "list1[1]"
   ]
  },
  {
   "cell_type": "code",
   "execution_count": 58,
   "id": "97cd1aab-0272-478f-999f-6580f4a93fb3",
   "metadata": {},
   "outputs": [
    {
     "data": {
      "text/plain": [
       "['sahoo', 'Pwskills', 32]"
      ]
     },
     "execution_count": 58,
     "metadata": {},
     "output_type": "execute_result"
    }
   ],
   "source": [
    "list1[1:]"
   ]
  },
  {
   "cell_type": "code",
   "execution_count": 59,
   "id": "e78a2b18-850d-4dc6-b164-8a0abf88f53b",
   "metadata": {},
   "outputs": [],
   "source": [
    "list1[1] = \"Sahu\""
   ]
  },
  {
   "cell_type": "code",
   "execution_count": 60,
   "id": "c3ba4c3b-3f7d-4249-8a24-940416cc7979",
   "metadata": {},
   "outputs": [
    {
     "data": {
      "text/plain": [
       "['Sangram', 'Sahu', 'Pwskills', 32]"
      ]
     },
     "execution_count": 60,
     "metadata": {},
     "output_type": "execute_result"
    }
   ],
   "source": [
    "list1"
   ]
  },
  {
   "cell_type": "code",
   "execution_count": 61,
   "id": "00671f84-0d09-4f73-a6eb-5ec1f35773af",
   "metadata": {},
   "outputs": [
    {
     "data": {
      "text/plain": [
       "[32, 'Pwskills', 'Sahu', 'Sangram']"
      ]
     },
     "execution_count": 61,
     "metadata": {},
     "output_type": "execute_result"
    }
   ],
   "source": [
    "list1[::-1]"
   ]
  },
  {
   "cell_type": "code",
   "execution_count": 62,
   "id": "1bc3a9ca-cfe5-497f-9b8e-efd7a6ec9bde",
   "metadata": {},
   "outputs": [
    {
     "data": {
      "text/plain": [
       "[32, 'Sahu']"
      ]
     },
     "execution_count": 62,
     "metadata": {},
     "output_type": "execute_result"
    }
   ],
   "source": [
    "list1[::-2]"
   ]
  },
  {
   "cell_type": "code",
   "execution_count": 63,
   "id": "c07bd6f7-fa28-4380-9944-52f45627e2b4",
   "metadata": {},
   "outputs": [
    {
     "data": {
      "text/plain": [
       "['Sangram', 'Sahu', 'Pwskills']"
      ]
     },
     "execution_count": 63,
     "metadata": {},
     "output_type": "execute_result"
    }
   ],
   "source": [
    "list1[-5:-1]"
   ]
  },
  {
   "cell_type": "code",
   "execution_count": 67,
   "id": "7f2f6ed4-c634-449b-9042-bb239da032d8",
   "metadata": {},
   "outputs": [],
   "source": [
    "list2 = list1 + [\"Talcher\"]"
   ]
  },
  {
   "cell_type": "code",
   "execution_count": 68,
   "id": "bb89abcc-5377-4141-8e05-8d3e00bc4521",
   "metadata": {},
   "outputs": [
    {
     "data": {
      "text/plain": [
       "['Sangram', 'Sahu', 'Pwskills', 32, 'Talcher']"
      ]
     },
     "execution_count": 68,
     "metadata": {},
     "output_type": "execute_result"
    }
   ],
   "source": [
    "list2"
   ]
  },
  {
   "cell_type": "code",
   "execution_count": 69,
   "id": "22ace99d-c8d9-4b5b-81a2-518bca419778",
   "metadata": {},
   "outputs": [
    {
     "data": {
      "text/plain": [
       "'Talcher'"
      ]
     },
     "execution_count": 69,
     "metadata": {},
     "output_type": "execute_result"
    }
   ],
   "source": [
    "list2[-1]"
   ]
  },
  {
   "cell_type": "code",
   "execution_count": 71,
   "id": "4c0f1abe-711c-4fc2-b9f8-38bf39407290",
   "metadata": {},
   "outputs": [
    {
     "data": {
      "text/plain": [
       "'T'"
      ]
     },
     "execution_count": 71,
     "metadata": {},
     "output_type": "execute_result"
    }
   ],
   "source": [
    "list2[-1][0]"
   ]
  },
  {
   "cell_type": "code",
   "execution_count": 72,
   "id": "bd8d561d-18f0-499e-8712-19c4605934da",
   "metadata": {},
   "outputs": [
    {
     "data": {
      "text/plain": [
       "'Talcher'"
      ]
     },
     "execution_count": 72,
     "metadata": {},
     "output_type": "execute_result"
    }
   ],
   "source": [
    "list2[-1][0:]"
   ]
  },
  {
   "cell_type": "code",
   "execution_count": 73,
   "id": "bcddf213-28c1-404d-8273-0770479f5cc8",
   "metadata": {},
   "outputs": [
    {
     "data": {
      "text/plain": [
       "'r'"
      ]
     },
     "execution_count": 73,
     "metadata": {},
     "output_type": "execute_result"
    }
   ],
   "source": [
    "list2[-1][-1]"
   ]
  },
  {
   "cell_type": "code",
   "execution_count": 74,
   "id": "cea9c0dc-c4f0-41a5-a819-43ecfff4dcc4",
   "metadata": {},
   "outputs": [
    {
     "data": {
      "text/plain": [
       "'rehclaT'"
      ]
     },
     "execution_count": 74,
     "metadata": {},
     "output_type": "execute_result"
    }
   ],
   "source": [
    "list2[-1][::-1]"
   ]
  },
  {
   "cell_type": "code",
   "execution_count": 75,
   "id": "e678dfe4-8a65-4c11-819c-bab420970dc0",
   "metadata": {},
   "outputs": [
    {
     "data": {
      "text/plain": [
       "'Talche'"
      ]
     },
     "execution_count": 75,
     "metadata": {},
     "output_type": "execute_result"
    }
   ],
   "source": [
    "list2[-1][-7:-1]"
   ]
  },
  {
   "cell_type": "code",
   "execution_count": 80,
   "id": "6761cc06-a657-445a-8b2c-094100357067",
   "metadata": {},
   "outputs": [
    {
     "data": {
      "text/plain": [
       "['Sangram', 'Sahu', 'Pwskills', 32, 'Sangram', 'Sahu', 'Pwskills', 32]"
      ]
     },
     "execution_count": 80,
     "metadata": {},
     "output_type": "execute_result"
    }
   ],
   "source": [
    "list1 * 2"
   ]
  },
  {
   "cell_type": "code",
   "execution_count": 86,
   "id": "aba778ac-3d95-4a86-b0cc-6d92cb5a504a",
   "metadata": {},
   "outputs": [
    {
     "name": "stdout",
     "output_type": "stream",
     "text": [
      "Present\n"
     ]
    }
   ],
   "source": [
    "for i in list1:\n",
    "    if i == \"Sangram\":\n",
    "        print(\"Present\")\n",
    "        break"
   ]
  },
  {
   "cell_type": "code",
   "execution_count": 87,
   "id": "f80368c3-f5ae-42d6-abbc-d64ff5cdb9cb",
   "metadata": {},
   "outputs": [
    {
     "data": {
      "text/plain": [
       "True"
      ]
     },
     "execution_count": 87,
     "metadata": {},
     "output_type": "execute_result"
    }
   ],
   "source": [
    "32 in list1"
   ]
  },
  {
   "cell_type": "code",
   "execution_count": 90,
   "id": "e33466be-bc0e-4a77-a708-61a062ee5d6a",
   "metadata": {},
   "outputs": [
    {
     "data": {
      "text/plain": [
       "True"
      ]
     },
     "execution_count": 90,
     "metadata": {},
     "output_type": "execute_result"
    }
   ],
   "source": [
    "\"Sahu\" in list1"
   ]
  },
  {
   "cell_type": "code",
   "execution_count": 91,
   "id": "2bc414b2-4553-44e0-b300-b43ce89a3438",
   "metadata": {},
   "outputs": [
    {
     "ename": "TypeError",
     "evalue": "'>' not supported between instances of 'int' and 'str'",
     "output_type": "error",
     "traceback": [
      "\u001b[0;31m---------------------------------------------------------------------------\u001b[0m",
      "\u001b[0;31mTypeError\u001b[0m                                 Traceback (most recent call last)",
      "Cell \u001b[0;32mIn[91], line 1\u001b[0m\n\u001b[0;32m----> 1\u001b[0m \u001b[38;5;28;43mmax\u001b[39;49m\u001b[43m(\u001b[49m\u001b[43mlist1\u001b[49m\u001b[43m)\u001b[49m\n",
      "\u001b[0;31mTypeError\u001b[0m: '>' not supported between instances of 'int' and 'str'"
     ]
    }
   ],
   "source": [
    "max(list1)"
   ]
  },
  {
   "cell_type": "code",
   "execution_count": 93,
   "id": "49b072de-3df4-4f91-8c2c-a37ff43e74c9",
   "metadata": {},
   "outputs": [],
   "source": [
    "lst4=[\"Zebra\",\"Monkey\",\"Donkey\",\"Lion\"]\n",
    "lst3=[5,6,2,9,5,8,6]"
   ]
  },
  {
   "cell_type": "code",
   "execution_count": 94,
   "id": "825854dc-1bd1-4e6f-b710-ae878c8ca8a5",
   "metadata": {},
   "outputs": [
    {
     "data": {
      "text/plain": [
       "'Zebra'"
      ]
     },
     "execution_count": 94,
     "metadata": {},
     "output_type": "execute_result"
    }
   ],
   "source": [
    "max(lst4)"
   ]
  },
  {
   "cell_type": "code",
   "execution_count": 95,
   "id": "488dd86f-b3ff-41d3-a3a0-429a1d9758ec",
   "metadata": {},
   "outputs": [
    {
     "data": {
      "text/plain": [
       "9"
      ]
     },
     "execution_count": 95,
     "metadata": {},
     "output_type": "execute_result"
    }
   ],
   "source": [
    "max(lst3)"
   ]
  },
  {
   "cell_type": "code",
   "execution_count": 96,
   "id": "22871929-75de-44cf-a34f-a5fda239a0af",
   "metadata": {},
   "outputs": [
    {
     "data": {
      "text/plain": [
       "2"
      ]
     },
     "execution_count": 96,
     "metadata": {},
     "output_type": "execute_result"
    }
   ],
   "source": [
    "min(lst3)"
   ]
  },
  {
   "cell_type": "code",
   "execution_count": 97,
   "id": "61f2d54f-c218-4f21-8ef3-c04b587691f2",
   "metadata": {},
   "outputs": [
    {
     "data": {
      "text/plain": [
       "['Sangram', 'Sahu', 'Pwskills', 32]"
      ]
     },
     "execution_count": 97,
     "metadata": {},
     "output_type": "execute_result"
    }
   ],
   "source": [
    "list1"
   ]
  },
  {
   "cell_type": "code",
   "execution_count": 98,
   "id": "69b80040-86c9-4d28-a9dd-9a11a19030d1",
   "metadata": {},
   "outputs": [],
   "source": [
    "list1.append(\"Talcher\")"
   ]
  },
  {
   "cell_type": "code",
   "execution_count": 99,
   "id": "f48340c8-e615-4de4-be1d-be9d926dcc29",
   "metadata": {},
   "outputs": [
    {
     "data": {
      "text/plain": [
       "['Sangram', 'Sahu', 'Pwskills', 32, 'Talcher']"
      ]
     },
     "execution_count": 99,
     "metadata": {},
     "output_type": "execute_result"
    }
   ],
   "source": [
    "list1"
   ]
  },
  {
   "cell_type": "code",
   "execution_count": 103,
   "id": "98f0fdf9-1282-4c28-96d0-6c62dca5a8b3",
   "metadata": {},
   "outputs": [
    {
     "data": {
      "text/plain": [
       "'Talcher'"
      ]
     },
     "execution_count": 103,
     "metadata": {},
     "output_type": "execute_result"
    }
   ],
   "source": [
    "list1.pop()"
   ]
  },
  {
   "cell_type": "code",
   "execution_count": 104,
   "id": "a658f4c7-978f-4ad9-996c-ac60c38fde7f",
   "metadata": {},
   "outputs": [
    {
     "data": {
      "text/plain": [
       "['Sangram', 'Sahu', 'Pwskills', 32]"
      ]
     },
     "execution_count": 104,
     "metadata": {},
     "output_type": "execute_result"
    }
   ],
   "source": [
    "list1"
   ]
  },
  {
   "cell_type": "code",
   "execution_count": 105,
   "id": "ad384870-af20-4397-952d-3a6a6c05d56e",
   "metadata": {},
   "outputs": [
    {
     "data": {
      "text/plain": [
       "'Pwskills'"
      ]
     },
     "execution_count": 105,
     "metadata": {},
     "output_type": "execute_result"
    }
   ],
   "source": [
    "list1.pop(2)"
   ]
  },
  {
   "cell_type": "code",
   "execution_count": 106,
   "id": "b95eb9af-f27d-4dd5-af47-3a211cbacc95",
   "metadata": {},
   "outputs": [
    {
     "data": {
      "text/plain": [
       "['Sangram', 'Sahu', 32]"
      ]
     },
     "execution_count": 106,
     "metadata": {},
     "output_type": "execute_result"
    }
   ],
   "source": [
    "list1"
   ]
  },
  {
   "cell_type": "code",
   "execution_count": 107,
   "id": "734e6072-7e07-42e0-bff1-2dd38f337853",
   "metadata": {},
   "outputs": [],
   "source": [
    "new_list = ['q','e','y','g','t','n']"
   ]
  },
  {
   "cell_type": "code",
   "execution_count": 108,
   "id": "b9112613-d642-4a07-b9c5-87aa4b64bfcd",
   "metadata": {},
   "outputs": [
    {
     "data": {
      "text/plain": [
       "['n', 't', 'g', 'y', 'e', 'q']"
      ]
     },
     "execution_count": 108,
     "metadata": {},
     "output_type": "execute_result"
    }
   ],
   "source": [
    "new_list[::-1]"
   ]
  },
  {
   "cell_type": "code",
   "execution_count": 109,
   "id": "8d149f1e-c506-4cf5-9e9f-94d8a238b99e",
   "metadata": {},
   "outputs": [],
   "source": [
    "new_list.reverse()"
   ]
  },
  {
   "cell_type": "code",
   "execution_count": 110,
   "id": "32bf55ec-f3c1-4444-bfa1-d1641fffb7d7",
   "metadata": {},
   "outputs": [
    {
     "data": {
      "text/plain": [
       "['n', 't', 'g', 'y', 'e', 'q']"
      ]
     },
     "execution_count": 110,
     "metadata": {},
     "output_type": "execute_result"
    }
   ],
   "source": [
    "new_list"
   ]
  },
  {
   "cell_type": "code",
   "execution_count": 111,
   "id": "e3e970d2-7715-4605-b745-3c14a6b8c326",
   "metadata": {},
   "outputs": [],
   "source": [
    "new_list.sort()"
   ]
  },
  {
   "cell_type": "code",
   "execution_count": 112,
   "id": "e1352aa5-2c87-40c6-a80e-68bcd9b22015",
   "metadata": {},
   "outputs": [
    {
     "data": {
      "text/plain": [
       "['e', 'g', 'n', 'q', 't', 'y']"
      ]
     },
     "execution_count": 112,
     "metadata": {},
     "output_type": "execute_result"
    }
   ],
   "source": [
    "new_list"
   ]
  },
  {
   "cell_type": "code",
   "execution_count": 113,
   "id": "52830734-835d-4207-9aa2-8a35d4042f04",
   "metadata": {},
   "outputs": [
    {
     "data": {
      "text/plain": [
       "['Sangram', 'Sahu', 32]"
      ]
     },
     "execution_count": 113,
     "metadata": {},
     "output_type": "execute_result"
    }
   ],
   "source": [
    "list1"
   ]
  },
  {
   "cell_type": "code",
   "execution_count": 114,
   "id": "95675c48-8444-4792-add9-6a7ad9c166e1",
   "metadata": {},
   "outputs": [],
   "source": [
    "list1.append([\"PW\",\"Skills\"])"
   ]
  },
  {
   "cell_type": "code",
   "execution_count": 115,
   "id": "c464ce9c-8581-455c-b098-413eaaa0b144",
   "metadata": {},
   "outputs": [
    {
     "data": {
      "text/plain": [
       "['Sangram', 'Sahu', 32, ['PW', 'Skills']]"
      ]
     },
     "execution_count": 115,
     "metadata": {},
     "output_type": "execute_result"
    }
   ],
   "source": [
    "list1"
   ]
  },
  {
   "cell_type": "code",
   "execution_count": 116,
   "id": "eb5d8f59-9e5a-4d02-8a9a-ddf92efb0d31",
   "metadata": {},
   "outputs": [],
   "source": [
    "list1.extend([\"Talcher\",\"Angul\"])"
   ]
  },
  {
   "cell_type": "code",
   "execution_count": 117,
   "id": "6ee3555d-3cef-4902-a254-d20e76cd3524",
   "metadata": {},
   "outputs": [
    {
     "data": {
      "text/plain": [
       "['Sangram', 'Sahu', 32, ['PW', 'Skills'], 'Talcher', 'Angul']"
      ]
     },
     "execution_count": 117,
     "metadata": {},
     "output_type": "execute_result"
    }
   ],
   "source": [
    "list1"
   ]
  },
  {
   "cell_type": "code",
   "execution_count": 118,
   "id": "9d077335-d7ad-4dd0-b805-e9b6ad500621",
   "metadata": {},
   "outputs": [
    {
     "data": {
      "text/plain": [
       "['e', 'g', 'n', 'q', 't', 'y']"
      ]
     },
     "execution_count": 118,
     "metadata": {},
     "output_type": "execute_result"
    }
   ],
   "source": [
    "new_list"
   ]
  },
  {
   "cell_type": "code",
   "execution_count": 119,
   "id": "10a29374-3fbb-416a-9a6b-e6e86f43609c",
   "metadata": {},
   "outputs": [],
   "source": [
    "new_list.sort()"
   ]
  },
  {
   "cell_type": "code",
   "execution_count": 120,
   "id": "4193076d-946d-40a6-9a4f-4f36bedd26e7",
   "metadata": {},
   "outputs": [
    {
     "data": {
      "text/plain": [
       "['e', 'g', 'n', 'q', 't', 'y']"
      ]
     },
     "execution_count": 120,
     "metadata": {},
     "output_type": "execute_result"
    }
   ],
   "source": [
    "new_list"
   ]
  },
  {
   "cell_type": "code",
   "execution_count": 121,
   "id": "0f2918ab-dc88-47a0-b28a-d9ec5a3d049b",
   "metadata": {},
   "outputs": [],
   "source": [
    "new_list.sort(reverse = True)"
   ]
  },
  {
   "cell_type": "code",
   "execution_count": 123,
   "id": "f42be06f-6c2f-4321-ba93-8600af99fe58",
   "metadata": {},
   "outputs": [
    {
     "data": {
      "text/plain": [
       "['y', 't', 'q', 'n', 'g', 'e']"
      ]
     },
     "execution_count": 123,
     "metadata": {},
     "output_type": "execute_result"
    }
   ],
   "source": [
    "new_list"
   ]
  },
  {
   "cell_type": "markdown",
   "id": "ed3494b4-4e1f-4e3e-a1dd-c88e520b6eb3",
   "metadata": {},
   "source": [
    "## Nested List    "
   ]
  },
  {
   "cell_type": "code",
   "execution_count": 124,
   "id": "41748b9b-f5dd-4292-9b52-f00cb9d1a747",
   "metadata": {},
   "outputs": [],
   "source": [
    "lists = [[1, 2, 3], [4, 5, 6], [7, 8, 9]]"
   ]
  },
  {
   "cell_type": "code",
   "execution_count": 126,
   "id": "9f6a1bf6-2fa3-4465-8c5b-e4864ca68d9f",
   "metadata": {},
   "outputs": [
    {
     "data": {
      "text/plain": [
       "[1, 2, 3, 4, 5, 6, 7, 8, 9]"
      ]
     },
     "execution_count": 126,
     "metadata": {},
     "output_type": "execute_result"
    }
   ],
   "source": [
    "[j for i in lists for j in i ]"
   ]
  },
  {
   "cell_type": "code",
   "execution_count": 127,
   "id": "d31dc037-c959-4f9c-ab06-b7181d9bbe4c",
   "metadata": {},
   "outputs": [],
   "source": [
    "lst_1 = [1,2,3]\n",
    "lst_2 = [4,5,6]\n",
    "lst_3 = [7,8,9]"
   ]
  },
  {
   "cell_type": "code",
   "execution_count": 128,
   "id": "e1be0c03-f6b3-4a91-bf67-043153407c85",
   "metadata": {},
   "outputs": [],
   "source": [
    "matrix = [lst_1,lst_2,lst_3]"
   ]
  },
  {
   "cell_type": "code",
   "execution_count": 129,
   "id": "c446f7e3-7552-48fd-be6e-0c0336881c23",
   "metadata": {},
   "outputs": [
    {
     "data": {
      "text/plain": [
       "[[1, 2, 3], [4, 5, 6], [7, 8, 9]]"
      ]
     },
     "execution_count": 129,
     "metadata": {},
     "output_type": "execute_result"
    }
   ],
   "source": [
    "matrix"
   ]
  },
  {
   "cell_type": "code",
   "execution_count": 130,
   "id": "a3859ece-6214-4994-87d9-c1aead069e0a",
   "metadata": {},
   "outputs": [
    {
     "data": {
      "text/plain": [
       "[4, 5, 6]"
      ]
     },
     "execution_count": 130,
     "metadata": {},
     "output_type": "execute_result"
    }
   ],
   "source": [
    "matrix[1]"
   ]
  },
  {
   "cell_type": "code",
   "execution_count": 131,
   "id": "d2e1dc39-3b7a-40c5-8d4c-8e4322a36bae",
   "metadata": {},
   "outputs": [
    {
     "data": {
      "text/plain": [
       "5"
      ]
     },
     "execution_count": 131,
     "metadata": {},
     "output_type": "execute_result"
    }
   ],
   "source": [
    "matrix[1][1]"
   ]
  },
  {
   "cell_type": "code",
   "execution_count": 132,
   "id": "68f48e52-e45b-41c1-b530-fe7ef0f4e8da",
   "metadata": {},
   "outputs": [
    {
     "data": {
      "text/plain": [
       "[9, 8, 7]"
      ]
     },
     "execution_count": 132,
     "metadata": {},
     "output_type": "execute_result"
    }
   ],
   "source": [
    "matrix[2][::-1]"
   ]
  },
  {
   "cell_type": "code",
   "execution_count": 133,
   "id": "e5ad9bdc-7173-4686-8bb7-ef71bec1a33d",
   "metadata": {},
   "outputs": [
    {
     "data": {
      "text/plain": [
       "[8, 9]"
      ]
     },
     "execution_count": 133,
     "metadata": {},
     "output_type": "execute_result"
    }
   ],
   "source": [
    "matrix[2][1:]"
   ]
  },
  {
   "cell_type": "code",
   "execution_count": 136,
   "id": "416d53e8-b5fa-4520-b709-dfd5578662fe",
   "metadata": {},
   "outputs": [
    {
     "name": "stdout",
     "output_type": "stream",
     "text": [
      "0 1 2 3 4 5 6 7 8 9 10 11 12 13 14 15 16 17 18 19 "
     ]
    }
   ],
   "source": [
    "for i in range(0,20):\n",
    "    print(i, end=\" \")"
   ]
  },
  {
   "cell_type": "markdown",
   "id": "a8434129-f0aa-4519-8323-6591a28b4384",
   "metadata": {},
   "source": [
    "## List Comprehension"
   ]
  },
  {
   "cell_type": "code",
   "execution_count": 137,
   "id": "1afb4681-27e7-42f1-9b5f-8ae01fbf57c5",
   "metadata": {},
   "outputs": [
    {
     "data": {
      "text/plain": [
       "[0, 1, 2, 3, 4, 5, 6, 7, 8, 9, 10, 11, 12, 13, 14, 15, 16, 17, 18, 19]"
      ]
     },
     "execution_count": 137,
     "metadata": {},
     "output_type": "execute_result"
    }
   ],
   "source": [
    "[i for i in range(0,20) ]"
   ]
  },
  {
   "cell_type": "code",
   "execution_count": 139,
   "id": "2422a7ad-ad18-4c38-8ce1-4f930907c695",
   "metadata": {},
   "outputs": [
    {
     "data": {
      "text/plain": [
       "[0, 2, 4, 6, 8, 10, 12, 14, 16, 18]"
      ]
     },
     "execution_count": 139,
     "metadata": {},
     "output_type": "execute_result"
    }
   ],
   "source": [
    "## List Comprehension\n",
    "## Even numbers\n",
    "\n",
    "[i for i in range(0,20) if i%2 == 0 ]"
   ]
  },
  {
   "cell_type": "code",
   "execution_count": 151,
   "id": "0c4113e7-ae3d-4527-9c86-eaf5fa1b14c3",
   "metadata": {},
   "outputs": [
    {
     "data": {
      "text/plain": [
       "[1, 3, 5, 7, 9, 11, 13, 15, 17, 19]"
      ]
     },
     "execution_count": 151,
     "metadata": {},
     "output_type": "execute_result"
    }
   ],
   "source": [
    "\n",
    "[i for i in range(0,20) if i%2 != 0 ]"
   ]
  },
  {
   "cell_type": "code",
   "execution_count": 152,
   "id": "74e287a0-a5c0-4360-9ee4-d6782e99f29b",
   "metadata": {},
   "outputs": [],
   "source": [
    "## Assignment \n",
    "## Sum of even numbers and odd numbers\n",
    "lst=[1,2,3,4,5,6,7,8]\n",
    "\n"
   ]
  },
  {
   "cell_type": "code",
   "execution_count": 154,
   "id": "cb61f380-22b4-4725-9319-529abfeac041",
   "metadata": {},
   "outputs": [],
   "source": [
    "even_sum = sum([i for i in lst if i%2 == 0])"
   ]
  },
  {
   "cell_type": "code",
   "execution_count": 155,
   "id": "5bc29302-5f95-4547-9b43-3fd7f40a55e0",
   "metadata": {},
   "outputs": [
    {
     "data": {
      "text/plain": [
       "20"
      ]
     },
     "execution_count": 155,
     "metadata": {},
     "output_type": "execute_result"
    }
   ],
   "source": [
    "even_sum"
   ]
  },
  {
   "cell_type": "code",
   "execution_count": 157,
   "id": "61ce2f4d-330f-42c2-b727-4a56faa753a2",
   "metadata": {},
   "outputs": [],
   "source": [
    "even_odd = sum([i for i in lst if i%2 != 0])"
   ]
  },
  {
   "cell_type": "code",
   "execution_count": 158,
   "id": "a472f18d-0348-436f-9ced-62366ee336f6",
   "metadata": {},
   "outputs": [
    {
     "data": {
      "text/plain": [
       "16"
      ]
     },
     "execution_count": 158,
     "metadata": {},
     "output_type": "execute_result"
    }
   ],
   "source": [
    "even_odd"
   ]
  },
  {
   "cell_type": "code",
   "execution_count": 161,
   "id": "36097d2c-6a32-4be9-b18c-37c7d02e28da",
   "metadata": {},
   "outputs": [
    {
     "name": "stdout",
     "output_type": "stream",
     "text": [
      "20\n",
      "16\n"
     ]
    }
   ],
   "source": [
    "lst=[1,2,3,4,5,6,7,8] \n",
    "\n",
    "evn_sum = 0\n",
    "od_sum = 0\n",
    "\n",
    "for i in lst :\n",
    "    if i %2 == 0 :\n",
    "        evn_sum = evn_sum+i\n",
    "    else:\n",
    "        od_sum = od_sum + i\n",
    "        \n",
    "print(evn_sum)\n",
    "print(od_sum)"
   ]
  },
  {
   "cell_type": "code",
   "execution_count": 162,
   "id": "823feeab-c801-416f-bbec-96093f81fa25",
   "metadata": {},
   "outputs": [
    {
     "data": {
      "text/plain": [
       "[1, 4, 9, 16, 25, 36, 49, 64]"
      ]
     },
     "execution_count": 162,
     "metadata": {},
     "output_type": "execute_result"
    }
   ],
   "source": [
    "#Square of the numbers of list:-\n",
    "\n",
    "[i**2 for i in lst]"
   ]
  },
  {
   "cell_type": "code",
   "execution_count": 164,
   "id": "bf69d29c-fac3-4ddd-a0aa-18e28c0d414a",
   "metadata": {},
   "outputs": [
    {
     "data": {
      "text/plain": [
       "[1, 8, 27, 64, 125, 216, 343, 512]"
      ]
     },
     "execution_count": 164,
     "metadata": {},
     "output_type": "execute_result"
    }
   ],
   "source": [
    "[i**3 for i in lst]"
   ]
  },
  {
   "cell_type": "code",
   "execution_count": 166,
   "id": "ec81041f-94fb-46b3-8d9c-921f9cd25d49",
   "metadata": {},
   "outputs": [
    {
     "data": {
      "text/plain": [
       "[1, 16, 81, 256, 625, 1296, 2401, 4096]"
      ]
     },
     "execution_count": 166,
     "metadata": {},
     "output_type": "execute_result"
    }
   ],
   "source": [
    "[i**4 for i in lst]"
   ]
  },
  {
   "cell_type": "code",
   "execution_count": 167,
   "id": "191d389a-14b1-4d9a-be1e-3d889de6fcc8",
   "metadata": {},
   "outputs": [
    {
     "data": {
      "text/plain": [
       "[1, 2, 3, 4]"
      ]
     },
     "execution_count": 167,
     "metadata": {},
     "output_type": "execute_result"
    }
   ],
   "source": [
    "# Example 2: Create a list of only the positive numbers from a given list\n",
    "numbers = [-2, -1, 0, 1, 2, 3, 4]\n",
    "\n",
    "[i for i in numbers if i >0]"
   ]
  },
  {
   "cell_type": "code",
   "execution_count": 168,
   "id": "1bb5d915-c15b-4d4a-ad01-b245554af6e1",
   "metadata": {},
   "outputs": [
    {
     "data": {
      "text/plain": [
       "[-2, -1]"
      ]
     },
     "execution_count": 168,
     "metadata": {},
     "output_type": "execute_result"
    }
   ],
   "source": [
    "[i for i in numbers if i <0]"
   ]
  },
  {
   "cell_type": "code",
   "execution_count": 169,
   "id": "d500af43-cd6a-40ff-940b-5223645f9725",
   "metadata": {},
   "outputs": [
    {
     "data": {
      "text/plain": [
       "['a', 'b', 'c', 'd']"
      ]
     },
     "execution_count": 169,
     "metadata": {},
     "output_type": "execute_result"
    }
   ],
   "source": [
    "# Example 3: Create a list of only the first letters of words in a list\n",
    "words = ['apple', 'banana', 'cherry', 'date']\n",
    "\n",
    "[i[0] for i in words]"
   ]
  },
  {
   "cell_type": "code",
   "execution_count": 170,
   "id": "cfd721ea-11a1-4754-bb71-1e330613b2df",
   "metadata": {},
   "outputs": [
    {
     "data": {
      "text/plain": [
       "[32.0, 50.0, 68.0, 86.0, 104.0, 122.0]"
      ]
     },
     "execution_count": 170,
     "metadata": {},
     "output_type": "execute_result"
    }
   ],
   "source": [
    " #Example 4: Convert a list of temperatures from Celsius to Fahrenheit uing list comprehesnion\n",
    "celsius_temperatures = [0, 10, 20, 30, 40, 50]\n",
    "\n",
    "[(9/5)*temp+32 for temp in celsius_temperatures]"
   ]
  },
  {
   "cell_type": "code",
   "execution_count": 172,
   "id": "d1c06726-edf9-48fc-a172-e7aba598e1fd",
   "metadata": {},
   "outputs": [
    {
     "data": {
      "text/plain": [
       "[1, 2, 3, 4, 5, 6, 7, 8, 9]"
      ]
     },
     "execution_count": 172,
     "metadata": {},
     "output_type": "execute_result"
    }
   ],
   "source": [
    "# Example 5: Flatten a list of lists into a single list\n",
    "lists = [[1, 2, 3], [4, 5, 6], [7, 8, 9]]\n",
    "\n",
    "[i for sublist in lists for i in sublist ]"
   ]
  },
  {
   "cell_type": "code",
   "execution_count": 173,
   "id": "d7fc276c-6721-43a1-85f2-9fdc164236f7",
   "metadata": {},
   "outputs": [
    {
     "data": {
      "text/plain": [
       "[1, 2, 3, 4, 5, 6, 7, 8, 9]"
      ]
     },
     "execution_count": 173,
     "metadata": {},
     "output_type": "execute_result"
    }
   ],
   "source": [
    "[j for i in lists for j in i]"
   ]
  },
  {
   "cell_type": "code",
   "execution_count": 179,
   "id": "9a38a1ae-2c1a-4223-9725-3bc5d5a9b18f",
   "metadata": {},
   "outputs": [],
   "source": [
    "## Assignment \n",
    "## Using both code and list comprehesnion\n",
    "# Example 2: Create a list of only the prime numbers from a given list\n",
    "numbers = [1, 2, 3, 4, 5, 6, 7, 8, 9, 10]\n",
    "\n"
   ]
  },
  {
   "cell_type": "code",
   "execution_count": 184,
   "id": "9e072afa-b6c5-41fa-ad7e-64abc10cc9a5",
   "metadata": {},
   "outputs": [
    {
     "name": "stdout",
     "output_type": "stream",
     "text": [
      "1 is not a prime number\n",
      "2 is a prime number\n",
      "3 is a prime number\n",
      "4 is not a prime number\n",
      "5 is a prime number\n",
      "6 is not a prime number\n",
      "7 is a prime number\n",
      "8 is not a prime number\n",
      "9 is not a prime number\n",
      "10 is not a prime number\n"
     ]
    }
   ],
   "source": [
    "for num in numbers:\n",
    "    \n",
    "    if num > 1:\n",
    "  \n",
    "        for i in range(2, int(num/2)+1):\n",
    "            \n",
    "            if (num % i) == 0:\n",
    "                print(num, \"is not a prime number\")\n",
    "                break\n",
    "        else:\n",
    "            print(num, \"is a prime number\")\n",
    "    else:\n",
    "        print(num, \"is not a prime number\")"
   ]
  },
  {
   "cell_type": "code",
   "execution_count": 186,
   "id": "3a7f5590-3a1a-499c-8d53-76ccddc4ac33",
   "metadata": {},
   "outputs": [],
   "source": [
    "# Example 3: Create a list of all the possible combinations of 2 elements from a list\n",
    "num = [1, 2, 3, 4, 5]"
   ]
  },
  {
   "cell_type": "code",
   "execution_count": 201,
   "id": "72ad7175-ee59-417f-b3fb-f16e762044b7",
   "metadata": {},
   "outputs": [
    {
     "name": "stdout",
     "output_type": "stream",
     "text": [
      "[1, 2, 1, 3, 1, 4, 1, 5, 2, 1, 2, 3, 2, 4, 2, 5, 3, 1, 3, 2, 3, 4, 3, 5, 4, 1, 4, 2, 4, 3, 4, 5, 5, 1, 5, 2, 5, 3, 5, 4]\n"
     ]
    }
   ],
   "source": [
    "lst_1 = []\n",
    "\n",
    "for i in num:\n",
    "    for j in num :\n",
    "        if i != j:\n",
    "            lst_1.append(i)\n",
    "            lst_1.append(j)\n",
    "print(lst_1)\n",
    "            "
   ]
  },
  {
   "cell_type": "code",
   "execution_count": null,
   "id": "3651d454-3729-4755-86da-6007be8f8f2e",
   "metadata": {},
   "outputs": [],
   "source": []
  }
 ],
 "metadata": {
  "kernelspec": {
   "display_name": "Python 3 (ipykernel)",
   "language": "python",
   "name": "python3"
  },
  "language_info": {
   "codemirror_mode": {
    "name": "ipython",
    "version": 3
   },
   "file_extension": ".py",
   "mimetype": "text/x-python",
   "name": "python",
   "nbconvert_exporter": "python",
   "pygments_lexer": "ipython3",
   "version": "3.10.8"
  }
 },
 "nbformat": 4,
 "nbformat_minor": 5
}
