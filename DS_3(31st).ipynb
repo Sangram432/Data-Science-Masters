{
 "cells": [
  {
   "cell_type": "markdown",
   "id": "c97a9357-9817-43b6-b7d5-02d9de5d6c37",
   "metadata": {},
   "source": [
    "LOGICAL OPERATORS:-\n",
    "\n",
    "1.And\n",
    "\n",
    "2.or\n",
    "\n",
    "3.not"
   ]
  },
  {
   "cell_type": "code",
   "execution_count": 1,
   "id": "808f59e0-8a17-42ee-9d16-15b9959c4e87",
   "metadata": {},
   "outputs": [
    {
     "data": {
      "text/plain": [
       "True"
      ]
     },
     "execution_count": 1,
     "metadata": {},
     "output_type": "execute_result"
    }
   ],
   "source": [
    "True and True"
   ]
  },
  {
   "cell_type": "code",
   "execution_count": 3,
   "id": "4b870b00-37f4-4f1b-958a-5cc01adb2cf3",
   "metadata": {},
   "outputs": [
    {
     "data": {
      "text/plain": [
       "True"
      ]
     },
     "execution_count": 3,
     "metadata": {},
     "output_type": "execute_result"
    }
   ],
   "source": [
    "True or True"
   ]
  },
  {
   "cell_type": "code",
   "execution_count": 4,
   "id": "afecac2b-8887-465d-955f-283c25b4d381",
   "metadata": {},
   "outputs": [
    {
     "data": {
      "text/plain": [
       "True"
      ]
     },
     "execution_count": 4,
     "metadata": {},
     "output_type": "execute_result"
    }
   ],
   "source": [
    "True or False"
   ]
  },
  {
   "cell_type": "code",
   "execution_count": 5,
   "id": "e851ac6f-60cc-42d9-947b-f57758c6770e",
   "metadata": {},
   "outputs": [
    {
     "data": {
      "text/plain": [
       "False"
      ]
     },
     "execution_count": 5,
     "metadata": {},
     "output_type": "execute_result"
    }
   ],
   "source": [
    "False or False"
   ]
  },
  {
   "cell_type": "code",
   "execution_count": 6,
   "id": "40777a26-1707-4414-a1de-893a2a17c75b",
   "metadata": {},
   "outputs": [
    {
     "data": {
      "text/plain": [
       "False"
      ]
     },
     "execution_count": 6,
     "metadata": {},
     "output_type": "execute_result"
    }
   ],
   "source": [
    "False and True"
   ]
  },
  {
   "cell_type": "code",
   "execution_count": 7,
   "id": "3ba0c2be-ba32-4eb2-aedb-664a20b0fbcf",
   "metadata": {},
   "outputs": [
    {
     "data": {
      "text/plain": [
       "True"
      ]
     },
     "execution_count": 7,
     "metadata": {},
     "output_type": "execute_result"
    }
   ],
   "source": [
    "False or True"
   ]
  },
  {
   "cell_type": "code",
   "execution_count": 8,
   "id": "d28dea28-c121-421f-a1ca-9d83944545e0",
   "metadata": {},
   "outputs": [],
   "source": [
    "START = True \n",
    "STOP = False"
   ]
  },
  {
   "cell_type": "code",
   "execution_count": 11,
   "id": "e0e16a5a-fb42-4315-86c0-f98c0df53dbb",
   "metadata": {},
   "outputs": [
    {
     "name": "stdout",
     "output_type": "stream",
     "text": [
      "defined value of START is : True\n",
      "defined value of STOP is : False\n",
      "defined value of NOT START is : False\n",
      "defined value of not STOP  is : True\n"
     ]
    }
   ],
   "source": [
    "print(f\"defined value of START is : {START}\")\n",
    "print(f\"defined value of STOP is : {STOP}\")\n",
    "print(f\"defined value of NOT START is : {not START}\")\n",
    "print(f\"defined value of not STOP  is : {not STOP}\")"
   ]
  },
  {
   "cell_type": "code",
   "execution_count": 17,
   "id": "06d38ea7-7d24-4e79-971f-17b123f9e743",
   "metadata": {},
   "outputs": [
    {
     "name": "stdout",
     "output_type": "stream",
     "text": [
      "defined value of START is : True\n"
     ]
    }
   ],
   "source": [
    "print(\"defined value of START is :\" ,START )"
   ]
  },
  {
   "cell_type": "code",
   "execution_count": 18,
   "id": "31e55917-8501-41c4-85da-00c8958f846f",
   "metadata": {},
   "outputs": [
    {
     "name": "stdout",
     "output_type": "stream",
     "text": [
      "defined value of STOP is : False\n"
     ]
    }
   ],
   "source": [
    "print(\"defined value of STOP is :\" ,STOP )"
   ]
  },
  {
   "cell_type": "code",
   "execution_count": 22,
   "id": "afb5d7b7-87c3-4ffb-a75e-055f05172dd8",
   "metadata": {},
   "outputs": [
    {
     "name": "stdout",
     "output_type": "stream",
     "text": [
      "defined value of START is: True\n"
     ]
    }
   ],
   "source": [
    "print(\"defined value of START is: {}\".format(START))"
   ]
  },
  {
   "cell_type": "code",
   "execution_count": 24,
   "id": "58fef4d3-4f15-4d4c-a6c5-7e81864956a7",
   "metadata": {},
   "outputs": [
    {
     "name": "stdout",
     "output_type": "stream",
     "text": [
      "defined value of STOP is : False\n"
     ]
    }
   ],
   "source": [
    "print(\"defined value of STOP is : {}\".format(STOP) )"
   ]
  },
  {
   "cell_type": "code",
   "execution_count": 25,
   "id": "506acd2f-f1ba-4e8a-a79b-a39fd3a638c7",
   "metadata": {},
   "outputs": [
    {
     "data": {
      "text/plain": [
       "False"
      ]
     },
     "execution_count": 25,
     "metadata": {},
     "output_type": "execute_result"
    }
   ],
   "source": [
    "not True"
   ]
  },
  {
   "cell_type": "code",
   "execution_count": 26,
   "id": "3f36dea3-e1cb-4d8c-8df0-350d2c4b98e0",
   "metadata": {},
   "outputs": [
    {
     "data": {
      "text/plain": [
       "True"
      ]
     },
     "execution_count": 26,
     "metadata": {},
     "output_type": "execute_result"
    }
   ],
   "source": [
    "not False"
   ]
  },
  {
   "cell_type": "code",
   "execution_count": 27,
   "id": "df4af83d-c9db-41fa-b620-3ca56b63e6c0",
   "metadata": {},
   "outputs": [
    {
     "data": {
      "text/plain": [
       "1"
      ]
     },
     "execution_count": 27,
     "metadata": {},
     "output_type": "execute_result"
    }
   ],
   "source": [
    "int(True)"
   ]
  },
  {
   "cell_type": "code",
   "execution_count": 28,
   "id": "5a67af37-21fa-4b4a-8385-597a6d33925b",
   "metadata": {},
   "outputs": [
    {
     "data": {
      "text/plain": [
       "0"
      ]
     },
     "execution_count": 28,
     "metadata": {},
     "output_type": "execute_result"
    }
   ],
   "source": [
    "int(not True)"
   ]
  },
  {
   "cell_type": "code",
   "execution_count": 29,
   "id": "43a2e933-d93a-4c95-82ee-2595c7b61ec1",
   "metadata": {},
   "outputs": [
    {
     "data": {
      "text/plain": [
       "False"
      ]
     },
     "execution_count": 29,
     "metadata": {},
     "output_type": "execute_result"
    }
   ],
   "source": [
    "bool(int(not True))"
   ]
  },
  {
   "cell_type": "code",
   "execution_count": 30,
   "id": "2eba673e-eecc-45ce-a8cb-9fe8fa6a97d0",
   "metadata": {},
   "outputs": [
    {
     "data": {
      "text/plain": [
       "True"
      ]
     },
     "execution_count": 30,
     "metadata": {},
     "output_type": "execute_result"
    }
   ],
   "source": [
    "bool(1)"
   ]
  },
  {
   "cell_type": "code",
   "execution_count": 31,
   "id": "6a686b2f-f0f0-4d71-b8a6-d9ad2747e13b",
   "metadata": {},
   "outputs": [
    {
     "data": {
      "text/plain": [
       "True"
      ]
     },
     "execution_count": 31,
     "metadata": {},
     "output_type": "execute_result"
    }
   ],
   "source": [
    "bool(True)"
   ]
  },
  {
   "cell_type": "code",
   "execution_count": 33,
   "id": "b82c8f30-08db-4562-ad30-a0a7731c9f84",
   "metadata": {},
   "outputs": [
    {
     "data": {
      "text/plain": [
       "1"
      ]
     },
     "execution_count": 33,
     "metadata": {},
     "output_type": "execute_result"
    }
   ],
   "source": [
    "int(not(bool(0)))"
   ]
  },
  {
   "cell_type": "markdown",
   "id": "6e5bb1a4-a15b-472b-a152-170fe3b344d4",
   "metadata": {},
   "source": [
    "Logical And "
   ]
  },
  {
   "cell_type": "code",
   "execution_count": 1,
   "id": "728f4fca-0267-4d36-b06d-e2d98724a8e8",
   "metadata": {},
   "outputs": [
    {
     "data": {
      "text/plain": [
       "True"
      ]
     },
     "execution_count": 1,
     "metadata": {},
     "output_type": "execute_result"
    }
   ],
   "source": [
    "not (False)"
   ]
  },
  {
   "cell_type": "code",
   "execution_count": 3,
   "id": "47647330-303a-4f4b-bb32-6630a79e1552",
   "metadata": {},
   "outputs": [
    {
     "data": {
      "text/plain": [
       "False"
      ]
     },
     "execution_count": 3,
     "metadata": {},
     "output_type": "execute_result"
    }
   ],
   "source": [
    "not (True)"
   ]
  },
  {
   "cell_type": "code",
   "execution_count": 5,
   "id": "99c9d99f-0b1a-4266-a585-e941771d6f0a",
   "metadata": {},
   "outputs": [
    {
     "data": {
      "text/plain": [
       "0"
      ]
     },
     "execution_count": 5,
     "metadata": {},
     "output_type": "execute_result"
    }
   ],
   "source": [
    "False * False"
   ]
  },
  {
   "cell_type": "code",
   "execution_count": 6,
   "id": "ad9103e1-ab67-41c4-a91f-3fd92b75a7de",
   "metadata": {},
   "outputs": [
    {
     "data": {
      "text/plain": [
       "True"
      ]
     },
     "execution_count": 6,
     "metadata": {},
     "output_type": "execute_result"
    }
   ],
   "source": [
    "not(False)*False"
   ]
  },
  {
   "cell_type": "code",
   "execution_count": 7,
   "id": "d79135c7-905b-44b3-998a-b350d4652414",
   "metadata": {},
   "outputs": [
    {
     "data": {
      "text/plain": [
       "True"
      ]
     },
     "execution_count": 7,
     "metadata": {},
     "output_type": "execute_result"
    }
   ],
   "source": [
    "not False * False"
   ]
  },
  {
   "cell_type": "code",
   "execution_count": 8,
   "id": "528bf7f7-ba47-49df-b42a-5537a2e01c01",
   "metadata": {},
   "outputs": [
    {
     "data": {
      "text/plain": [
       "0"
      ]
     },
     "execution_count": 8,
     "metadata": {},
     "output_type": "execute_result"
    }
   ],
   "source": [
    "(not False) * False"
   ]
  },
  {
   "cell_type": "code",
   "execution_count": 10,
   "id": "1541a038-f326-4bc9-b94b-a97ef27e78ff",
   "metadata": {},
   "outputs": [
    {
     "data": {
      "text/plain": [
       "True"
      ]
     },
     "execution_count": 10,
     "metadata": {},
     "output_type": "execute_result"
    }
   ],
   "source": [
    "not False * ( not False)"
   ]
  },
  {
   "cell_type": "code",
   "execution_count": 11,
   "id": "5f1f883d-c62b-41e5-987a-df617106b171",
   "metadata": {},
   "outputs": [
    {
     "data": {
      "text/plain": [
       "True"
      ]
     },
     "execution_count": 11,
     "metadata": {},
     "output_type": "execute_result"
    }
   ],
   "source": [
    "not 0"
   ]
  },
  {
   "cell_type": "code",
   "execution_count": 14,
   "id": "505d2b95-6b46-4397-b792-4293029a8868",
   "metadata": {},
   "outputs": [
    {
     "data": {
      "text/plain": [
       "False"
      ]
     },
     "execution_count": 14,
     "metadata": {},
     "output_type": "execute_result"
    }
   ],
   "source": [
    "not (1)"
   ]
  },
  {
   "cell_type": "code",
   "execution_count": 15,
   "id": "41daff4b-02f7-42a3-8379-b3401e575810",
   "metadata": {},
   "outputs": [
    {
     "data": {
      "text/plain": [
       "False"
      ]
     },
     "execution_count": 15,
     "metadata": {},
     "output_type": "execute_result"
    }
   ],
   "source": [
    "not (25)"
   ]
  },
  {
   "cell_type": "raw",
   "id": "3aa2956e-178c-4c52-9115-cc74c62ec156",
   "metadata": {},
   "source": [
    "4.1.2 Equality Operators\n",
    "\n",
    "Following operations are present in python for equlity check operation-\n",
    "\n",
    "Operators\t   Meaning \n",
    "---------------------------------------------------------------------------------------------\n",
    "is\t           a is b returns true if variable/identifiers a and b points to the same object\n",
    "\n",
    "is             not\ta is not b returns true if variable/identifiers a and b points to the different object\n",
    "\n",
    "==\t           a == b returns true if variable/identifiers a and b has same value\n",
    "!=\t           a != b returns true if variable/identifiers a and b has different value\n"
   ]
  },
  {
   "cell_type": "code",
   "execution_count": 16,
   "id": "8a76465f-5e5e-4fde-b35b-de520af380ce",
   "metadata": {},
   "outputs": [],
   "source": [
    "list1 = [1,2,3,4]\n",
    "list2 =  [1,2,3,4]"
   ]
  },
  {
   "cell_type": "code",
   "execution_count": 19,
   "id": "51974cc1-9040-44b4-8e6e-2dc920340dbb",
   "metadata": {},
   "outputs": [
    {
     "name": "stdout",
     "output_type": "stream",
     "text": [
      "140319741495424\n",
      "140319741616768\n"
     ]
    }
   ],
   "source": [
    "print(id(list1))\n",
    "print(id(list2))"
   ]
  },
  {
   "cell_type": "code",
   "execution_count": 20,
   "id": "19095917-3f23-48db-bd26-929ffbebe3bc",
   "metadata": {},
   "outputs": [],
   "source": [
    "a = 2\n",
    "b = 2"
   ]
  },
  {
   "cell_type": "code",
   "execution_count": 21,
   "id": "e99a6ddb-cb99-4206-a599-e971cd2654f6",
   "metadata": {},
   "outputs": [
    {
     "data": {
      "text/plain": [
       "140320090194192"
      ]
     },
     "execution_count": 21,
     "metadata": {},
     "output_type": "execute_result"
    }
   ],
   "source": [
    "id(a)"
   ]
  },
  {
   "cell_type": "code",
   "execution_count": 22,
   "id": "6f9b36a8-1ccb-4aa7-9568-6ddf10c71fcb",
   "metadata": {},
   "outputs": [
    {
     "data": {
      "text/plain": [
       "140320090194192"
      ]
     },
     "execution_count": 22,
     "metadata": {},
     "output_type": "execute_result"
    }
   ],
   "source": [
    "id(b)"
   ]
  },
  {
   "cell_type": "code",
   "execution_count": 23,
   "id": "01d1baf3-22e1-45ad-9a90-a3e461217979",
   "metadata": {},
   "outputs": [
    {
     "data": {
      "text/plain": [
       "False"
      ]
     },
     "execution_count": 23,
     "metadata": {},
     "output_type": "execute_result"
    }
   ],
   "source": [
    "list1 is list2"
   ]
  },
  {
   "cell_type": "code",
   "execution_count": 24,
   "id": "7b8a0f97-34e0-4eee-9fdc-b95a1193b581",
   "metadata": {},
   "outputs": [
    {
     "data": {
      "text/plain": [
       "True"
      ]
     },
     "execution_count": 24,
     "metadata": {},
     "output_type": "execute_result"
    }
   ],
   "source": [
    "a is b "
   ]
  },
  {
   "cell_type": "code",
   "execution_count": 25,
   "id": "fb0bb355-0b0c-4647-97f9-c1ebb7114160",
   "metadata": {},
   "outputs": [
    {
     "data": {
      "text/plain": [
       "True"
      ]
     },
     "execution_count": 25,
     "metadata": {},
     "output_type": "execute_result"
    }
   ],
   "source": [
    "list1 ==list2"
   ]
  },
  {
   "cell_type": "code",
   "execution_count": 26,
   "id": "2212b88d-f465-4129-ab84-597b3b28cf16",
   "metadata": {},
   "outputs": [
    {
     "data": {
      "text/plain": [
       "True"
      ]
     },
     "execution_count": 26,
     "metadata": {},
     "output_type": "execute_result"
    }
   ],
   "source": [
    "a == b"
   ]
  },
  {
   "cell_type": "code",
   "execution_count": 27,
   "id": "d3f99c08-019b-4083-8cb4-b899e6d64035",
   "metadata": {},
   "outputs": [],
   "source": [
    "str1 = \"abc\"\n",
    "str2 = \"abc\""
   ]
  },
  {
   "cell_type": "code",
   "execution_count": 28,
   "id": "9c9516eb-5fce-4f1d-bca6-fce1ab7655d9",
   "metadata": {},
   "outputs": [
    {
     "data": {
      "text/plain": [
       "140320089387376"
      ]
     },
     "execution_count": 28,
     "metadata": {},
     "output_type": "execute_result"
    }
   ],
   "source": [
    "id(str1)"
   ]
  },
  {
   "cell_type": "code",
   "execution_count": 29,
   "id": "9bba1ad1-f09b-4ce3-8158-c126c82b7cea",
   "metadata": {},
   "outputs": [
    {
     "data": {
      "text/plain": [
       "140320089387376"
      ]
     },
     "execution_count": 29,
     "metadata": {},
     "output_type": "execute_result"
    }
   ],
   "source": [
    "id(str2)"
   ]
  },
  {
   "cell_type": "code",
   "execution_count": 31,
   "id": "d1c847ed-bfbb-419e-8b4a-bee7ecfb8c93",
   "metadata": {},
   "outputs": [
    {
     "data": {
      "text/plain": [
       "True"
      ]
     },
     "execution_count": 31,
     "metadata": {},
     "output_type": "execute_result"
    }
   ],
   "source": [
    "str1 is str2"
   ]
  },
  {
   "cell_type": "markdown",
   "id": "c4421aef-5c7f-4eb0-a166-52accedf5140",
   "metadata": {},
   "source": [
    "Arithmetic operation:-"
   ]
  },
  {
   "cell_type": "markdown",
   "id": "3dd92161-a59d-41e1-9c80-834a9ce4ec8f",
   "metadata": {},
   "source": [
    "(+ , _ , * , / , // , % )"
   ]
  },
  {
   "cell_type": "code",
   "execution_count": 32,
   "id": "755c376d-6f9a-4e7a-946b-f838adf2130a",
   "metadata": {},
   "outputs": [],
   "source": [
    "a = 10\n",
    "b = 20"
   ]
  },
  {
   "cell_type": "code",
   "execution_count": 33,
   "id": "4732ae4e-5fcc-4d92-bb3d-caaaec24ec96",
   "metadata": {},
   "outputs": [
    {
     "data": {
      "text/plain": [
       "30"
      ]
     },
     "execution_count": 33,
     "metadata": {},
     "output_type": "execute_result"
    }
   ],
   "source": [
    "a+b "
   ]
  },
  {
   "cell_type": "code",
   "execution_count": 34,
   "id": "71a5f220-1fd7-4a90-81b8-5af8547149bb",
   "metadata": {},
   "outputs": [
    {
     "data": {
      "text/plain": [
       "10"
      ]
     },
     "execution_count": 34,
     "metadata": {},
     "output_type": "execute_result"
    }
   ],
   "source": [
    "b-a\n"
   ]
  },
  {
   "cell_type": "code",
   "execution_count": 35,
   "id": "69d83230-ea9f-430c-b139-961d4658c7ae",
   "metadata": {},
   "outputs": [
    {
     "data": {
      "text/plain": [
       "200"
      ]
     },
     "execution_count": 35,
     "metadata": {},
     "output_type": "execute_result"
    }
   ],
   "source": [
    "a *b "
   ]
  },
  {
   "cell_type": "code",
   "execution_count": 36,
   "id": "70be4964-de26-4312-a9b1-7007f3be47f4",
   "metadata": {},
   "outputs": [
    {
     "data": {
      "text/plain": [
       "0.5"
      ]
     },
     "execution_count": 36,
     "metadata": {},
     "output_type": "execute_result"
    }
   ],
   "source": [
    "a/b"
   ]
  },
  {
   "cell_type": "code",
   "execution_count": 37,
   "id": "2b38d0a4-5ac7-4eb5-a93d-b63ab60dce56",
   "metadata": {},
   "outputs": [
    {
     "data": {
      "text/plain": [
       "2.0"
      ]
     },
     "execution_count": 37,
     "metadata": {},
     "output_type": "execute_result"
    }
   ],
   "source": [
    "b/a"
   ]
  },
  {
   "cell_type": "code",
   "execution_count": 38,
   "id": "2c024741-6381-4994-9c87-ac88130c5e5a",
   "metadata": {},
   "outputs": [
    {
     "data": {
      "text/plain": [
       "0"
      ]
     },
     "execution_count": 38,
     "metadata": {},
     "output_type": "execute_result"
    }
   ],
   "source": [
    "a//b"
   ]
  },
  {
   "cell_type": "code",
   "execution_count": 39,
   "id": "c4da9439-26b7-4cca-abf3-72147c417937",
   "metadata": {},
   "outputs": [
    {
     "data": {
      "text/plain": [
       "2"
      ]
     },
     "execution_count": 39,
     "metadata": {},
     "output_type": "execute_result"
    }
   ],
   "source": [
    "b//a"
   ]
  },
  {
   "cell_type": "code",
   "execution_count": 40,
   "id": "e34de0e0-ee13-499b-9ce8-3dcbaf2465b6",
   "metadata": {},
   "outputs": [
    {
     "data": {
      "text/plain": [
       "10"
      ]
     },
     "execution_count": 40,
     "metadata": {},
     "output_type": "execute_result"
    }
   ],
   "source": [
    "a%b"
   ]
  },
  {
   "cell_type": "code",
   "execution_count": 41,
   "id": "84e7d5b5-7876-4461-a0ed-cafbb8d025f1",
   "metadata": {},
   "outputs": [
    {
     "data": {
      "text/plain": [
       "0"
      ]
     },
     "execution_count": 41,
     "metadata": {},
     "output_type": "execute_result"
    }
   ],
   "source": [
    "b%a"
   ]
  },
  {
   "cell_type": "raw",
   "id": "e6c47f06-a2d3-460a-9cdc-86d404c08c23",
   "metadata": {},
   "source": [
    "Bitwise Operators\n",
    "\n",
    "                        Operation\t        Meaning\n",
    "                      -------------------------------------------------------------------\n",
    "                        ∼\t                bitwise complement (prefix unary operator)\n",
    "                        &\t                bitwise and\n",
    "                        |\t                bitwise or\n",
    "                        ^\t                bitwise exclusive-or\n",
    "                        <<\t                shift bits left, filling in with zeros\n",
    "                        >>\t                shift bits right, filling in with sign bit\n"
   ]
  },
  {
   "cell_type": "code",
   "execution_count": 42,
   "id": "057edc79-799c-443f-8c0c-e978abd1fe53",
   "metadata": {},
   "outputs": [],
   "source": [
    "var = 10 "
   ]
  },
  {
   "cell_type": "code",
   "execution_count": 43,
   "id": "00628579-6bc7-40e6-8291-1b9ebe9130ef",
   "metadata": {},
   "outputs": [
    {
     "data": {
      "text/plain": [
       "'0b1010'"
      ]
     },
     "execution_count": 43,
     "metadata": {},
     "output_type": "execute_result"
    }
   ],
   "source": [
    "bin(var)"
   ]
  },
  {
   "cell_type": "code",
   "execution_count": 44,
   "id": "20ca8c39-a9e5-46ea-802c-bbd1af0fd36f",
   "metadata": {},
   "outputs": [
    {
     "data": {
      "text/plain": [
       "-11"
      ]
     },
     "execution_count": 44,
     "metadata": {},
     "output_type": "execute_result"
    }
   ],
   "source": [
    "~var"
   ]
  },
  {
   "cell_type": "code",
   "execution_count": 45,
   "id": "a417e7dc-4761-4eeb-9a96-a96c7565621f",
   "metadata": {},
   "outputs": [
    {
     "data": {
      "text/plain": [
       "0"
      ]
     },
     "execution_count": 45,
     "metadata": {},
     "output_type": "execute_result"
    }
   ],
   "source": [
    "0 & 0"
   ]
  },
  {
   "cell_type": "code",
   "execution_count": 46,
   "id": "afcc38fa-00da-45a7-a593-e17598eee718",
   "metadata": {},
   "outputs": [
    {
     "data": {
      "text/plain": [
       "True"
      ]
     },
     "execution_count": 46,
     "metadata": {},
     "output_type": "execute_result"
    }
   ],
   "source": [
    "True & True"
   ]
  },
  {
   "cell_type": "code",
   "execution_count": 47,
   "id": "614429bb-39fa-47a2-8f38-be4fa1cd3e08",
   "metadata": {},
   "outputs": [
    {
     "data": {
      "text/plain": [
       "True"
      ]
     },
     "execution_count": 47,
     "metadata": {},
     "output_type": "execute_result"
    }
   ],
   "source": [
    "True | True"
   ]
  },
  {
   "cell_type": "code",
   "execution_count": 48,
   "id": "f2038263-e9b0-45a3-be84-8bb7bfc278b3",
   "metadata": {},
   "outputs": [
    {
     "data": {
      "text/plain": [
       "5"
      ]
     },
     "execution_count": 48,
     "metadata": {},
     "output_type": "execute_result"
    }
   ],
   "source": [
    "var >>1"
   ]
  },
  {
   "cell_type": "code",
   "execution_count": 49,
   "id": "01bb66e5-75f0-424a-8ae7-0e5ab2e4a1d6",
   "metadata": {},
   "outputs": [
    {
     "data": {
      "text/plain": [
       "2"
      ]
     },
     "execution_count": 49,
     "metadata": {},
     "output_type": "execute_result"
    }
   ],
   "source": [
    "var>>2"
   ]
  },
  {
   "cell_type": "code",
   "execution_count": 50,
   "id": "cc084e6b-ba4b-41d6-b63e-3a56fe7789ca",
   "metadata": {},
   "outputs": [
    {
     "data": {
      "text/plain": [
       "20"
      ]
     },
     "execution_count": 50,
     "metadata": {},
     "output_type": "execute_result"
    }
   ],
   "source": [
    "var <<1"
   ]
  },
  {
   "cell_type": "code",
   "execution_count": 51,
   "id": "23291866-0a95-4c1f-a35b-dfe700391efd",
   "metadata": {},
   "outputs": [
    {
     "data": {
      "text/plain": [
       "40"
      ]
     },
     "execution_count": 51,
     "metadata": {},
     "output_type": "execute_result"
    }
   ],
   "source": [
    "var<<2"
   ]
  },
  {
   "cell_type": "code",
   "execution_count": null,
   "id": "322b5bc5-b46d-46dd-8b46-2d9eed9e40ec",
   "metadata": {},
   "outputs": [],
   "source": []
  },
  {
   "cell_type": "markdown",
   "id": "6104d904-c59f-4b77-87e7-d10d06dd2ad4",
   "metadata": {},
   "source": [
    "STRING:-"
   ]
  },
  {
   "cell_type": "code",
   "execution_count": 52,
   "id": "cc7e8ae7-b246-4d57-a62a-a83c6ab32a36",
   "metadata": {},
   "outputs": [],
   "source": [
    "str1 = \"Hello Sangram \""
   ]
  },
  {
   "cell_type": "code",
   "execution_count": 55,
   "id": "3c88464d-3a48-4484-b9b5-be7bdf19ef81",
   "metadata": {},
   "outputs": [
    {
     "data": {
      "text/plain": [
       "['Hello', 'Sangram']"
      ]
     },
     "execution_count": 55,
     "metadata": {},
     "output_type": "execute_result"
    }
   ],
   "source": [
    "str1.split()"
   ]
  },
  {
   "cell_type": "code",
   "execution_count": 57,
   "id": "3b08e4d3-ec8f-454b-bd43-d150b98b576b",
   "metadata": {},
   "outputs": [
    {
     "data": {
      "text/plain": [
       "'Hello'"
      ]
     },
     "execution_count": 57,
     "metadata": {},
     "output_type": "execute_result"
    }
   ],
   "source": [
    "str1[0:5]"
   ]
  },
  {
   "cell_type": "code",
   "execution_count": 58,
   "id": "56a5ee90-56aa-4512-815d-f949dd9deaa3",
   "metadata": {},
   "outputs": [
    {
     "data": {
      "text/plain": [
       "'Hello Sang'"
      ]
     },
     "execution_count": 58,
     "metadata": {},
     "output_type": "execute_result"
    }
   ],
   "source": [
    "str1[0:10]"
   ]
  },
  {
   "cell_type": "code",
   "execution_count": 60,
   "id": "376ee1b7-215f-40b3-8ac8-55a475a47901",
   "metadata": {},
   "outputs": [
    {
     "data": {
      "text/plain": [
       "' Sangram '"
      ]
     },
     "execution_count": 60,
     "metadata": {},
     "output_type": "execute_result"
    }
   ],
   "source": [
    "str1[5:]"
   ]
  },
  {
   "cell_type": "code",
   "execution_count": 61,
   "id": "b8822793-2083-49cb-aba9-6090b01dabd7",
   "metadata": {},
   "outputs": [
    {
     "data": {
      "text/plain": [
       "' '"
      ]
     },
     "execution_count": 61,
     "metadata": {},
     "output_type": "execute_result"
    }
   ],
   "source": [
    "str1[-1]"
   ]
  },
  {
   "cell_type": "code",
   "execution_count": 63,
   "id": "38d5abd0-ca8b-494e-a552-ef29661f8d4f",
   "metadata": {},
   "outputs": [
    {
     "data": {
      "text/plain": [
       "'Sangram'"
      ]
     },
     "execution_count": 63,
     "metadata": {},
     "output_type": "execute_result"
    }
   ],
   "source": [
    "str1[-8:-1]"
   ]
  },
  {
   "cell_type": "code",
   "execution_count": 65,
   "id": "30220a4a-a054-44db-8b26-eadee9eb4fec",
   "metadata": {},
   "outputs": [
    {
     "data": {
      "text/plain": [
       "'Hello Sangr'"
      ]
     },
     "execution_count": 65,
     "metadata": {},
     "output_type": "execute_result"
    }
   ],
   "source": [
    "str1[:-3]"
   ]
  },
  {
   "cell_type": "code",
   "execution_count": 66,
   "id": "ed6a8e49-abfe-4045-975a-d448ffe69b96",
   "metadata": {},
   "outputs": [
    {
     "data": {
      "text/plain": [
       "'llo Sangram '"
      ]
     },
     "execution_count": 66,
     "metadata": {},
     "output_type": "execute_result"
    }
   ],
   "source": [
    "str1[2:]"
   ]
  },
  {
   "cell_type": "code",
   "execution_count": 67,
   "id": "ec9a4594-355f-4ac0-a800-0f33c4373c81",
   "metadata": {},
   "outputs": [
    {
     "data": {
      "text/plain": [
       "'Hello Sangram '"
      ]
     },
     "execution_count": 67,
     "metadata": {},
     "output_type": "execute_result"
    }
   ],
   "source": [
    "str1[:]"
   ]
  },
  {
   "cell_type": "code",
   "execution_count": 68,
   "id": "158dac82-c3d4-4201-b972-2ffc881acc6e",
   "metadata": {},
   "outputs": [
    {
     "data": {
      "text/plain": [
       "'Hello Sangram '"
      ]
     },
     "execution_count": 68,
     "metadata": {},
     "output_type": "execute_result"
    }
   ],
   "source": [
    "str1[::]"
   ]
  },
  {
   "cell_type": "code",
   "execution_count": 69,
   "id": "4afd2a81-44d0-4d40-a58a-ce49473dd1ee",
   "metadata": {},
   "outputs": [
    {
     "data": {
      "text/plain": [
       "' margnaS olleH'"
      ]
     },
     "execution_count": 69,
     "metadata": {},
     "output_type": "execute_result"
    }
   ],
   "source": [
    "str1[::-1]"
   ]
  },
  {
   "cell_type": "code",
   "execution_count": 70,
   "id": "a4e40197-d489-47bd-b58c-8de864a23310",
   "metadata": {},
   "outputs": [
    {
     "data": {
      "text/plain": [
       "' aga le'"
      ]
     },
     "execution_count": 70,
     "metadata": {},
     "output_type": "execute_result"
    }
   ],
   "source": [
    "str1[::-2]"
   ]
  },
  {
   "cell_type": "code",
   "execution_count": 74,
   "id": "e9ba870b-292f-46e2-8cda-2272d687d9d9",
   "metadata": {},
   "outputs": [
    {
     "data": {
      "text/plain": [
       "'HloSnrm'"
      ]
     },
     "execution_count": 74,
     "metadata": {},
     "output_type": "execute_result"
    }
   ],
   "source": [
    "str1[::2]"
   ]
  },
  {
   "cell_type": "code",
   "execution_count": 75,
   "id": "8fd5159a-ed32-4bb7-baa5-18b86ebe0310",
   "metadata": {},
   "outputs": [
    {
     "data": {
      "text/plain": [
       "' margnaS olleH'"
      ]
     },
     "execution_count": 75,
     "metadata": {},
     "output_type": "execute_result"
    }
   ],
   "source": [
    "str1[::-1]"
   ]
  },
  {
   "cell_type": "code",
   "execution_count": 76,
   "id": "883eafcd-082c-4972-abf5-4905a7b1f66f",
   "metadata": {},
   "outputs": [
    {
     "data": {
      "text/plain": [
       "' margnaS'"
      ]
     },
     "execution_count": 76,
     "metadata": {},
     "output_type": "execute_result"
    }
   ],
   "source": [
    "str1[13:5:-1]"
   ]
  },
  {
   "cell_type": "code",
   "execution_count": 78,
   "id": "9ad2e922-85bf-45df-88dc-a6a033da9d71",
   "metadata": {},
   "outputs": [
    {
     "data": {
      "text/plain": [
       "' margnaS'"
      ]
     },
     "execution_count": 78,
     "metadata": {},
     "output_type": "execute_result"
    }
   ],
   "source": [
    "str1[13:5:-1]"
   ]
  },
  {
   "cell_type": "code",
   "execution_count": 79,
   "id": "097834d6-0019-48f8-942f-125215ba962c",
   "metadata": {},
   "outputs": [
    {
     "data": {
      "text/plain": [
       "' aga'"
      ]
     },
     "execution_count": 79,
     "metadata": {},
     "output_type": "execute_result"
    }
   ],
   "source": [
    "str1[13:5:-2]"
   ]
  },
  {
   "cell_type": "code",
   "execution_count": 80,
   "id": "f4010093-d632-4195-a598-8d8b9fca6923",
   "metadata": {},
   "outputs": [
    {
     "name": "stdout",
     "output_type": "stream",
     "text": [
      "Hello World\n"
     ]
    }
   ],
   "source": [
    "print(\"Hello \" + \"World\")"
   ]
  },
  {
   "cell_type": "code",
   "execution_count": 81,
   "id": "9ce90a2f-9697-4125-b1a5-41211173b908",
   "metadata": {},
   "outputs": [
    {
     "data": {
      "text/plain": [
       "14"
      ]
     },
     "execution_count": 81,
     "metadata": {},
     "output_type": "execute_result"
    }
   ],
   "source": [
    "len(str1)"
   ]
  },
  {
   "cell_type": "code",
   "execution_count": 82,
   "id": "5902c361-b8b1-47e6-8161-1ee8619c8916",
   "metadata": {},
   "outputs": [
    {
     "data": {
      "text/plain": [
       "'Hello Sangram Hello Sangram Hello Sangram '"
      ]
     },
     "execution_count": 82,
     "metadata": {},
     "output_type": "execute_result"
    }
   ],
   "source": [
    "str1*3"
   ]
  },
  {
   "cell_type": "code",
   "execution_count": 83,
   "id": "925c77a0-17da-4e02-b438-897fe4e6f0db",
   "metadata": {},
   "outputs": [
    {
     "data": {
      "text/plain": [
       "7"
      ]
     },
     "execution_count": 83,
     "metadata": {},
     "output_type": "execute_result"
    }
   ],
   "source": [
    "str1.find(\"a\")"
   ]
  },
  {
   "cell_type": "code",
   "execution_count": 84,
   "id": "9f76c61b-02c0-4592-86c2-0405df1b6e21",
   "metadata": {},
   "outputs": [
    {
     "data": {
      "text/plain": [
       "2"
      ]
     },
     "execution_count": 84,
     "metadata": {},
     "output_type": "execute_result"
    }
   ],
   "source": [
    "str1.count(\"a\")"
   ]
  },
  {
   "cell_type": "code",
   "execution_count": 85,
   "id": "079e3d63-4b6f-4b27-8d12-86511b748883",
   "metadata": {},
   "outputs": [
    {
     "data": {
      "text/plain": [
       "'Hello Sangram gd evening'"
      ]
     },
     "execution_count": 85,
     "metadata": {},
     "output_type": "execute_result"
    }
   ],
   "source": [
    "str1 + \"gd evening\""
   ]
  },
  {
   "cell_type": "code",
   "execution_count": 86,
   "id": "230a25d2-23b9-49f4-b705-da231d7bc809",
   "metadata": {},
   "outputs": [
    {
     "data": {
      "text/plain": [
       "1"
      ]
     },
     "execution_count": 86,
     "metadata": {},
     "output_type": "execute_result"
    }
   ],
   "source": [
    "str1.count(\"a\",2,10)"
   ]
  },
  {
   "cell_type": "code",
   "execution_count": 88,
   "id": "c50dbfc3-8b19-43b3-b150-ef8046c6de81",
   "metadata": {},
   "outputs": [
    {
     "data": {
      "text/plain": [
       "7"
      ]
     },
     "execution_count": 88,
     "metadata": {},
     "output_type": "execute_result"
    }
   ],
   "source": [
    "str1.find(\"a\",2,10)"
   ]
  },
  {
   "cell_type": "code",
   "execution_count": 89,
   "id": "5678bc4b-d140-43ed-a0c7-7ef6cdb17b28",
   "metadata": {},
   "outputs": [
    {
     "data": {
      "text/plain": [
       "['Hello', 'Sangram', '']"
      ]
     },
     "execution_count": 89,
     "metadata": {},
     "output_type": "execute_result"
    }
   ],
   "source": [
    "str1.split(\" \")"
   ]
  },
  {
   "cell_type": "code",
   "execution_count": 90,
   "id": "bc7d40dd-065d-41a0-b27e-e09e1933ffa7",
   "metadata": {},
   "outputs": [
    {
     "data": {
      "text/plain": [
       "['Hello ', 'angram ']"
      ]
     },
     "execution_count": 90,
     "metadata": {},
     "output_type": "execute_result"
    }
   ],
   "source": [
    "str1.split(\"S\")"
   ]
  },
  {
   "cell_type": "code",
   "execution_count": 91,
   "id": "58224e22-89af-4b8b-a2cc-8ae8136d0eee",
   "metadata": {},
   "outputs": [
    {
     "data": {
      "text/plain": [
       "['Hello ', 'ram ']"
      ]
     },
     "execution_count": 91,
     "metadata": {},
     "output_type": "execute_result"
    }
   ],
   "source": [
    "str1.split(\"Sang\")"
   ]
  },
  {
   "cell_type": "code",
   "execution_count": 94,
   "id": "6f970cc5-eb22-448f-a9f7-83b6818e0863",
   "metadata": {},
   "outputs": [
    {
     "data": {
      "text/plain": [
       "('Hello ', 'S', 'angram ')"
      ]
     },
     "execution_count": 94,
     "metadata": {},
     "output_type": "execute_result"
    }
   ],
   "source": [
    "str1.partition(\"S\")"
   ]
  },
  {
   "cell_type": "markdown",
   "id": "17d58314-ed76-455f-be06-c5b70716a648",
   "metadata": {},
   "source": [
    "Upper and Lowe Case in String:-"
   ]
  },
  {
   "cell_type": "code",
   "execution_count": 96,
   "id": "2f9a57cd-8eca-4444-a8f2-6b731407a56a",
   "metadata": {},
   "outputs": [
    {
     "data": {
      "text/plain": [
       "'HELLO SANGRAM '"
      ]
     },
     "execution_count": 96,
     "metadata": {},
     "output_type": "execute_result"
    }
   ],
   "source": [
    "str1.upper()"
   ]
  },
  {
   "cell_type": "code",
   "execution_count": 97,
   "id": "90f70513-9f4a-481d-8a5d-a9a6e30e76da",
   "metadata": {},
   "outputs": [
    {
     "data": {
      "text/plain": [
       "'hello sangram '"
      ]
     },
     "execution_count": 97,
     "metadata": {},
     "output_type": "execute_result"
    }
   ],
   "source": [
    "str1.lower()"
   ]
  },
  {
   "cell_type": "code",
   "execution_count": 1,
   "id": "89689ae3-44da-414a-acd1-a9198551ede1",
   "metadata": {},
   "outputs": [
    {
     "name": "stdin",
     "output_type": "stream",
     "text": [
      "Enter the triangle Len 5\n"
     ]
    }
   ],
   "source": [
    "size = int(input(\"Enter the triangle Len\"))"
   ]
  },
  {
   "cell_type": "code",
   "execution_count": 8,
   "id": "80b58637-656d-4dab-b499-f3ea2779df6f",
   "metadata": {},
   "outputs": [
    {
     "name": "stdin",
     "output_type": "stream",
     "text": [
      "Enter the triangle Len 5\n"
     ]
    },
    {
     "name": "stdout",
     "output_type": "stream",
     "text": [
      "    \n",
      "    ****\n",
      "    ********\n",
      "    ************\n",
      "    ****************\n"
     ]
    }
   ],
   "source": [
    "n = int(input(\"Enter the triangle Len\"))\n",
    "\n",
    "for i in range(n):\n",
    "    print(\" \"*(n-1),end ='')\n",
    "    for j in range(i*(n-1)):\n",
    "        print(\"*\", end='')\n",
    "    print()"
   ]
  },
  {
   "cell_type": "code",
   "execution_count": 10,
   "id": "a2a9e1bd-66cf-4bfb-9852-5cbb5e4c4384",
   "metadata": {},
   "outputs": [
    {
     "name": "stdout",
     "output_type": "stream",
     "text": [
      "                                                       "
     ]
    }
   ],
   "source": [
    "n = 10\n",
    "for i in range(n):\n",
    "    print(\" \"*(n-i),end='')\n",
    "    "
   ]
  },
  {
   "cell_type": "code",
   "execution_count": 11,
   "id": "d19cac18-07c6-4fee-ac02-42b676a797df",
   "metadata": {},
   "outputs": [
    {
     "name": "stdin",
     "output_type": "stream",
     "text": [
      "Enter no of rows  8\n"
     ]
    },
    {
     "name": "stdout",
     "output_type": "stream",
     "text": [
      "\n",
      "* \n",
      "* * \n",
      "* * * \n",
      "* * * * \n",
      "* * * * * \n",
      "* * * * * * \n",
      "* * * * * * * \n"
     ]
    }
   ],
   "source": [
    "n = int(input(\"Enter no of rows \"))\n",
    "\n",
    "for i in range(n) :\n",
    "    print(\"* \" * i)"
   ]
  },
  {
   "cell_type": "code",
   "execution_count": 7,
   "id": "d7a7c8c9-3245-4ee0-80ce-efed6b3db67c",
   "metadata": {},
   "outputs": [
    {
     "name": "stdin",
     "output_type": "stream",
     "text": [
      "Enter no of rows  5\n"
     ]
    },
    {
     "name": "stdout",
     "output_type": "stream",
     "text": [
      "* * * * * "
     ]
    }
   ],
   "source": [
    "n = int(input(\"Enter no of rows \"))\n",
    "\n",
    "for i in range(n) :\n",
    "    print(\"* \",end='')"
   ]
  },
  {
   "cell_type": "code",
   "execution_count": 5,
   "id": "e166c804-4337-48d9-826c-c058c2b12d7b",
   "metadata": {},
   "outputs": [
    {
     "name": "stdin",
     "output_type": "stream",
     "text": [
      "Enter no of rows  5\n"
     ]
    },
    {
     "name": "stdout",
     "output_type": "stream",
     "text": [
      "* * * * * * * * * * * * * * * * * * * * * * * * * "
     ]
    }
   ],
   "source": [
    "n = int(input(\"Enter no of rows \"))\n",
    "\n",
    "for i in range(n) :\n",
    "    for j in range(n):\n",
    "        print(\"* \",end='')"
   ]
  },
  {
   "cell_type": "code",
   "execution_count": 14,
   "id": "f578259b-327e-4608-bb07-a9863ef5238d",
   "metadata": {},
   "outputs": [
    {
     "name": "stdin",
     "output_type": "stream",
     "text": [
      "Enter no of rows  5\n"
     ]
    },
    {
     "name": "stdout",
     "output_type": "stream",
     "text": [
      "* * * * * \n",
      "* * * * \n",
      "* * * \n",
      "* * \n",
      "* \n"
     ]
    }
   ],
   "source": [
    "n = int(input(\"Enter no of rows \"))\n",
    "\n",
    "for i in range(n) :\n",
    "    print(\"* \" * (n-i))\n",
    "    "
   ]
  },
  {
   "cell_type": "code",
   "execution_count": 23,
   "id": "1aaee8bc-0430-43ff-ba56-cd7bdc980415",
   "metadata": {},
   "outputs": [
    {
     "name": "stdin",
     "output_type": "stream",
     "text": [
      "Enter no of rows  5\n"
     ]
    },
    {
     "name": "stdout",
     "output_type": "stream",
     "text": [
      "* * * * * \n",
      "* * * * \n",
      "* * * \n",
      "* * \n",
      "* \n"
     ]
    }
   ],
   "source": [
    "n = int(input(\"Enter no of rows \"))\n",
    "\n",
    "for i in range(n) :\n",
    "    for j in range(n-i):\n",
    "        print(\"* \" , end='' )    \n",
    "    \n",
    "    \n",
    "    print()\n",
    "    "
   ]
  },
  {
   "cell_type": "code",
   "execution_count": 29,
   "id": "1e4ef5f3-aa6c-4867-b796-dc681d22543c",
   "metadata": {},
   "outputs": [
    {
     "name": "stdin",
     "output_type": "stream",
     "text": [
      "Enter no of rows  5\n"
     ]
    },
    {
     "name": "stdout",
     "output_type": "stream",
     "text": [
      "     *\n",
      "    **\n",
      "   ***\n",
      "  ****\n",
      " *****\n"
     ]
    }
   ],
   "source": [
    "n = int(input(\"Enter no of rows \"))\n",
    "\n",
    "for i in range(n) :\n",
    "    for j in range(i,n):\n",
    "        print(\" \" , end='' )    \n",
    "    for j in range(i+1):\n",
    "        print(\"*\",end='')\n",
    "    \n",
    "    print()\n",
    "    "
   ]
  },
  {
   "cell_type": "code",
   "execution_count": 43,
   "id": "1954a46a-acf3-4788-ae02-df00ea072f1d",
   "metadata": {},
   "outputs": [
    {
     "name": "stdin",
     "output_type": "stream",
     "text": [
      "Enter no of rows  6\n"
     ]
    },
    {
     "name": "stdout",
     "output_type": "stream",
     "text": [
      "      * \n",
      "     * * \n",
      "    * * * \n",
      "   * * * * \n",
      "  * * * * * \n",
      " * * * * * * \n"
     ]
    }
   ],
   "source": [
    "n = int(input(\"Enter no of rows \"))\n",
    "\n",
    "for i in range(n) :\n",
    "    for j in range(i,n):\n",
    "        print(\" \" , end='' )    \n",
    "    for j in range(i+1):\n",
    "        print(\"* \",end='')\n",
    "    \n",
    "    print()\n",
    "    "
   ]
  },
  {
   "cell_type": "code",
   "execution_count": 41,
   "id": "981d482b-1237-4561-8ed1-0610cf22af33",
   "metadata": {},
   "outputs": [
    {
     "name": "stdin",
     "output_type": "stream",
     "text": [
      "Enter no of rows  6\n"
     ]
    },
    {
     "name": "stdout",
     "output_type": "stream",
     "text": [
      " ******\n",
      "  *****\n",
      "   ****\n",
      "    ***\n",
      "     **\n",
      "      *\n"
     ]
    }
   ],
   "source": [
    "n = int(input(\"Enter no of rows \"))\n",
    "\n",
    "for i in range(n) :\n",
    "    for j in range(i+1):\n",
    "        print(\" \" , end='' )    \n",
    "    for j in range(i,n):\n",
    "        print(\"*\",end='')\n",
    "    \n",
    "    print()\n",
    "    "
   ]
  },
  {
   "cell_type": "code",
   "execution_count": 47,
   "id": "a7079b9b-8275-490f-8af2-a6f223aef6cc",
   "metadata": {},
   "outputs": [
    {
     "name": "stdin",
     "output_type": "stream",
     "text": [
      "Enter no of rows  6\n"
     ]
    },
    {
     "name": "stdout",
     "output_type": "stream",
     "text": [
      "      *\n",
      "     ***\n",
      "    *****\n",
      "   *******\n",
      "  *********\n",
      " ***********\n"
     ]
    }
   ],
   "source": [
    "n = int(input(\"Enter no of rows \"))\n",
    "\n",
    "for i in range(n) :\n",
    "    for j in range(i,n):\n",
    "        print(\" \" , end='' )    \n",
    "    for j in range(i):\n",
    "        print(\"*\",end='')\n",
    "    for j in range(i+1):\n",
    "        print(\"*\",end='')\n",
    "    \n",
    "    print()\n",
    "    "
   ]
  },
  {
   "cell_type": "code",
   "execution_count": 48,
   "id": "cb1c6c71-898c-478a-87ec-75da6e1642d7",
   "metadata": {},
   "outputs": [
    {
     "name": "stdin",
     "output_type": "stream",
     "text": [
      "Enter no of rows  6\n"
     ]
    },
    {
     "name": "stdout",
     "output_type": "stream",
     "text": [
      "      *\n",
      "     **\n",
      "    ***\n",
      "   ****\n",
      "  *****\n",
      " ******\n"
     ]
    }
   ],
   "source": [
    "n = int(input(\"Enter no of rows \"))\n",
    "\n",
    "for i in range(n) :\n",
    "    for j in range(i,n):\n",
    "        print(\" \" , end='' )    \n",
    "    for j in range(i+1):\n",
    "        print(\"*\",end='')\n",
    "    \n",
    "    print()\n",
    "    "
   ]
  },
  {
   "cell_type": "code",
   "execution_count": 61,
   "id": "dbe93576-b769-4ce3-b16d-877420c456e8",
   "metadata": {},
   "outputs": [
    {
     "name": "stdin",
     "output_type": "stream",
     "text": [
      "Enter no of rows  6\n"
     ]
    },
    {
     "name": "stdout",
     "output_type": "stream",
     "text": [
      " ***********\n",
      "  *********\n",
      "   *******\n",
      "    *****\n",
      "     ***\n",
      "      *\n"
     ]
    }
   ],
   "source": [
    "n = int(input(\"Enter no of rows \"))\n",
    "\n",
    "for i in range(n) :\n",
    "    for j in range(i+1):\n",
    "        print(\" \" , end='' )    \n",
    "    for j in range(i,n-1):\n",
    "        print(\"*\",end='')\n",
    "    for j in range(i,n):\n",
    "        print(\"*\",end='')\n",
    "    \n",
    "    print()\n",
    "    "
   ]
  },
  {
   "cell_type": "code",
   "execution_count": 62,
   "id": "e15c5dbb-a7c0-412a-9506-6e1b40fb571b",
   "metadata": {},
   "outputs": [
    {
     "name": "stdin",
     "output_type": "stream",
     "text": [
      "Enter no of rows  6\n"
     ]
    },
    {
     "name": "stdout",
     "output_type": "stream",
     "text": [
      "      *\n",
      "     ***\n",
      "    *****\n",
      "   *******\n",
      "  *********\n",
      " ***********\n",
      " ***********\n",
      "  *********\n",
      "   *******\n",
      "    *****\n",
      "     ***\n",
      "      *\n"
     ]
    }
   ],
   "source": [
    "n = int(input(\"Enter no of rows \"))\n",
    "\n",
    "for i in range(n) :\n",
    "    for j in range(i,n):\n",
    "        print(\" \" , end='' )    \n",
    "    for j in range(i):\n",
    "        print(\"*\",end='')\n",
    "    for j in range(i+1):\n",
    "        print(\"*\",end='')\n",
    "    \n",
    "    print()\n",
    "\n",
    "for i in range(n) :\n",
    "    for j in range(i+1):\n",
    "        print(\" \" , end='' )    \n",
    "    for j in range(i,n-1):\n",
    "        print(\"*\",end='')\n",
    "    for j in range(i,n):\n",
    "        print(\"*\",end='')\n",
    "    \n",
    "    print()\n",
    "     "
   ]
  },
  {
   "cell_type": "code",
   "execution_count": 63,
   "id": "5cecc204-c0ef-4045-b512-9363ec062597",
   "metadata": {},
   "outputs": [
    {
     "name": "stdin",
     "output_type": "stream",
     "text": [
      "Enter no of rows  6\n"
     ]
    },
    {
     "name": "stdout",
     "output_type": "stream",
     "text": [
      "      *\n",
      "     ***\n",
      "    *****\n",
      "   *******\n",
      "  *********\n",
      " ***********\n",
      "  *********\n",
      "   *******\n",
      "    *****\n",
      "     ***\n",
      "      *\n"
     ]
    }
   ],
   "source": [
    "n = int(input(\"Enter no of rows \"))\n",
    "\n",
    "for i in range(n-1) :\n",
    "    for j in range(i,n):\n",
    "        print(\" \" , end='' )    \n",
    "    for j in range(i):\n",
    "        print(\"*\",end='')\n",
    "    for j in range(i+1):\n",
    "        print(\"*\",end='')\n",
    "    \n",
    "    print()\n",
    "\n",
    "for i in range(n) :\n",
    "    for j in range(i+1):\n",
    "        print(\" \" , end='' )    \n",
    "    for j in range(i,n-1):\n",
    "        print(\"*\",end='')\n",
    "    for j in range(i,n):\n",
    "        print(\"*\",end='')\n",
    "    \n",
    "    print()\n",
    "     "
   ]
  },
  {
   "cell_type": "code",
   "execution_count": 70,
   "id": "4f3adf4c-1903-4b1a-841c-9694bcc92246",
   "metadata": {},
   "outputs": [
    {
     "name": "stdin",
     "output_type": "stream",
     "text": [
      "Enter no of rows  6\n"
     ]
    },
    {
     "name": "stdout",
     "output_type": "stream",
     "text": [
      " ***********\n",
      "  *********\n",
      "   *******\n",
      "    *****\n",
      "     ***\n",
      "      *\n",
      "     ***\n",
      "    *****\n",
      "   *******\n",
      "  *********\n",
      " ***********\n"
     ]
    }
   ],
   "source": [
    "n = int(input(\"Enter no of rows \"))\n",
    "\n",
    "for i in range(n-1) :\n",
    "    for j in range(i+1):\n",
    "        print(\" \" , end='' )    \n",
    "    for j in range(i,n-1):\n",
    "        print(\"*\",end='')\n",
    "    for j in range(i,n):\n",
    "        print(\"*\",end='')\n",
    "    \n",
    "    print()\n",
    "\n",
    "\n",
    "for i in range(n) :\n",
    "    for j in range(i,n):\n",
    "        print(\" \" , end='' )    \n",
    "    for j in range(i):\n",
    "        print(\"*\",end='')\n",
    "    for j in range(i+1):\n",
    "        print(\"*\",end='')\n",
    "    \n",
    "    print()\n",
    "      "
   ]
  },
  {
   "cell_type": "code",
   "execution_count": null,
   "id": "6b3b7a5d-7375-4dbe-817b-9c0a9b57109a",
   "metadata": {},
   "outputs": [],
   "source": []
  }
 ],
 "metadata": {
  "kernelspec": {
   "display_name": "Python 3 (ipykernel)",
   "language": "python",
   "name": "python3"
  },
  "language_info": {
   "codemirror_mode": {
    "name": "ipython",
    "version": 3
   },
   "file_extension": ".py",
   "mimetype": "text/x-python",
   "name": "python",
   "nbconvert_exporter": "python",
   "pygments_lexer": "ipython3",
   "version": "3.10.8"
  }
 },
 "nbformat": 4,
 "nbformat_minor": 5
}
