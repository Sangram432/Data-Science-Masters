{
 "cells": [
  {
   "cell_type": "markdown",
   "id": "7a08795f-9a14-4807-976d-033e97c7ef82",
   "metadata": {},
   "source": [
    "# Function and how to create and execute a func ."
   ]
  },
  {
   "cell_type": "markdown",
   "id": "5f2b43c8-c432-478c-9de4-2b20104f92cf",
   "metadata": {},
   "source": [
    "print(\"this is my programme\")"
   ]
  },
  {
   "cell_type": "code",
   "execution_count": null,
   "id": "5a3c9b59-d4e8-47bb-aba8-dc9aac0db41f",
   "metadata": {},
   "outputs": [],
   "source": [
    "l = [1,2,3,4,5,6]"
   ]
  },
  {
   "cell_type": "code",
   "execution_count": 2,
   "id": "2f21cdbe-1609-49d9-bbd0-ef373708d66f",
   "metadata": {},
   "outputs": [],
   "source": [
    "#len(l)---------> is called an inbuild function."
   ]
  },
  {
   "cell_type": "code",
   "execution_count": 3,
   "id": "359d772b-f683-4e39-bb62-3d471ec45fed",
   "metadata": {},
   "outputs": [],
   "source": [
    "def test():\n",
    "    pass"
   ]
  },
  {
   "cell_type": "code",
   "execution_count": 4,
   "id": "00506cbc-cac3-4d66-9076-b285fcafb4fd",
   "metadata": {},
   "outputs": [],
   "source": [
    "test()"
   ]
  },
  {
   "cell_type": "code",
   "execution_count": 5,
   "id": "ed74dc7f-905a-458c-916f-c5ab2b383eab",
   "metadata": {},
   "outputs": [],
   "source": [
    "def test1():\n",
    "    print(\"This is my first function\")"
   ]
  },
  {
   "cell_type": "code",
   "execution_count": 6,
   "id": "e9740690-762a-4f71-b683-38db4f872e41",
   "metadata": {},
   "outputs": [
    {
     "name": "stdout",
     "output_type": "stream",
     "text": [
      "This is my first function\n"
     ]
    }
   ],
   "source": [
    "test1()"
   ]
  },
  {
   "cell_type": "code",
   "execution_count": 8,
   "id": "b82f0ffd-f48a-4b81-9e78-a603cb0ed9ef",
   "metadata": {},
   "outputs": [],
   "source": [
    "def test2():\n",
    "    return(\"This is my first func\")"
   ]
  },
  {
   "cell_type": "code",
   "execution_count": 9,
   "id": "1d5395af-4ef0-4c3b-b69b-7f9ab33af712",
   "metadata": {},
   "outputs": [
    {
     "data": {
      "text/plain": [
       "'This is my first func'"
      ]
     },
     "execution_count": 9,
     "metadata": {},
     "output_type": "execute_result"
    }
   ],
   "source": [
    "test2()"
   ]
  },
  {
   "cell_type": "code",
   "execution_count": 13,
   "id": "e6d5a6ec-8707-4ce8-9488-5307c7d91701",
   "metadata": {},
   "outputs": [
    {
     "name": "stdout",
     "output_type": "stream",
     "text": [
      "This is my first function\n"
     ]
    },
    {
     "data": {
      "text/plain": [
       "NoneType"
      ]
     },
     "execution_count": 13,
     "metadata": {},
     "output_type": "execute_result"
    }
   ],
   "source": [
    "type(test1())"
   ]
  },
  {
   "cell_type": "code",
   "execution_count": 12,
   "id": "c46c8ac4-993c-4d90-bb13-760082f3dfb0",
   "metadata": {},
   "outputs": [
    {
     "data": {
      "text/plain": [
       "str"
      ]
     },
     "execution_count": 12,
     "metadata": {},
     "output_type": "execute_result"
    }
   ],
   "source": [
    "type(test2())"
   ]
  },
  {
   "cell_type": "code",
   "execution_count": 15,
   "id": "b97d395d-c8cf-4d58-ba08-91d37634f940",
   "metadata": {},
   "outputs": [
    {
     "name": "stdout",
     "output_type": "stream",
     "text": [
      "This is my first function\n"
     ]
    },
    {
     "ename": "TypeError",
     "evalue": "unsupported operand type(s) for +: 'NoneType' and 'str'",
     "output_type": "error",
     "traceback": [
      "\u001b[0;31m---------------------------------------------------------------------------\u001b[0m",
      "\u001b[0;31mTypeError\u001b[0m                                 Traceback (most recent call last)",
      "Cell \u001b[0;32mIn[15], line 1\u001b[0m\n\u001b[0;32m----> 1\u001b[0m \u001b[43mtest1\u001b[49m\u001b[43m(\u001b[49m\u001b[43m)\u001b[49m\u001b[43m \u001b[49m\u001b[38;5;241;43m+\u001b[39;49m\u001b[43m \u001b[49m\u001b[38;5;124;43m\"\u001b[39;49m\u001b[38;5;124;43msangram\u001b[39;49m\u001b[38;5;124;43m\"\u001b[39;49m\n",
      "\u001b[0;31mTypeError\u001b[0m: unsupported operand type(s) for +: 'NoneType' and 'str'"
     ]
    }
   ],
   "source": [
    "test1() + \"sangram\""
   ]
  },
  {
   "cell_type": "code",
   "execution_count": 17,
   "id": "e81f3051-c9b6-41b9-9fe0-5681ec74ce7c",
   "metadata": {},
   "outputs": [
    {
     "data": {
      "text/plain": [
       "'This is my first func sangram'"
      ]
     },
     "execution_count": 17,
     "metadata": {},
     "output_type": "execute_result"
    }
   ],
   "source": [
    "test2()+\" sangram\""
   ]
  },
  {
   "cell_type": "code",
   "execution_count": 18,
   "id": "c86a464a-47e6-4eef-a75f-ac6dfdcda58f",
   "metadata": {},
   "outputs": [
    {
     "data": {
      "text/plain": [
       "'T'"
      ]
     },
     "execution_count": 18,
     "metadata": {},
     "output_type": "execute_result"
    }
   ],
   "source": [
    "test2()[0]"
   ]
  },
  {
   "cell_type": "code",
   "execution_count": 19,
   "id": "7c43d956-1d12-41ac-a7f0-84d0f5f5cb61",
   "metadata": {},
   "outputs": [
    {
     "data": {
      "text/plain": [
       "'cnuf tsrif ym si sihT'"
      ]
     },
     "execution_count": 19,
     "metadata": {},
     "output_type": "execute_result"
    }
   ],
   "source": [
    "test2()[::-1]"
   ]
  },
  {
   "cell_type": "code",
   "execution_count": 20,
   "id": "abc0760d-f35d-4284-958d-6036077df991",
   "metadata": {},
   "outputs": [],
   "source": [
    "def test3():\n",
    "    return 1,28,\"pwskill\",92.87"
   ]
  },
  {
   "cell_type": "code",
   "execution_count": 21,
   "id": "a54c4f73-8991-4e59-8881-d4c5a458254b",
   "metadata": {},
   "outputs": [
    {
     "data": {
      "text/plain": [
       "(1, 28, 'pwskill', 92.87)"
      ]
     },
     "execution_count": 21,
     "metadata": {},
     "output_type": "execute_result"
    }
   ],
   "source": [
    "test3()"
   ]
  },
  {
   "cell_type": "code",
   "execution_count": 28,
   "id": "d28531cd-39d2-462a-b5b6-10e4aaf0a8f9",
   "metadata": {},
   "outputs": [],
   "source": [
    "a = 1,2,3,4"
   ]
  },
  {
   "cell_type": "code",
   "execution_count": 29,
   "id": "f22da5eb-f48c-45fc-8cd4-96665b218ab4",
   "metadata": {},
   "outputs": [
    {
     "data": {
      "text/plain": [
       "(1, 2, 3, 4)"
      ]
     },
     "execution_count": 29,
     "metadata": {},
     "output_type": "execute_result"
    }
   ],
   "source": [
    "a"
   ]
  },
  {
   "cell_type": "code",
   "execution_count": 30,
   "id": "a338bf2f-94bc-4937-ad09-b91d1e44031f",
   "metadata": {},
   "outputs": [],
   "source": [
    "a,b,c,d = 1,2,3,4"
   ]
  },
  {
   "cell_type": "code",
   "execution_count": 25,
   "id": "87982fa4-be8c-435c-b81c-66281eea5c9b",
   "metadata": {},
   "outputs": [
    {
     "data": {
      "text/plain": [
       "1"
      ]
     },
     "execution_count": 25,
     "metadata": {},
     "output_type": "execute_result"
    }
   ],
   "source": [
    "a"
   ]
  },
  {
   "cell_type": "code",
   "execution_count": 26,
   "id": "b938e4d9-45fe-4f78-b06a-c165926cda26",
   "metadata": {},
   "outputs": [
    {
     "data": {
      "text/plain": [
       "3"
      ]
     },
     "execution_count": 26,
     "metadata": {},
     "output_type": "execute_result"
    }
   ],
   "source": [
    "c"
   ]
  },
  {
   "cell_type": "code",
   "execution_count": 27,
   "id": "67cb825d-219b-452b-8250-639231536b98",
   "metadata": {},
   "outputs": [
    {
     "data": {
      "text/plain": [
       "4"
      ]
     },
     "execution_count": 27,
     "metadata": {},
     "output_type": "execute_result"
    }
   ],
   "source": [
    "d"
   ]
  },
  {
   "cell_type": "code",
   "execution_count": 31,
   "id": "969171ef-bf43-4b31-8880-c60062068790",
   "metadata": {},
   "outputs": [
    {
     "data": {
      "text/plain": [
       "(1, 28, 'pwskill', 92.87)"
      ]
     },
     "execution_count": 31,
     "metadata": {},
     "output_type": "execute_result"
    }
   ],
   "source": [
    "test3()"
   ]
  },
  {
   "cell_type": "code",
   "execution_count": 32,
   "id": "8feebd53-45af-48d7-ac35-35f1024ba90a",
   "metadata": {},
   "outputs": [
    {
     "data": {
      "text/plain": [
       "'pwskill'"
      ]
     },
     "execution_count": 32,
     "metadata": {},
     "output_type": "execute_result"
    }
   ],
   "source": [
    "test3()[2]"
   ]
  },
  {
   "cell_type": "code",
   "execution_count": 33,
   "id": "974b3c18-6130-4110-bcad-c958a2b1e778",
   "metadata": {},
   "outputs": [
    {
     "data": {
      "text/plain": [
       "'s'"
      ]
     },
     "execution_count": 33,
     "metadata": {},
     "output_type": "execute_result"
    }
   ],
   "source": [
    "test3()[2][2]"
   ]
  },
  {
   "cell_type": "code",
   "execution_count": 34,
   "id": "645c7ff9-3ddb-4c65-88c0-ceff2d6d10d3",
   "metadata": {},
   "outputs": [
    {
     "data": {
      "text/plain": [
       "'llikswp'"
      ]
     },
     "execution_count": 34,
     "metadata": {},
     "output_type": "execute_result"
    }
   ],
   "source": [
    "test3()[2][::-1]"
   ]
  },
  {
   "cell_type": "code",
   "execution_count": 35,
   "id": "7dd1c950-3916-4f14-8ea1-b02cc049c7fe",
   "metadata": {},
   "outputs": [
    {
     "data": {
      "text/plain": [
       "(1, 28, 'pwskill', 92.87)"
      ]
     },
     "execution_count": 35,
     "metadata": {},
     "output_type": "execute_result"
    }
   ],
   "source": [
    "test3()"
   ]
  },
  {
   "cell_type": "code",
   "execution_count": 36,
   "id": "e09094bd-1d19-4a4c-ad4f-2244a353629f",
   "metadata": {},
   "outputs": [],
   "source": [
    "A,B,C,D = test3()"
   ]
  },
  {
   "cell_type": "code",
   "execution_count": 37,
   "id": "f48fa56e-a048-4534-a0bc-251cf604926f",
   "metadata": {},
   "outputs": [
    {
     "data": {
      "text/plain": [
       "1"
      ]
     },
     "execution_count": 37,
     "metadata": {},
     "output_type": "execute_result"
    }
   ],
   "source": [
    "A"
   ]
  },
  {
   "cell_type": "code",
   "execution_count": 38,
   "id": "7f5f5b7a-4e04-4a43-becb-19ecc04ec0c2",
   "metadata": {},
   "outputs": [
    {
     "data": {
      "text/plain": [
       "'pwskill'"
      ]
     },
     "execution_count": 38,
     "metadata": {},
     "output_type": "execute_result"
    }
   ],
   "source": [
    "C"
   ]
  },
  {
   "cell_type": "code",
   "execution_count": 39,
   "id": "2c2061c2-2054-4876-a205-1fdf6d67569d",
   "metadata": {},
   "outputs": [
    {
     "data": {
      "text/plain": [
       "92.87"
      ]
     },
     "execution_count": 39,
     "metadata": {},
     "output_type": "execute_result"
    }
   ],
   "source": [
    "D"
   ]
  },
  {
   "cell_type": "code",
   "execution_count": 40,
   "id": "c96dfd5d-acc5-4cb7-9d3c-aeec055c71df",
   "metadata": {},
   "outputs": [],
   "source": [
    "def test4():\n",
    "    a = 3*4 +7\n",
    "    return a"
   ]
  },
  {
   "cell_type": "code",
   "execution_count": 41,
   "id": "cbedc77d-036d-4a6c-bfdb-2b5ba0154142",
   "metadata": {},
   "outputs": [
    {
     "data": {
      "text/plain": [
       "19"
      ]
     },
     "execution_count": 41,
     "metadata": {},
     "output_type": "execute_result"
    }
   ],
   "source": [
    "test4()"
   ]
  },
  {
   "cell_type": "code",
   "execution_count": 48,
   "id": "d088dea5-aad5-47f0-a5d5-6454fd8eab22",
   "metadata": {},
   "outputs": [],
   "source": [
    "def test5(a,b):\n",
    "    c = a+b\n",
    "    return c"
   ]
  },
  {
   "cell_type": "code",
   "execution_count": 49,
   "id": "ad75577b-cebd-45dd-a0f6-1d6d3a67dcae",
   "metadata": {},
   "outputs": [
    {
     "ename": "TypeError",
     "evalue": "test5() missing 2 required positional arguments: 'a' and 'b'",
     "output_type": "error",
     "traceback": [
      "\u001b[0;31m---------------------------------------------------------------------------\u001b[0m",
      "\u001b[0;31mTypeError\u001b[0m                                 Traceback (most recent call last)",
      "Cell \u001b[0;32mIn[49], line 1\u001b[0m\n\u001b[0;32m----> 1\u001b[0m \u001b[43mtest5\u001b[49m\u001b[43m(\u001b[49m\u001b[43m)\u001b[49m\n",
      "\u001b[0;31mTypeError\u001b[0m: test5() missing 2 required positional arguments: 'a' and 'b'"
     ]
    }
   ],
   "source": [
    "test5()"
   ]
  },
  {
   "cell_type": "code",
   "execution_count": 50,
   "id": "1588ec8f-b7ef-4858-940f-74233ab3df1c",
   "metadata": {},
   "outputs": [
    {
     "data": {
      "text/plain": [
       "8"
      ]
     },
     "execution_count": 50,
     "metadata": {},
     "output_type": "execute_result"
    }
   ],
   "source": [
    "test5(3,5)"
   ]
  },
  {
   "cell_type": "code",
   "execution_count": 51,
   "id": "2326d885-1884-459f-9417-1fbaa46ad09c",
   "metadata": {},
   "outputs": [
    {
     "data": {
      "text/plain": [
       "'Sangram Keshari'"
      ]
     },
     "execution_count": 51,
     "metadata": {},
     "output_type": "execute_result"
    }
   ],
   "source": [
    "test5(\"Sangram\" , \" Keshari\")"
   ]
  },
  {
   "cell_type": "code",
   "execution_count": 52,
   "id": "895e1f48-62e4-4997-8929-dcd3b817225f",
   "metadata": {},
   "outputs": [
    {
     "data": {
      "text/plain": [
       "[1, 2, 3, 4, 5, 6, 7, 8]"
      ]
     },
     "execution_count": 52,
     "metadata": {},
     "output_type": "execute_result"
    }
   ],
   "source": [
    "test5([1,2,3,4],[5,6,7,8])"
   ]
  },
  {
   "cell_type": "code",
   "execution_count": 54,
   "id": "54615aa0-4f25-4f94-b4fd-b60419e00e4e",
   "metadata": {},
   "outputs": [
    {
     "data": {
      "text/plain": [
       "(1, 2, 3, 4, 3, 4, 5, 6)"
      ]
     },
     "execution_count": 54,
     "metadata": {},
     "output_type": "execute_result"
    }
   ],
   "source": [
    "test5((1,2,3,4),(3,4,5,6))"
   ]
  },
  {
   "cell_type": "code",
   "execution_count": 55,
   "id": "70f0323f-6ffa-45ee-a4d9-397d8c1146df",
   "metadata": {},
   "outputs": [
    {
     "ename": "TypeError",
     "evalue": "unsupported operand type(s) for +: 'set' and 'set'",
     "output_type": "error",
     "traceback": [
      "\u001b[0;31m---------------------------------------------------------------------------\u001b[0m",
      "\u001b[0;31mTypeError\u001b[0m                                 Traceback (most recent call last)",
      "Cell \u001b[0;32mIn[55], line 1\u001b[0m\n\u001b[0;32m----> 1\u001b[0m \u001b[43mtest5\u001b[49m\u001b[43m(\u001b[49m\u001b[43m{\u001b[49m\u001b[38;5;241;43m1\u001b[39;49m\u001b[43m,\u001b[49m\u001b[38;5;241;43m2\u001b[39;49m\u001b[43m,\u001b[49m\u001b[38;5;241;43m3\u001b[39;49m\u001b[43m,\u001b[49m\u001b[38;5;241;43m4\u001b[39;49m\u001b[43m}\u001b[49m\u001b[43m,\u001b[49m\u001b[43m{\u001b[49m\u001b[38;5;241;43m3\u001b[39;49m\u001b[43m,\u001b[49m\u001b[38;5;241;43m4\u001b[39;49m\u001b[43m,\u001b[49m\u001b[38;5;241;43m5\u001b[39;49m\u001b[43m,\u001b[49m\u001b[38;5;241;43m6\u001b[39;49m\u001b[43m}\u001b[49m\u001b[43m)\u001b[49m\n",
      "Cell \u001b[0;32mIn[48], line 2\u001b[0m, in \u001b[0;36mtest5\u001b[0;34m(a, b)\u001b[0m\n\u001b[1;32m      1\u001b[0m \u001b[38;5;28;01mdef\u001b[39;00m \u001b[38;5;21mtest5\u001b[39m(a,b):\n\u001b[0;32m----> 2\u001b[0m     c \u001b[38;5;241m=\u001b[39m \u001b[43ma\u001b[49m\u001b[38;5;241;43m+\u001b[39;49m\u001b[43mb\u001b[49m\n\u001b[1;32m      3\u001b[0m     \u001b[38;5;28;01mreturn\u001b[39;00m c\n",
      "\u001b[0;31mTypeError\u001b[0m: unsupported operand type(s) for +: 'set' and 'set'"
     ]
    }
   ],
   "source": [
    "test5({1,2,3,4},{3,4,5,6})"
   ]
  },
  {
   "cell_type": "code",
   "execution_count": 56,
   "id": "b8680f82-87a1-4d33-accf-96fc8cc3be30",
   "metadata": {},
   "outputs": [],
   "source": [
    "def test5(a,b):\n",
    "    c = a.union(b)\n",
    "    return c"
   ]
  },
  {
   "cell_type": "code",
   "execution_count": 57,
   "id": "dd3502cb-333f-4f2e-80a1-a607c4a5e33e",
   "metadata": {},
   "outputs": [
    {
     "data": {
      "text/plain": [
       "{1, 2, 3, 4, 5, 6}"
      ]
     },
     "execution_count": 57,
     "metadata": {},
     "output_type": "execute_result"
    }
   ],
   "source": [
    "test5({1,2,3,4},{3,4,5,6})"
   ]
  },
  {
   "cell_type": "code",
   "execution_count": 58,
   "id": "6deeb32f-1c2a-4146-a1b0-1b903a721267",
   "metadata": {},
   "outputs": [],
   "source": [
    "def test5(a,b):\n",
    "    c = a+b\n",
    "    return c"
   ]
  },
  {
   "cell_type": "code",
   "execution_count": 60,
   "id": "2caa0d24-511c-47db-bad8-aeb369466ee1",
   "metadata": {},
   "outputs": [
    {
     "data": {
      "text/plain": [
       "'sangram Keshari'"
      ]
     },
     "execution_count": 60,
     "metadata": {},
     "output_type": "execute_result"
    }
   ],
   "source": [
    "test5(a = \"sangram \" , b = \"Keshari\")"
   ]
  },
  {
   "cell_type": "code",
   "execution_count": 62,
   "id": "7b51e2eb-c0bd-4d16-ad81-bd9f8109ff3c",
   "metadata": {},
   "outputs": [
    {
     "data": {
      "text/plain": [
       "'Keshari Sangram'"
      ]
     },
     "execution_count": 62,
     "metadata": {},
     "output_type": "execute_result"
    }
   ],
   "source": [
    "test5(b =\" Sangram\" , a = \"Keshari\")"
   ]
  },
  {
   "cell_type": "code",
   "execution_count": 63,
   "id": "2aae07a3-9792-4f80-94a5-f54205be8e75",
   "metadata": {},
   "outputs": [],
   "source": [
    "l1 = [1,2,3,4,5,\"sudh\" , \"pwskills\" , [1,2,3,34,45]]"
   ]
  },
  {
   "cell_type": "code",
   "execution_count": 64,
   "id": "0ee60b89-5961-42d0-bc73-d1eef7ce8473",
   "metadata": {},
   "outputs": [
    {
     "data": {
      "text/plain": [
       "[1, 2, 3, 4, 5, 'sudh', 'pwskills', [1, 2, 3, 34, 45]]"
      ]
     },
     "execution_count": 64,
     "metadata": {},
     "output_type": "execute_result"
    }
   ],
   "source": [
    "l1"
   ]
  },
  {
   "cell_type": "raw",
   "id": "f2004a64-02d6-4b46-9b4e-5f4916983938",
   "metadata": {},
   "source": [
    "#create a function which will take list as a input and give me a final list with all the numeric value"
   ]
  },
  {
   "cell_type": "code",
   "execution_count": 70,
   "id": "1bb5a688-1856-461f-bcea-76eba0759589",
   "metadata": {},
   "outputs": [],
   "source": [
    "def test6(a):\n",
    "    n = []\n",
    "    for i in a :\n",
    "        if type(i) == int or type(i) == float:\n",
    "            n.append(i)\n",
    "    return n"
   ]
  },
  {
   "cell_type": "code",
   "execution_count": 71,
   "id": "e5746f8b-cad8-410e-8afc-942987414c31",
   "metadata": {},
   "outputs": [
    {
     "data": {
      "text/plain": [
       "[1, 2, 3, 4, 5]"
      ]
     },
     "execution_count": 71,
     "metadata": {},
     "output_type": "execute_result"
    }
   ],
   "source": [
    "test6(l1)"
   ]
  },
  {
   "cell_type": "code",
   "execution_count": 73,
   "id": "bf5366bb-5644-4689-8452-74bfdbabc3df",
   "metadata": {},
   "outputs": [
    {
     "data": {
      "text/plain": [
       "[1, 2, 3, 4, 5, 'sudh', 'pwskills', [1, 2, 3, 34, 45]]"
      ]
     },
     "execution_count": 73,
     "metadata": {},
     "output_type": "execute_result"
    }
   ],
   "source": [
    "l1"
   ]
  },
  {
   "cell_type": "code",
   "execution_count": 72,
   "id": "0b3c09bf-b37a-4c0b-bb36-a0035f290a9c",
   "metadata": {},
   "outputs": [],
   "source": [
    "#create a function which will take list as a input and give me a final list with all the numeric value of the list and nested list ."
   ]
  },
  {
   "cell_type": "code",
   "execution_count": 74,
   "id": "f938d79b-727a-452e-bb50-84f0f754be0d",
   "metadata": {},
   "outputs": [],
   "source": [
    "def test7(a):\n",
    "    n = []\n",
    "    for i in a :\n",
    "        if type(i)==list :\n",
    "            for j in i :\n",
    "                if type(j)==int or type(j)==float:\n",
    "                    n.append(j)\n",
    "        else:\n",
    "            if type(i)==int or type(i)==float:\n",
    "                n.append(i)\n",
    "    return n"
   ]
  },
  {
   "cell_type": "code",
   "execution_count": 75,
   "id": "bcf46697-7a2d-4889-b8ad-071881ea0a65",
   "metadata": {},
   "outputs": [
    {
     "data": {
      "text/plain": [
       "[1, 2, 3, 4, 5, 1, 2, 3, 34, 45]"
      ]
     },
     "execution_count": 75,
     "metadata": {},
     "output_type": "execute_result"
    }
   ],
   "source": [
    "test7(l1)"
   ]
  },
  {
   "cell_type": "code",
   "execution_count": 76,
   "id": "854bfd14-485d-40b5-9558-68122468d04d",
   "metadata": {},
   "outputs": [],
   "source": [
    "l2 =[1, 2, 3, 4, 5, 'sudh', 'pwskills', [98.67,23.43,43,78],50,32,28,{6,7,8},9,(11,12,13,14)]"
   ]
  },
  {
   "cell_type": "code",
   "execution_count": 77,
   "id": "9dcad325-5e4e-4ea3-830b-a21381eee108",
   "metadata": {},
   "outputs": [
    {
     "data": {
      "text/plain": [
       "[1, 2, 3, 4, 5, 98.67, 23.43, 43, 78, 50, 32, 28, 9]"
      ]
     },
     "execution_count": 77,
     "metadata": {},
     "output_type": "execute_result"
    }
   ],
   "source": [
    "test7(l2)"
   ]
  },
  {
   "cell_type": "code",
   "execution_count": 4,
   "id": "22c72509-c099-4649-8341-45ec14e9c18d",
   "metadata": {},
   "outputs": [],
   "source": [
    "def test1(a,b,c,d,e):\n",
    "    pass"
   ]
  },
  {
   "cell_type": "code",
   "execution_count": 5,
   "id": "a0d22139-c912-42f5-a072-5f6faf9f1d28",
   "metadata": {},
   "outputs": [
    {
     "data": {
      "text/plain": [
       "<function __main__.test1(a, b, c, d, e)>"
      ]
     },
     "execution_count": 5,
     "metadata": {},
     "output_type": "execute_result"
    }
   ],
   "source": [
    "test1"
   ]
  },
  {
   "cell_type": "code",
   "execution_count": 8,
   "id": "f8b9ed47-7c6a-4f44-9860-eae68d2d67cc",
   "metadata": {},
   "outputs": [
    {
     "ename": "TypeError",
     "evalue": "test1() takes 5 positional arguments but 6 were given",
     "output_type": "error",
     "traceback": [
      "\u001b[0;31m---------------------------------------------------------------------------\u001b[0m",
      "\u001b[0;31mTypeError\u001b[0m                                 Traceback (most recent call last)",
      "Cell \u001b[0;32mIn[8], line 1\u001b[0m\n\u001b[0;32m----> 1\u001b[0m \u001b[43mtest1\u001b[49m\u001b[43m(\u001b[49m\u001b[38;5;241;43m1\u001b[39;49m\u001b[43m,\u001b[49m\u001b[38;5;241;43m2\u001b[39;49m\u001b[43m,\u001b[49m\u001b[38;5;241;43m3\u001b[39;49m\u001b[43m,\u001b[49m\u001b[38;5;241;43m4\u001b[39;49m\u001b[43m,\u001b[49m\u001b[38;5;241;43m5\u001b[39;49m\u001b[43m,\u001b[49m\u001b[38;5;241;43m6\u001b[39;49m\u001b[43m)\u001b[49m\n",
      "\u001b[0;31mTypeError\u001b[0m: test1() takes 5 positional arguments but 6 were given"
     ]
    }
   ],
   "source": [
    "test1(1,2,3,4,5,6)"
   ]
  },
  {
   "cell_type": "code",
   "execution_count": 9,
   "id": "5020f249-af89-441e-8ef9-9d43d1e8847e",
   "metadata": {},
   "outputs": [],
   "source": [
    "def test1(*args) :\n",
    "    return args"
   ]
  },
  {
   "cell_type": "code",
   "execution_count": 10,
   "id": "1cdc02fd-8801-4f65-a8ad-71772991b478",
   "metadata": {},
   "outputs": [
    {
     "data": {
      "text/plain": [
       "(1, 2, 3, 4, 5, 6, 7)"
      ]
     },
     "execution_count": 10,
     "metadata": {},
     "output_type": "execute_result"
    }
   ],
   "source": [
    "test1(1,2,3,4,5,6,7)"
   ]
  },
  {
   "cell_type": "code",
   "execution_count": 12,
   "id": "97be6eea-6a02-44b0-ba62-75cbc19f6002",
   "metadata": {},
   "outputs": [
    {
     "data": {
      "text/plain": [
       "(2,)"
      ]
     },
     "execution_count": 12,
     "metadata": {},
     "output_type": "execute_result"
    }
   ],
   "source": [
    "test1(2)"
   ]
  },
  {
   "cell_type": "code",
   "execution_count": 13,
   "id": "3105b2fb-86bc-4115-9ddd-26eca77c657b",
   "metadata": {},
   "outputs": [
    {
     "data": {
      "text/plain": [
       "('Sangram', (1, 2, 3, 4), [5, 6, 7, 8], {9, 10})"
      ]
     },
     "execution_count": 13,
     "metadata": {},
     "output_type": "execute_result"
    }
   ],
   "source": [
    "test1(\"Sangram\" ,(1,2,3,4),[5,6,7,8],{9,10})"
   ]
  },
  {
   "cell_type": "code",
   "execution_count": 14,
   "id": "f595922d-4ce9-4dee-a8bf-f5f121184912",
   "metadata": {},
   "outputs": [],
   "source": [
    "def test2(*sang):\n",
    "    return sang"
   ]
  },
  {
   "cell_type": "code",
   "execution_count": 15,
   "id": "56338be6-f57e-418f-a146-2977387257e3",
   "metadata": {},
   "outputs": [
    {
     "data": {
      "text/plain": [
       "('Sangram', (1, 2, 3, 4), [5, 6, 7, 8], {9, 10})"
      ]
     },
     "execution_count": 15,
     "metadata": {},
     "output_type": "execute_result"
    }
   ],
   "source": [
    "test2(\"Sangram\" ,(1,2,3,4),[5,6,7,8],{9,10})"
   ]
  },
  {
   "cell_type": "code",
   "execution_count": 17,
   "id": "9899f891-bd5b-426f-a3ed-98c0f1d6a22d",
   "metadata": {},
   "outputs": [],
   "source": [
    "def test3(*args,a):\n",
    "    \n",
    "    return args,a"
   ]
  },
  {
   "cell_type": "code",
   "execution_count": 18,
   "id": "c8b9425d-95fe-4095-a6e6-7bfb5b5f05b8",
   "metadata": {},
   "outputs": [
    {
     "ename": "TypeError",
     "evalue": "test3() missing 1 required keyword-only argument: 'a'",
     "output_type": "error",
     "traceback": [
      "\u001b[0;31m---------------------------------------------------------------------------\u001b[0m",
      "\u001b[0;31mTypeError\u001b[0m                                 Traceback (most recent call last)",
      "Cell \u001b[0;32mIn[18], line 1\u001b[0m\n\u001b[0;32m----> 1\u001b[0m \u001b[43mtest3\u001b[49m\u001b[43m(\u001b[49m\u001b[38;5;241;43m1\u001b[39;49m\u001b[43m,\u001b[49m\u001b[38;5;241;43m2\u001b[39;49m\u001b[43m,\u001b[49m\u001b[38;5;241;43m3\u001b[39;49m\u001b[43m,\u001b[49m\u001b[38;5;241;43m4\u001b[39;49m\u001b[43m,\u001b[49m\u001b[38;5;241;43m5\u001b[39;49m\u001b[43m)\u001b[49m\n",
      "\u001b[0;31mTypeError\u001b[0m: test3() missing 1 required keyword-only argument: 'a'"
     ]
    }
   ],
   "source": [
    "test3(1,2,3,4,5)"
   ]
  },
  {
   "cell_type": "code",
   "execution_count": 20,
   "id": "8275c0ac-5d05-4b00-b795-882cd5b06303",
   "metadata": {},
   "outputs": [
    {
     "data": {
      "text/plain": [
       "((1, 2, 3, 4, 5), 9)"
      ]
     },
     "execution_count": 20,
     "metadata": {},
     "output_type": "execute_result"
    }
   ],
   "source": [
    "test3(1,2,3,4,5,a = 9)"
   ]
  },
  {
   "cell_type": "code",
   "execution_count": 24,
   "id": "a9ede61b-220d-4776-a8ff-04cced1f8f63",
   "metadata": {},
   "outputs": [],
   "source": [
    "def test4(*args):\n",
    "    l = []\n",
    "    for i in args :\n",
    "        if type(i) == list :\n",
    "            l.append(i) \n",
    "    return l"
   ]
  },
  {
   "cell_type": "code",
   "execution_count": 25,
   "id": "53c6e530-5fbb-4efd-83fa-3af183c6f86e",
   "metadata": {},
   "outputs": [
    {
     "data": {
      "text/plain": [
       "[[1, 2, 3, 4], [8, 9]]"
      ]
     },
     "execution_count": 25,
     "metadata": {},
     "output_type": "execute_result"
    }
   ],
   "source": [
    "test4(1,2,3,4,\"sangram\",[1,2,3,4],(5,6,7),[8,9],{9,10,11})"
   ]
  },
  {
   "cell_type": "code",
   "execution_count": 26,
   "id": "4116b937-b2de-44d6-9c9b-166151d5b8fe",
   "metadata": {},
   "outputs": [],
   "source": [
    "def test5(**kargs):\n",
    "    return kargs"
   ]
  },
  {
   "cell_type": "code",
   "execution_count": 27,
   "id": "e035f29e-e25b-4fde-b574-f2e1079b915c",
   "metadata": {},
   "outputs": [
    {
     "data": {
      "text/plain": [
       "{}"
      ]
     },
     "execution_count": 27,
     "metadata": {},
     "output_type": "execute_result"
    }
   ],
   "source": [
    "test5()"
   ]
  },
  {
   "cell_type": "code",
   "execution_count": 28,
   "id": "e54d5054-1bce-470e-93ca-e8ada99adc9b",
   "metadata": {},
   "outputs": [
    {
     "data": {
      "text/plain": [
       "dict"
      ]
     },
     "execution_count": 28,
     "metadata": {},
     "output_type": "execute_result"
    }
   ],
   "source": [
    "type(test5())"
   ]
  },
  {
   "cell_type": "code",
   "execution_count": 29,
   "id": "f581f029-d819-4d3a-afc2-2dd6ffd905c1",
   "metadata": {},
   "outputs": [
    {
     "data": {
      "text/plain": [
       "{'a': 35, 'b': 28, 'c': 56, 'd': 67}"
      ]
     },
     "execution_count": 29,
     "metadata": {},
     "output_type": "execute_result"
    }
   ],
   "source": [
    "test5(a = 35, b =28, c=56, d =67)"
   ]
  },
  {
   "cell_type": "code",
   "execution_count": 36,
   "id": "384ff798-f667-44e5-9157-c81f8bba5b17",
   "metadata": {},
   "outputs": [],
   "source": [
    "def test6(**kwargs):\n",
    "    for i in kwargs.keys():\n",
    "        if type(kwargs[i]) == list :\n",
    "            return i, kwargs[i]"
   ]
  },
  {
   "cell_type": "code",
   "execution_count": 37,
   "id": "b15f9cd5-3b51-4f70-85bb-ad616873e12f",
   "metadata": {},
   "outputs": [
    {
     "data": {
      "text/plain": [
       "('b', [3, 4, 5, 6, 7])"
      ]
     },
     "execution_count": 37,
     "metadata": {},
     "output_type": "execute_result"
    }
   ],
   "source": [
    "test6(a=89, b = [3,4,5,6,7], c = (1,2,3,4), d = {5,6,7,8} , e =\"Sangram\")"
   ]
  },
  {
   "cell_type": "code",
   "execution_count": 38,
   "id": "eaaa5f7e-da04-4a00-aaff-823d89a2b414",
   "metadata": {},
   "outputs": [],
   "source": [
    "def test7(*args,**kwargs):\n",
    "    return args,kwargs"
   ]
  },
  {
   "cell_type": "code",
   "execution_count": 41,
   "id": "a5e5db41-77f1-4cd4-80af-5107a668cf2e",
   "metadata": {},
   "outputs": [
    {
     "data": {
      "text/plain": [
       "((1, 2, 3, 4, 5, 6, 7, (1, 2, 3, 4, 5, 6)), {'a': 23, 'b': 45, 'c': 67})"
      ]
     },
     "execution_count": 41,
     "metadata": {},
     "output_type": "execute_result"
    }
   ],
   "source": [
    "test7(1,2,3,4,5,6,7,(1,2,3,4,5,6),a=23,b=45,c=67 )"
   ]
  },
  {
   "cell_type": "code",
   "execution_count": 42,
   "id": "fbe48668-df6e-4661-a238-7f8bdf88ce8c",
   "metadata": {},
   "outputs": [
    {
     "name": "stdout",
     "output_type": "stream",
     "text": [
      "1\n",
      "2\n",
      "3\n",
      "4\n",
      "5\n",
      "6\n",
      "7\n",
      "8\n",
      "9\n"
     ]
    }
   ],
   "source": [
    "for i in range (1,10):\n",
    "    print(i)"
   ]
  },
  {
   "cell_type": "code",
   "execution_count": 43,
   "id": "e3e9fbbf-9894-4f2d-88af-1f11b378cd45",
   "metadata": {},
   "outputs": [],
   "source": [
    "l =[1,2,3,4,5,6,7,\"PWSkills\",\"DataScience\"]"
   ]
  },
  {
   "cell_type": "code",
   "execution_count": 44,
   "id": "837bc502-9ca1-48fe-a35c-edac3264f845",
   "metadata": {},
   "outputs": [],
   "source": [
    "def test_1(a):\n",
    "    l1 = []\n",
    "    for i in a:\n",
    "        if type(i) == int :\n",
    "            l1.append(i)\n",
    "    return l1"
   ]
  },
  {
   "cell_type": "code",
   "execution_count": 45,
   "id": "c7402d76-8430-4045-8b57-39477d1bc41b",
   "metadata": {},
   "outputs": [
    {
     "data": {
      "text/plain": [
       "[1, 2, 3, 4, 5, 6, 7]"
      ]
     },
     "execution_count": 45,
     "metadata": {},
     "output_type": "execute_result"
    }
   ],
   "source": [
    "test_1(l)"
   ]
  },
  {
   "cell_type": "markdown",
   "id": "47352f9d-52d7-4c55-8301-bf2337f0bbe7",
   "metadata": {},
   "source": [
    "# Fibonaci Series:-\n",
    "# 0,1,1,2,3,5,8,13,21,34........"
   ]
  },
  {
   "cell_type": "code",
   "execution_count": 47,
   "id": "17439395-a72b-49c2-8162-d3d6ee85e6ee",
   "metadata": {},
   "outputs": [],
   "source": [
    "def test_fib(n):\n",
    "    a,b = 0,1\n",
    "    for i in range(n):\n",
    "        yield a\n",
    "        a,b = b,a+b\n",
    "        "
   ]
  },
  {
   "cell_type": "code",
   "execution_count": 48,
   "id": "c4fa84d6-63f1-49f6-bb9e-c9a3656a6413",
   "metadata": {},
   "outputs": [
    {
     "data": {
      "text/plain": [
       "<generator object test_fib at 0x7f529e647f40>"
      ]
     },
     "execution_count": 48,
     "metadata": {},
     "output_type": "execute_result"
    }
   ],
   "source": [
    "test_fib(10)"
   ]
  },
  {
   "cell_type": "code",
   "execution_count": 49,
   "id": "15e64461-890d-4632-b0e1-1e13fc41ede0",
   "metadata": {},
   "outputs": [
    {
     "name": "stdout",
     "output_type": "stream",
     "text": [
      "0\n",
      "1\n",
      "1\n",
      "2\n",
      "3\n",
      "5\n",
      "8\n",
      "13\n",
      "21\n",
      "34\n"
     ]
    }
   ],
   "source": [
    "for i in test_fib(10):\n",
    "    print(i)"
   ]
  },
  {
   "cell_type": "code",
   "execution_count": null,
   "id": "79ba7a01-e73e-46d7-a5c1-952e3c27b3bf",
   "metadata": {},
   "outputs": [],
   "source": []
  }
 ],
 "metadata": {
  "kernelspec": {
   "display_name": "Python 3 (ipykernel)",
   "language": "python",
   "name": "python3"
  },
  "language_info": {
   "codemirror_mode": {
    "name": "ipython",
    "version": 3
   },
   "file_extension": ".py",
   "mimetype": "text/x-python",
   "name": "python",
   "nbconvert_exporter": "python",
   "pygments_lexer": "ipython3",
   "version": "3.10.8"
  }
 },
 "nbformat": 4,
 "nbformat_minor": 5
}
